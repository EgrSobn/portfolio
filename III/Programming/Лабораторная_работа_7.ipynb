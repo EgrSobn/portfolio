{
  "nbformat": 4,
  "nbformat_minor": 0,
  "metadata": {
    "colab": {
      "provenance": []
    },
    "kernelspec": {
      "name": "python3",
      "display_name": "Python 3"
    },
    "language_info": {
      "name": "python"
    }
  },
  "cells": [
    {
      "cell_type": "markdown",
      "source": [
        "# Лабораторная работа 7\n"
      ],
      "metadata": {
        "id": "rUaIg9KXWRfl"
      }
    },
    {
      "cell_type": "markdown",
      "source": [
        "**Задание:**\n",
        "На основе кода ниже и данных, размещенных выше, реализуйте:\n",
        "\n",
        "1. Визуализацию данных.\n",
        "2. Линейную модель, которая учитывала бы только размер жилья.\n",
        "3. Полиномиальную модель (степени 2 и 3), учитывающую только размер жилья.\n",
        "4. Линейную модель (с помощью scikit-learn), которая учитывала бы размер жилья и количество комнат (см. Примечание 1)\n",
        "5. Предскажите значения для двух объектах недвижимости с использованием этих трех моделей: 1650,3; 2200,4.\n",
        "6. В ответе к лабораторной работе и в колабе представьте предсказанные значения стоимости объектов недвижимости для всех построенных моделей.\n",
        "7. Оцените ошибку для созданных моделей. Опишите какая ошибка больше, а какая меньше и укажите причину."
      ],
      "metadata": {
        "id": "Isw0mCNQjrJ6"
      }
    },
    {
      "cell_type": "code",
      "source": [
        "%%capture\n",
        "!wget https://gist.githubusercontent.com/nzhukov/3f5d37624c0cdce27f19cf7dad8fd29a/raw/7d3cba39872ee086c698e1fa2b283c45d064979d/ex1data2.txt  # этот пункт можно не выполнять,\n",
        "# данные лежат в Moodle: Источник данных ИСР 1.3."
      ],
      "metadata": {
        "id": "3kLLuCTqj72Q"
      },
      "execution_count": null,
      "outputs": []
    },
    {
      "cell_type": "code",
      "source": [
        "import numpy as np\n",
        "import matplotlib.pyplot as plt\n",
        "\n",
        "data = np.genfromtxt(\"web_traffic.tsv\", delimiter=\"\\t\")\n",
        "x = data[:,0]\n",
        "y = data[:,1]\n",
        "\n",
        "x = x[~np.isnan(y)]\n",
        "y = y[~np.isnan(y)]\n",
        "\n",
        "\n",
        "f1p, residuals, rank, sv, rcond = np.polyfit(x, y, 1, full=True)\n",
        "f1 = np.poly1d(f1p)\n",
        "fx = np.linspace(0,x[-1],500)\n",
        "\n",
        "plt.scatter(x, y, s=10)\n",
        "plt.plot(fx,f1(fx),linewidth=1.0,color='r')\n",
        "plt.title('Трафик веб-сайта за последний месяц')\n",
        "plt.xlabel(\"время\")\n",
        "plt.ylabel(\"запросы/час\")\n",
        "plt.xticks([w*7*24 for w in range(10)],\n",
        "           [\"неделя %i\" % w for w in range(10)])\n",
        "plt.autoscale(tight=True)\n",
        "plt.grid(True, linestyle=\"-\", color='0.8')\n",
        "plt.show()"
      ],
      "metadata": {
        "id": "oDHSXIdlkAVs"
      },
      "execution_count": null,
      "outputs": []
    },
    {
      "cell_type": "markdown",
      "source": [
        "**Примечание 1**\n",
        "\n",
        "Следует заметить, что метод polyfit подходит только для создания модели, предсказывающей значение целевого параметра по **одной** переменной (мы используем размер дома). Однако, в этом пункте требуется создать модель, которая будет учитывать **и размер дома, и количество комнат**.  Поэтому polyfit нам не подходит.\n",
        "\n",
        "Для выполнения этого пункта следует использовать пакет scikit learn и оттуда модуль LinearRegression. Здесь может возникнуть путаница в понятиях \"полиномиальная\" модель находится в блоке [LinearRegression](https://scikit-learn.org/stable/modules/generated/sklearn.linear_model.LinearRegression.html#sklearn.linear_model.LinearRegression)? Да, \"полиномиальность\" здесь - просто характеристика целевой функции модели. При этом модель всё равно предполагает, что целевой параметр и фичи модели **линейно** связаны — поэтому «линейная».\n",
        "\n",
        "По ссылкам ниже вы найдете примеры использование этой модели:\n",
        "\n",
        "* https://scikit-learn.org/stable/auto_examples/linear_model/plot_ols.html#sphx-glr-auto-examples-linear-model-plot-ols-py\n",
        "* https://towardsdatascience.com/polynomial-regression-bbe8b9d97491\n",
        "* http://espressocode.top/python-implementation-of-polynomial-regression/"
      ],
      "metadata": {
        "id": "2pHEsmI2kEhp"
      }
    },
    {
      "cell_type": "markdown",
      "source": [
        "# Решение"
      ],
      "metadata": {
        "id": "_txbIl35kl-g"
      }
    },
    {
      "cell_type": "code",
      "source": [
        "%%capture\n",
        "!wget https://gist.githubusercontent.com/nzhukov/3f5d37624c0cdce27f19cf7dad8fd29a/raw/7d3cba39872ee086c698e1fa2b283c45d064979d/ex1data2.txt  # этот пункт можно не выполнять,\n",
        "# данные лежат в Moodle: Источник данных ИСР 1.3."
      ],
      "metadata": {
        "id": "Mcrw5bDAWcXS"
      },
      "execution_count": null,
      "outputs": []
    },
    {
      "cell_type": "code",
      "source": [
        "import numpy as np\n",
        "import matplotlib.pyplot as plt\n",
        "from sklearn.linear_model import LinearRegression\n",
        "from sklearn.model_selection import train_test_split\n",
        "from sklearn.metrics import mean_squared_error, mean_absolute_error\n",
        "from sklearn.preprocessing import PolynomialFeatures\n",
        "\n",
        "def reading_a_file():\n",
        "  import pandas as pd\n",
        "\n",
        "  # указываем путь к файлу\n",
        "  file_path = \"ex1data2.txt\"\n",
        "\n",
        "  # читаем данные из файла в DataFrame без первой строки (skiprows)\n",
        "  data = pd.read_csv(file_path, header=None, names=[\"square_house\", \"number_of_rooms\", \"cost\"], skiprows=1)\n",
        "\n",
        "  return data\n",
        "\n",
        "data = reading_a_file()"
      ],
      "metadata": {
        "id": "nqTVdQxPWmVs"
      },
      "execution_count": null,
      "outputs": []
    },
    {
      "cell_type": "markdown",
      "source": [
        "1. Визуализация данных"
      ],
      "metadata": {
        "id": "RvEQpMqojKJN"
      }
    },
    {
      "cell_type": "code",
      "source": [
        "def visualization(data):\n",
        "  # график соотношения площади и стоимости\n",
        "  plt.scatter(data[\"square_house\"], data[\"cost\"])\n",
        "  plt.xlabel(\"Площадь дома\")\n",
        "  plt.ylabel(\"Стоимость\")\n",
        "  plt.show()\n",
        "\n",
        "  # график соотношения размера жилья и стоимости\n",
        "  plt.scatter(data[\"number_of_rooms\"], data[\"cost\"])\n",
        "  plt.xlabel(\"Размер жилья (количество комнат)\")\n",
        "  plt.ylabel(\"Стоимость\")\n",
        "  plt.show()\n",
        "\n",
        "  # график соотношения размера жилья и площади\n",
        "  plt.scatter(data[\"number_of_rooms\"], data[\"square_house\"])\n",
        "  plt.xlabel(\"Размер жилья (количество комнат)\")\n",
        "  plt.ylabel(\"Площадь дома\")\n",
        "  plt.show()\n",
        "\n",
        "# visualization(data)"
      ],
      "metadata": {
        "id": "s6mMensKitrm"
      },
      "execution_count": null,
      "outputs": []
    },
    {
      "cell_type": "markdown",
      "source": [
        "2. Линейная модель, которая учитывает только размер жилья"
      ],
      "metadata": {
        "id": "i-b1v-lEjEGk"
      }
    },
    {
      "cell_type": "code",
      "source": [
        "def training(data, list):\n",
        "  # Извлекаем значения признака 'square_house' и целевую переменную 'cost'\n",
        "  X = data[['square_house']]\n",
        "  y = data['cost']\n",
        "\n",
        "  # Создаем объект линейной регрессии\n",
        "  model = LinearRegression()\n",
        "\n",
        "  # Обучаем модель на данных\n",
        "  model.fit(X, y)\n",
        "\n",
        "  # Чтобы предсказать цену жилья для дома площадью 2000 кв. футов, можно вызвать метод predict\n",
        "  for res in list:\n",
        "    predicted_cost = model.predict([[res]])\n",
        "    print(predicted_cost)\n",
        "\n",
        "training(data, [1650.3, 2200.4])"
      ],
      "metadata": {
        "colab": {
          "base_uri": "https://localhost:8080/"
        },
        "id": "8kEPTx93i0IW",
        "outputId": "77b318b5-679e-4f83-e568-ca1cda2f6b1d"
      },
      "execution_count": null,
      "outputs": [
        {
          "output_type": "stream",
          "name": "stdout",
          "text": [
            "[293277.57477344]\n",
            "[367279.93554835]\n"
          ]
        },
        {
          "output_type": "stream",
          "name": "stderr",
          "text": [
            "/usr/local/lib/python3.10/dist-packages/sklearn/base.py:439: UserWarning: X does not have valid feature names, but LinearRegression was fitted with feature names\n",
            "  warnings.warn(\n",
            "/usr/local/lib/python3.10/dist-packages/sklearn/base.py:439: UserWarning: X does not have valid feature names, but LinearRegression was fitted with feature names\n",
            "  warnings.warn(\n"
          ]
        }
      ]
    },
    {
      "cell_type": "markdown",
      "source": [
        "3. Полиномиальная модель (степени 2 и 3), учитывающая только размер жилья"
      ],
      "metadata": {
        "id": "bqTTBXlDnFEJ"
      }
    },
    {
      "cell_type": "code",
      "source": [
        "def polynomial(data, list):\n",
        "  import operator\n",
        "\n",
        "  # список степеней p полиномов, который мы протестируем\n",
        "  degree_list = [2,3]\n",
        "  degree_color = ['blue','red']\n",
        "\n",
        "  # разделение данных на признаки (X) и целевую переменную (y)\n",
        "  x = data[\"square_house\"]\n",
        "  y = data[\"cost\"]\n",
        "\n",
        "  x = x[:, np.newaxis]\n",
        "  y = y[:, np.newaxis]\n",
        "\n",
        "  plt.scatter(x, y, s=10)\n",
        "\n",
        "  for deg in degree_list:\n",
        "    X_poly = PolynomialFeatures(deg).fit_transform(x)\n",
        "\n",
        "    model = LinearRegression().fit(X_poly, y)\n",
        "    y_pred = model.predict(X_poly)\n",
        "\n",
        "    MSE = round(mean_squared_error(y, y_pred), 2)\n",
        "    RMSE = round(MSE**(1/2),2)\n",
        "    MAE = round(mean_absolute_error(y, y_pred),2)\n",
        "\n",
        "    print(f\"Степень полинома {deg} MSE = {MSE} RMSE = {RMSE} MAE = {MAE}\")\n",
        "\n",
        "    sort_axis = operator.itemgetter(0)\n",
        "    sorted_zip = sorted(zip(x,y_pred), key=sort_axis)\n",
        "    x_sorted, y_pred_sorted = zip(*sorted_zip)\n",
        "    plt.plot(x_sorted, y_pred_sorted, degree_color[degree_list.index(deg)])\n",
        "\n",
        "  plt.xlabel('Метр квадратный')\n",
        "  plt.ylabel('Цена')\n",
        "  plt.show()\n",
        "\n",
        "  list_poly = PolynomialFeatures(deg).fit_transform(list)\n",
        "  print(model.predict(list_poly))\n",
        "\n",
        "polynomial(data, [[1650.3], [2200.4]])"
      ],
      "metadata": {
        "colab": {
          "base_uri": "https://localhost:8080/",
          "height": 588
        },
        "id": "Ctp0T5gWjlJ0",
        "outputId": "e3b1625b-0960-4420-c17f-82105673acd4"
      },
      "execution_count": null,
      "outputs": [
        {
          "output_type": "stream",
          "name": "stderr",
          "text": [
            "<ipython-input-5-e8ba22155243>:12: FutureWarning: Support for multi-dimensional indexing (e.g. `obj[:, None]`) is deprecated and will be removed in a future version.  Convert to a numpy array before indexing instead.\n",
            "  x = x[:, np.newaxis]\n",
            "<ipython-input-5-e8ba22155243>:13: FutureWarning: Support for multi-dimensional indexing (e.g. `obj[:, None]`) is deprecated and will be removed in a future version.  Convert to a numpy array before indexing instead.\n",
            "  y = y[:, np.newaxis]\n"
          ]
        },
        {
          "output_type": "stream",
          "name": "stdout",
          "text": [
            "Степень полинома 2 MSE = 4115290102.06 RMSE = 64150.53 MAE = 51990.96\n",
            "Степень полинома 3 MSE = 4009385955.44 RMSE = 63319.71 MAE = 51519.34\n"
          ]
        },
        {
          "output_type": "display_data",
          "data": {
            "text/plain": [
              "<Figure size 640x480 with 1 Axes>"
            ],
            "image/png": "[encoded data removed]"
          },
          "metadata": {}
        },
        {
          "output_type": "stream",
          "name": "stdout",
          "text": [
            "[[285461.71638437]\n",
            " [365888.18138027]]\n"
          ]
        }
      ]
    },
    {
      "cell_type": "markdown",
      "source": [
        "4. Линейная модель (с помощью scikit-learn), которая учитывет размер жилья и количество комнат"
      ],
      "metadata": {
        "id": "Rtf1o7VSni83"
      }
    },
    {
      "cell_type": "code",
      "source": [
        "# разделяем данные на обучающую и тестовую выборки\n",
        "X = data[[\"square_house\", \"number_of_rooms\"]]\n",
        "y = data[\"cost\"]\n",
        "X_train, X_test, y_train, y_test = train_test_split(X, y, test_size=0.2, random_state=42)\n",
        "\n",
        "# создаем объект модели и обучаем ее на обучающей выборке\n",
        "model = LinearRegression()\n",
        "model.fit(X_train, y_train)\n",
        "\n",
        "# оцениваем качество модели на тестовой выборке\n",
        "score = model.score(X_test, y_test)\n",
        "print(\"Score:\", score)\n",
        "\n",
        "X_new = np.array([[1650.3, 3]])\n",
        "y_pred = model.predict(X_new)\n",
        "print(\"Прогнозируемая цена для [1650.3, 3]:\", y_pred[0])\n",
        "\n",
        "X_new = np.array([[2200.4, 4]])\n",
        "y_pred = model.predict(X_new)\n",
        "print(\"Прогнозируемая цена для [2200.4, 4]:\", y_pred[0])"
      ],
      "metadata": {
        "colab": {
          "base_uri": "https://localhost:8080/"
        },
        "id": "nom9R7WinK2A",
        "outputId": "61d34c79-3823-40f7-c4e1-0f20c7731e93"
      },
      "execution_count": null,
      "outputs": [
        {
          "output_type": "stream",
          "name": "stdout",
          "text": [
            "Score: 0.5148848812741439\n",
            "Прогнозируемая цена для [1650.3, 3]: 280579.4726707593\n",
            "Прогнозируемая цена для [2200.4, 4]: 345851.4227202811\n"
          ]
        },
        {
          "output_type": "stream",
          "name": "stderr",
          "text": [
            "/usr/local/lib/python3.10/dist-packages/sklearn/base.py:439: UserWarning: X does not have valid feature names, but LinearRegression was fitted with feature names\n",
            "  warnings.warn(\n",
            "/usr/local/lib/python3.10/dist-packages/sklearn/base.py:439: UserWarning: X does not have valid feature names, but LinearRegression was fitted with feature names\n",
            "  warnings.warn(\n"
          ]
        }
      ]
    },
    {
      "cell_type": "markdown",
      "source": [
        "5. Предскажите значения для двух объектах недвижимости с использованием этих трех моделей: 1650,3; 2200,4"
      ],
      "metadata": {
        "id": "KZ0YFoiSoq5u"
      }
    },
    {
      "cell_type": "markdown",
      "source": [
        "Значения для двух объектах недвижимости с использованием этих трех моделей: 1650,3; 2200,4.\n",
        "\n",
        "1. Линейную модель, которая учитывала бы только размер жилья: [293277.57477344][367279.93554835]\n",
        "2. Полиномиальную модель (степени 2 и 3), учитывающую только размер жилья: [285461.71638437][365888.18138027]\n",
        "3. Линейную модель (с помощью scikit-learn), которая учитывала бы размер жилья и количество комнат: [280579.4726707593][345851.4227202811]"
      ],
      "metadata": {
        "id": "lcC1sODyrQhI"
      }
    },
    {
      "cell_type": "markdown",
      "source": [
        "# Вывод"
      ],
      "metadata": {
        "id": "LK_MjoCktFYq"
      }
    },
    {
      "cell_type": "markdown",
      "source": [
        "**Одна модель** учитывает только размер жилья, игнорируя другие факторы, такие как количество комнат, что может привести к ошибкам в оценке цены. Другая модель - **полиномиальная (степени 2 и 3)** - учитывает квадратичную и кубическую зависимости размера жилья от цены, но также не учитывает количество комнат. Следовательно, эти модели могут иметь более высокую ошибку, чем линейная модель, которая использует **scikit-learn** и учитывает оба важных фактора: размер жилья и количество комнат. В результате ошибка этой модели может быть меньше, чем у других моделей."
      ],
      "metadata": {
        "id": "7mnjHQTJsnDj"
      }
    }
  ]
}