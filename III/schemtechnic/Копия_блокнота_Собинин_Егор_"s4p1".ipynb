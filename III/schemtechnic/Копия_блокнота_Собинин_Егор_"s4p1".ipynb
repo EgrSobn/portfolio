{
  "nbformat": 4,
  "nbformat_minor": 0,
  "metadata": {
    "colab": {
      "provenance": []
    },
    "kernelspec": {
      "name": "python3",
      "display_name": "Python 3"
    },
    "accelerator": "GPU"
  },
  "cells": [
    {
      "cell_type": "markdown",
      "source": [
        "Перед запуском данного борда необходимо сделать следующее:\n",
        "\n",
        "0. Сделать копию борда через меню \"Файл\" / \"File\".\n",
        "1. Выбрать пункт \"Среда выполнения\" или \"Runtime\" и выберите GPU в качестве аппаратного ускорителя в пункте меню \"Сменить среду выполнения\".\n",
        "2. При работе локально рекомендуется устанавливать именно в таком порядке как указано в этом борде, т.е. сначала TensorFlow, потом Keras.\n"
      ],
      "metadata": {
        "id": "jDpcZ7wo8L5A"
      }
    },
    {
      "cell_type": "markdown",
      "metadata": {
        "id": "tSsFNcn3umTW"
      },
      "source": [
        "# Нейронные сети и Keras: быстрый старт\n",
        "\n",
        "Перед запуском данного борда необходимо сделать следующее:\n",
        "\n",
        "0. Сделать копию борда через меню \"Файл\" / \"File\".\n",
        "1. Выбрать пункт \"Среда выполнения\" или \"Runtime\" и выберите GPU в качестве аппаратного ускорителя в пункте меню \"Сменить среду выполнения\".\n",
        "2. При работе локально рекомендуется устанавливать именно в таком порядке как указано в этом борде, т.е. сначала TensorFlow, потом Keras.\n",
        "\n"
      ]
    },
    {
      "cell_type": "markdown",
      "metadata": {
        "id": "x1BwVpklQzUN"
      },
      "source": [
        "## **Глубокое машинное обучение**\n",
        "\n",
        "<img src=\"https://evilinside.ru/wp-content/uploads/2018/12/mashinnoe-obuchenie-dlya-lyudej-razbiraemsya-prostymi-slovami-5c129b36b6ca3.jpg\" width=\"500\">\n"
      ]
    },
    {
      "cell_type": "markdown",
      "metadata": {
        "id": "2fhp5iHtcvC6"
      },
      "source": [
        "## 1) Что такое нейросеть?\n",
        "\n",
        "Концепции нейрона, полносвязного слоя, глубокого обучения.\n",
        "Простейшая нейросеть состоит из **нейронов** - вычислительных узлов.\n",
        "\n",
        "<img src=\"https://evilinside.ru/wp-content/uploads/2018/12/mashinnoe-obuchenie-dlya-lyudej-razbiraemsya-prostymi-slovami-5c129b5d73101.jpg\" width=\"400\">\n",
        "\n",
        "\n",
        "\n",
        "\n",
        "\n",
        "\n",
        "\n",
        "\n",
        "\n",
        "\n",
        "\n"
      ]
    },
    {
      "cell_type": "markdown",
      "metadata": {
        "id": "_BsI7KjzjfYn"
      },
      "source": [
        "### Dense Layer (Полносвязный слой)\n"
      ]
    },
    {
      "cell_type": "markdown",
      "metadata": {
        "id": "ENrDTsViFfFr"
      },
      "source": [
        "\n",
        "\n",
        "Нейроны объединяются в слои. Из рассмотренной выше модели нейронов получаются **dense** (полносвязные) слои нейронов: все элементы входных данных связаны с каждым нейроном.\n",
        "\n",
        "Слои нейронов между входными и выходными данными называются **hidden** (скрытыми) слоями. Чем больше слоев, тем **глубже** нейросеть.\n",
        "\n",
        "\n",
        "\n",
        "<img src=\"https://neurohive.io/wp-content/uploads/2018/07/neuronnaya-set.gif\" width=\"500\">\n"
      ]
    },
    {
      "cell_type": "markdown",
      "metadata": {
        "id": "Z5VdD15p1FYI"
      },
      "source": [
        "### Глубокое обучение\n",
        "\n",
        "\n",
        "\n",
        "\n",
        "\n",
        "\n",
        "\n",
        "\n"
      ]
    },
    {
      "cell_type": "markdown",
      "metadata": {
        "id": "gs07E484jrk4"
      },
      "source": [
        "Совместное обучение большого числа различных слоев нейросети.\n",
        "\n",
        "*   Нейросеть можно строить из множества \"блоков\" (слоев), как конструктор\n",
        "*   Каждый блок может обладать своей архитектурой, независимо вычисляя выходные данные и градиенты.\n",
        "\n",
        "<table>\n",
        "<tr>\n",
        "<td><img src=\"https://spectrum.ieee.org/image/MjkxMjcwNg.octet-stream\" width=\"400\"></td>\n",
        "<td><img src=\"https://img.icons8.com/plasticine/2x/arrow.png\" width=\"200\"></td>\n",
        "<td><img src=\"https://pics.livejournal.com/xotab_81/pic/001zc7aq\" width=\"500\"></td>\n",
        "</tr>\n"
      ]
    },
    {
      "cell_type": "markdown",
      "metadata": {
        "id": "Dxl38BxDkwgn"
      },
      "source": [
        "## 2) Библиотека Keras\n",
        "\n",
        "Основные возможности"
      ]
    },
    {
      "cell_type": "markdown",
      "metadata": {
        "id": "eKvb8oJol-2I"
      },
      "source": [
        "<img src=\"https://keras.io/img/keras-logo-small-wb.png\" width=\"300\">\n",
        "\n",
        "* Библиотека для машинного обучения (прежде всего, для обучения нейронных сетей)\n",
        "\n",
        "* **Keras**  - удобный \"пользовательский интерфейс\" для более низкоуровневых библиотек (например, TensorFlow)\n",
        "\n",
        "* Основные принципы:\n",
        "    1. Удобство использования\n",
        "    2. Модульность\n",
        "    3. Масштабируемость\n",
        "    4. Работа с Python\n",
        "    \n",
        "Инструмент с низким порогом входа, подходящий как продвинутым исследователям, так и любителям."
      ]
    },
    {
      "cell_type": "markdown",
      "metadata": {
        "id": "g6eO0YUeWe7V"
      },
      "source": [
        "**keras** - одна из самых популярных библиотек для глубинного обучения\n",
        "(надстройка над другими библиотеками).\n",
        "\n",
        "**keras** использует библиотеку **tensorflow** от Google, которая позволяет строить нейронные сети с высокой эффективностью и скоростью.\n",
        "Именно поэтому сейчас **tensorflow** - наиболее популярная библиотека для глубинного обучения."
      ]
    },
    {
      "cell_type": "markdown",
      "metadata": {
        "id": "fXI034Rim7KK"
      },
      "source": [
        "## 3) MNIST\n",
        "\n",
        "Построение нейронной сети для решения задачи классификации рукописных цифр\n",
        "![](https://upload.wikimedia.org/wikipedia/commons/2/27/MnistExamples.png)"
      ]
    },
    {
      "cell_type": "markdown",
      "metadata": {
        "id": "7ofxvJirWvlp"
      },
      "source": [
        "### Нам нужно распознать рукописные цифры по их изображениям.\n",
        "\n",
        "Так как цифр 10, то в нашей задаче классификации 10 классов.\n",
        "\n",
        "Наш набор данных MNIST часто используются для демонстрации возможностей различных алгоритмов машинного и глубинного обучения, так как для него достаточно просто добиться хорошей точности работы."
      ]
    },
    {
      "cell_type": "markdown",
      "metadata": {
        "id": "Tl72AZCwdwn4"
      },
      "source": [
        "### Процесс анализа данных:\n",
        "1. Загрузим данные для обучения и тестирования\n",
        "2. Предобработаем данные\n",
        "3. Создадим модель для обучения\n",
        "4. Обучим модель\n",
        "5. Протестируем модель\n",
        "6. Попробуем улучшить модель"
      ]
    },
    {
      "cell_type": "markdown",
      "metadata": {
        "id": "8uG1CkzPL1XD"
      },
      "source": [
        "### Пререквизиты:\n",
        "* `!pip install numpy`\n",
        "* `!pip install pandas`\n",
        "* `!pip install tensorflow`\n",
        "* `!pip install keras`"
      ]
    },
    {
      "cell_type": "markdown",
      "metadata": {
        "id": "RxgnPcOV3yQQ"
      },
      "source": [
        "Выполните следующую ячейку, нажав `Shift + Enter`. Менеджер пакетов питона `pip` выполнит установку пакетов `numpy`, `pandas`, `tensorflow` и `keras`"
      ]
    },
    {
      "cell_type": "code",
      "metadata": {
        "id": "85JkeJgaL1XF",
        "colab": {
          "base_uri": "https://localhost:8080/"
        },
        "outputId": "4a7e057e-26e7-467b-dccc-d4e288b4ce37"
      },
      "source": [
        "!pip install numpy\n",
        "!pip install pandas\n",
        "!pip install tensorflow\n",
        "!pip install keras\n",
        "!pip install keras.utils"
      ],
      "execution_count": null,
      "outputs": [
        {
          "output_type": "stream",
          "name": "stdout",
          "text": [
            "Requirement already satisfied: numpy in /usr/local/lib/python3.10/dist-packages (1.23.5)\n",
            "Requirement already satisfied: pandas in /usr/local/lib/python3.10/dist-packages (1.5.3)\n",
            "Requirement already satisfied: python-dateutil>=2.8.1 in /usr/local/lib/python3.10/dist-packages (from pandas) (2.8.2)\n",
            "Requirement already satisfied: pytz>=2020.1 in /usr/local/lib/python3.10/dist-packages (from pandas) (2023.3.post1)\n",
            "Requirement already satisfied: numpy>=1.21.0 in /usr/local/lib/python3.10/dist-packages (from pandas) (1.23.5)\n",
            "Requirement already satisfied: six>=1.5 in /usr/local/lib/python3.10/dist-packages (from python-dateutil>=2.8.1->pandas) (1.16.0)\n",
            "Requirement already satisfied: tensorflow in /usr/local/lib/python3.10/dist-packages (2.13.0)\n",
            "Requirement already satisfied: absl-py>=1.0.0 in /usr/local/lib/python3.10/dist-packages (from tensorflow) (1.4.0)\n",
            "Requirement already satisfied: astunparse>=1.6.0 in /usr/local/lib/python3.10/dist-packages (from tensorflow) (1.6.3)\n",
            "Requirement already satisfied: flatbuffers>=23.1.21 in /usr/local/lib/python3.10/dist-packages (from tensorflow) (23.5.26)\n",
            "Requirement already satisfied: gast<=0.4.0,>=0.2.1 in /usr/local/lib/python3.10/dist-packages (from tensorflow) (0.4.0)\n",
            "Requirement already satisfied: google-pasta>=0.1.1 in /usr/local/lib/python3.10/dist-packages (from tensorflow) (0.2.0)\n",
            "Requirement already satisfied: grpcio<2.0,>=1.24.3 in /usr/local/lib/python3.10/dist-packages (from tensorflow) (1.59.0)\n",
            "Requirement already satisfied: h5py>=2.9.0 in /usr/local/lib/python3.10/dist-packages (from tensorflow) (3.9.0)\n",
            "Requirement already satisfied: keras<2.14,>=2.13.1 in /usr/local/lib/python3.10/dist-packages (from tensorflow) (2.13.1)\n",
            "Requirement already satisfied: libclang>=13.0.0 in /usr/local/lib/python3.10/dist-packages (from tensorflow) (16.0.6)\n",
            "Requirement already satisfied: numpy<=1.24.3,>=1.22 in /usr/local/lib/python3.10/dist-packages (from tensorflow) (1.23.5)\n",
            "Requirement already satisfied: opt-einsum>=2.3.2 in /usr/local/lib/python3.10/dist-packages (from tensorflow) (3.3.0)\n",
            "Requirement already satisfied: packaging in /usr/local/lib/python3.10/dist-packages (from tensorflow) (23.2)\n",
            "Requirement already satisfied: protobuf!=4.21.0,!=4.21.1,!=4.21.2,!=4.21.3,!=4.21.4,!=4.21.5,<5.0.0dev,>=3.20.3 in /usr/local/lib/python3.10/dist-packages (from tensorflow) (3.20.3)\n",
            "Requirement already satisfied: setuptools in /usr/local/lib/python3.10/dist-packages (from tensorflow) (67.7.2)\n",
            "Requirement already satisfied: six>=1.12.0 in /usr/local/lib/python3.10/dist-packages (from tensorflow) (1.16.0)\n",
            "Requirement already satisfied: tensorboard<2.14,>=2.13 in /usr/local/lib/python3.10/dist-packages (from tensorflow) (2.13.0)\n",
            "Requirement already satisfied: tensorflow-estimator<2.14,>=2.13.0 in /usr/local/lib/python3.10/dist-packages (from tensorflow) (2.13.0)\n",
            "Requirement already satisfied: termcolor>=1.1.0 in /usr/local/lib/python3.10/dist-packages (from tensorflow) (2.3.0)\n",
            "Requirement already satisfied: typing-extensions<4.6.0,>=3.6.6 in /usr/local/lib/python3.10/dist-packages (from tensorflow) (4.5.0)\n",
            "Requirement already satisfied: wrapt>=1.11.0 in /usr/local/lib/python3.10/dist-packages (from tensorflow) (1.15.0)\n",
            "Requirement already satisfied: tensorflow-io-gcs-filesystem>=0.23.1 in /usr/local/lib/python3.10/dist-packages (from tensorflow) (0.34.0)\n",
            "Requirement already satisfied: wheel<1.0,>=0.23.0 in /usr/local/lib/python3.10/dist-packages (from astunparse>=1.6.0->tensorflow) (0.41.2)\n",
            "Requirement already satisfied: google-auth<3,>=1.6.3 in /usr/local/lib/python3.10/dist-packages (from tensorboard<2.14,>=2.13->tensorflow) (2.17.3)\n",
            "Requirement already satisfied: google-auth-oauthlib<1.1,>=0.5 in /usr/local/lib/python3.10/dist-packages (from tensorboard<2.14,>=2.13->tensorflow) (1.0.0)\n",
            "Requirement already satisfied: markdown>=2.6.8 in /usr/local/lib/python3.10/dist-packages (from tensorboard<2.14,>=2.13->tensorflow) (3.5)\n",
            "Requirement already satisfied: requests<3,>=2.21.0 in /usr/local/lib/python3.10/dist-packages (from tensorboard<2.14,>=2.13->tensorflow) (2.31.0)\n",
            "Requirement already satisfied: tensorboard-data-server<0.8.0,>=0.7.0 in /usr/local/lib/python3.10/dist-packages (from tensorboard<2.14,>=2.13->tensorflow) (0.7.1)\n",
            "Requirement already satisfied: werkzeug>=1.0.1 in /usr/local/lib/python3.10/dist-packages (from tensorboard<2.14,>=2.13->tensorflow) (3.0.0)\n",
            "Requirement already satisfied: cachetools<6.0,>=2.0.0 in /usr/local/lib/python3.10/dist-packages (from google-auth<3,>=1.6.3->tensorboard<2.14,>=2.13->tensorflow) (5.3.1)\n",
            "Requirement already satisfied: pyasn1-modules>=0.2.1 in /usr/local/lib/python3.10/dist-packages (from google-auth<3,>=1.6.3->tensorboard<2.14,>=2.13->tensorflow) (0.3.0)\n",
            "Requirement already satisfied: rsa<5,>=3.1.4 in /usr/local/lib/python3.10/dist-packages (from google-auth<3,>=1.6.3->tensorboard<2.14,>=2.13->tensorflow) (4.9)\n",
            "Requirement already satisfied: requests-oauthlib>=0.7.0 in /usr/local/lib/python3.10/dist-packages (from google-auth-oauthlib<1.1,>=0.5->tensorboard<2.14,>=2.13->tensorflow) (1.3.1)\n",
            "Requirement already satisfied: charset-normalizer<4,>=2 in /usr/local/lib/python3.10/dist-packages (from requests<3,>=2.21.0->tensorboard<2.14,>=2.13->tensorflow) (3.3.0)\n",
            "Requirement already satisfied: idna<4,>=2.5 in /usr/local/lib/python3.10/dist-packages (from requests<3,>=2.21.0->tensorboard<2.14,>=2.13->tensorflow) (3.4)\n",
            "Requirement already satisfied: urllib3<3,>=1.21.1 in /usr/local/lib/python3.10/dist-packages (from requests<3,>=2.21.0->tensorboard<2.14,>=2.13->tensorflow) (2.0.6)\n",
            "Requirement already satisfied: certifi>=2017.4.17 in /usr/local/lib/python3.10/dist-packages (from requests<3,>=2.21.0->tensorboard<2.14,>=2.13->tensorflow) (2023.7.22)\n",
            "Requirement already satisfied: MarkupSafe>=2.1.1 in /usr/local/lib/python3.10/dist-packages (from werkzeug>=1.0.1->tensorboard<2.14,>=2.13->tensorflow) (2.1.3)\n",
            "Requirement already satisfied: pyasn1<0.6.0,>=0.4.6 in /usr/local/lib/python3.10/dist-packages (from pyasn1-modules>=0.2.1->google-auth<3,>=1.6.3->tensorboard<2.14,>=2.13->tensorflow) (0.5.0)\n",
            "Requirement already satisfied: oauthlib>=3.0.0 in /usr/local/lib/python3.10/dist-packages (from requests-oauthlib>=0.7.0->google-auth-oauthlib<1.1,>=0.5->tensorboard<2.14,>=2.13->tensorflow) (3.2.2)\n",
            "Requirement already satisfied: keras in /usr/local/lib/python3.10/dist-packages (2.13.1)\n",
            "Collecting keras.utils\n",
            "  Downloading keras-utils-1.0.13.tar.gz (2.4 kB)\n",
            "  Preparing metadata (setup.py) ... \u001b[?25l\u001b[?25hdone\n",
            "Requirement already satisfied: Keras>=2.1.5 in /usr/local/lib/python3.10/dist-packages (from keras.utils) (2.13.1)\n",
            "Building wheels for collected packages: keras.utils\n",
            "  Building wheel for keras.utils (setup.py) ... \u001b[?25l\u001b[?25hdone\n",
            "  Created wheel for keras.utils: filename=keras_utils-1.0.13-py3-none-any.whl size=2632 sha256=b77fd393b69f658a9b96b758ede4284ce94f3c6bef6c4225c117e2b10185b990\n",
            "  Stored in directory: /root/.cache/pip/wheels/5c/c0/b3/0c332de4fd71f3733ea6d61697464b7ae4b2b5ff0300e6ca7a\n",
            "Successfully built keras.utils\n",
            "Installing collected packages: keras.utils\n",
            "Successfully installed keras.utils-1.0.13\n"
          ]
        }
      ]
    },
    {
      "cell_type": "markdown",
      "metadata": {
        "id": "T6aUApHy4OzK"
      },
      "source": [
        "Загрузим необходимые библиотеки: `keras` для работы с нейросетями, `numpy` для научных вычислений, `matplotlib` для построения графиков.\n",
        "\n",
        "* Наша нейронная сеть будет делать ряд последовательных преобразований входных данных, поэтому нам нужен тип нейронных сетей Sequential: импортируем его из раздела `keras.models`.\n",
        "\n",
        "* Типы преобразваний, с которыми мы будем работать: плотный слой Dense, активация Activation, преобразование картинки в длинный вектор Flatten. Каждое преобразование будет отдельным слоем в последовательной модели, поэтому импортируем их из `keras.layers`\n",
        "\n",
        "Еще мы будем использовать данные MNIST - они тоже лежат прямо в `keras`, как достать этот датасет рассмотрим дальше.\n",
        "\n",
        "Выполните ячейку ниже:"
      ]
    },
    {
      "cell_type": "code",
      "metadata": {
        "id": "9G11oTPyL1XP"
      },
      "source": [
        "# %tensorflow_version 2.x\n",
        "# Импортируем сам keras\n",
        "import keras\n",
        "# Последовательный тип модели\n",
        "from keras.models import Sequential\n",
        "# Импортируем полносвязный слой, слои активации и слой, превращающий картинку в вектор\n",
        "from keras.layers import Dense, Activation, Flatten\n",
        "# Импортируем датасеты, чтобы вытащить оттуда нужные нам данные\n",
        "import keras.datasets\n",
        "\n",
        "\n",
        "import numpy as np\n",
        "from matplotlib import pyplot as plt\n",
        "\n",
        "# Эти библиотеки отключают лишние предупреждения от библиотек, в частности,\n",
        "# tensorflow, чтобы не засорять вывод наших результатов\n",
        "import os\n",
        "os.environ['TF_CPP_MIN_LOG_LEVEL'] = '3'\n",
        "from tensorflow.python.util import deprecation\n",
        "deprecation._PRINT_DEPRECATION_WARNINGS = False\n",
        "import warnings\n",
        "warnings.filterwarnings(\"ignore\")\n",
        "\n",
        "# keras является оболочкой для более низкоуровневых библиотек,\n",
        "# в нашем случае мы используем tensorflow, у которого на данный момент\n",
        "# поддерживаются две версии, установим первую\n",
        "import tensorflow as tf\n",
        "# tf.disable_v2_behavior()"
      ],
      "execution_count": null,
      "outputs": []
    },
    {
      "cell_type": "markdown",
      "metadata": {
        "id": "CMlzR26x4mIp"
      },
      "source": [
        "Обратим внимание, что вывод ячейки `Using TensorFlow backend.` - это означает, что в качестве бэкэнда используется библиотека для вычисления `tensorflow`."
      ]
    },
    {
      "cell_type": "markdown",
      "metadata": {
        "id": "6yDr98umrnOt"
      },
      "source": [
        "### Utils\n",
        "\n",
        "Здесь некоторые дополнительные функции, которые облегчат нам работу с данными (В них разбираться не нужно, только запустить)"
      ]
    },
    {
      "cell_type": "code",
      "metadata": {
        "id": "kOqMCh9Tkh-E"
      },
      "source": [
        "#@title\n",
        "def plot_MNIST_samples_grid(image_data, dataset_name='', N=8):\n",
        "  \"\"\"\n",
        "    Эта функция строит NxN самплов из датасета image_data\n",
        "\n",
        "    Параметры\n",
        "    ----------\n",
        "    image_data : array\n",
        "        Array of shape\n",
        "        (number_of_samples, image_width, image_height, number of channels)\n",
        "        with images\n",
        "    dataset_name : str\n",
        "        Name of dataset to write in the title\n",
        "    N : int\n",
        "        Size of grid of samples\n",
        "  \"\"\"\n",
        "  plt.figure(figsize=(10,10))\n",
        "  data1=image_data[:N*N]\n",
        "\n",
        "  image_width=image_data.shape[1]\n",
        "  image_heigth=image_data.shape[2]\n",
        "\n",
        "  if len(data1.shape)==4:\n",
        "    image_channels=image_data.shape[3]\n",
        "    data1 = data1.reshape(N, N,image_width,image_heigth, image_channels)\n",
        "    data1 = np.transpose(data1,(0,2,1,3,4))\n",
        "    data1 = data1.reshape(N*image_width,N*image_heigth,image_channels)\n",
        "    plt.imshow(data1)\n",
        "\n",
        "  elif len(data1.shape)==3:\n",
        "    data1 = data1.reshape(N, N,image_width,image_heigth)\n",
        "    data1 = np.transpose(data1,(0,2,1,3))\n",
        "    data1 = data1.reshape(N*image_width,N*image_heigth)\n",
        "    plt.imshow(data1,cmap='gray')\n",
        "  plt.xticks([])\n",
        "  plt.yticks([])\n",
        "  plt.grid(False)\n",
        "  plt.title('First '+ str(N*N) + ' '+dataset_name+ ' samples of training set')\n",
        "  plt.show()\n",
        "\n",
        "def plot_MNIST_samples(image_data, label_data, classes,  N=8):\n",
        "  \"\"\"\n",
        "    Эта функция строит N самплов каждого класса из датасета image_data\n",
        "\n",
        "    Параметры\n",
        "    ----------\n",
        "    image_data : array\n",
        "        Array of shape\n",
        "        (number_of_samples, image_width, image_height, number of channels)\n",
        "        with images\n",
        "    label_data : array\n",
        "        Array of shape\n",
        "        (number_of_samples, )\n",
        "        with labels\n",
        "    classes : list\n",
        "        list with classes names\n",
        "    dataset_name : str\n",
        "        Name of dataset to write in the title\n",
        "    N : int\n",
        "        Number of samples for each class\n",
        "  \"\"\"\n",
        "  plt.figure(figsize=(10,N))\n",
        "  num_classes = len(classes)\n",
        "  for i, y in enumerate(classes):\n",
        "      idxs = np.flatnonzero(label_data == y)\n",
        "      idxs = np.random.choice(idxs, N, replace=False)\n",
        "      for i, idx in enumerate(idxs):\n",
        "          plt_idx = i * num_classes + y + 1\n",
        "          plt.subplot(N, num_classes, plt_idx)\n",
        "          plt.imshow(image_data[idx], cmap='gray')\n",
        "          plt.axis('off')\n",
        "          if i == 0:\n",
        "              plt.title(str(y))\n",
        "  plt.show()\n",
        "\n",
        "from sklearn.metrics import confusion_matrix\n",
        "import itertools\n",
        "\n",
        "def plot_confusion_matrix(cm, classes,\n",
        "                          normalize=False,\n",
        "                          title='Confusion matrix',\n",
        "                          cmap=plt.cm.Blues):\n",
        "    \"\"\"\n",
        "    Эта функция выводит confusion matrix.\n",
        "    Нормализация может быть добавлена изменением значения флага\n",
        "    `normalize` на `True`\n",
        "    \"\"\"\n",
        "    plt.imshow(cm, interpolation='nearest', cmap=cmap)\n",
        "    plt.title(title)\n",
        "    plt.colorbar()\n",
        "    tick_marks = np.arange(len(classes))\n",
        "    plt.xticks(tick_marks, classes, rotation=45)\n",
        "    plt.yticks(tick_marks, classes)\n",
        "\n",
        "    if normalize:\n",
        "        cm = cm.astype('float') / cm.sum(axis=1)[:, np.newaxis]\n",
        "\n",
        "    thresh = cm.max() / 2.\n",
        "    for i, j in itertools.product(range(cm.shape[0]), range(cm.shape[1])):\n",
        "        plt.text(j, i, cm[i, j],\n",
        "                 horizontalalignment=\"center\",\n",
        "                 color=\"white\" if cm[i, j] > thresh else \"black\")\n",
        "\n",
        "    plt.tight_layout()\n",
        "    plt.ylabel('True label')\n",
        "    plt.xlabel('Predicted label')\n",
        "\n",
        "def display_errors(errors_index,img_errors,pred_errors, obs_errors):\n",
        "    \"\"\"\n",
        "    Эта функция показывает 6 картинок с предсказанными и настоящими классами\n",
        "    \"\"\"\n",
        "    n = 0\n",
        "    nrows = 2\n",
        "    ncols = 3\n",
        "    fig, ax = plt.subplots(nrows,ncols,sharex=True,sharey=True)\n",
        "    for row in range(nrows):\n",
        "        for col in range(ncols):\n",
        "            error = errors_index[n]\n",
        "            ax[row,col].imshow((img_errors[error]).reshape((28,28)),cmap='gray')\n",
        "            ax[row,col].set_title(\"Predicted label :{}\\nTrue label :{}\".format(pred_errors[error],obs_errors[error]))\n",
        "            n += 1\n",
        "    plt.tight_layout()"
      ],
      "execution_count": null,
      "outputs": []
    },
    {
      "cell_type": "markdown",
      "metadata": {
        "id": "AIpnql06YNc7"
      },
      "source": [
        "### 1. Загрузка данных.\n",
        "\n",
        "В keras уже есть несколько популярных датасетов, которые можно легко загрузить. Давайте загрузим набор данных MNIST."
      ]
    },
    {
      "cell_type": "code",
      "metadata": {
        "id": "CqNeI_QlVriX"
      },
      "source": [
        "# Импортируем модуль датасета MNIST\n",
        "from keras.datasets import mnist"
      ],
      "execution_count": null,
      "outputs": []
    },
    {
      "cell_type": "code",
      "metadata": {
        "id": "MRc87g0JL1XR",
        "colab": {
          "base_uri": "https://localhost:8080/"
        },
        "outputId": "40cd9a2c-0632-47fe-a56a-335006179a91"
      },
      "source": [
        "# Выгрузим тренировочные и тестовые данные при помощи метода load_data\n",
        "(X_train, y_train), (X_test, y_test) = mnist.load_data()"
      ],
      "execution_count": null,
      "outputs": [
        {
          "output_type": "stream",
          "name": "stdout",
          "text": [
            "Downloading data from https://storage.googleapis.com/tensorflow/tf-keras-datasets/mnist.npz\n",
            "11490434/11490434 [==============================] - 1s 0us/step\n"
          ]
        }
      ]
    },
    {
      "cell_type": "markdown",
      "metadata": {
        "id": "D5z73jb02Uc0"
      },
      "source": [
        "Посмотрим на содержание датасета, вызвав функцию `plot_MNIST_samples`,\n",
        "которая строит на одной картинке **N** самплов из массива картинок\n",
        "**X_train** для каждого класса"
      ]
    },
    {
      "cell_type": "code",
      "metadata": {
        "id": "qu_s1amHcIUh",
        "colab": {
          "base_uri": "https://localhost:8080/",
          "height": 598
        },
        "outputId": "0655f164-993a-43b8-a96b-c1239f4960cb"
      },
      "source": [
        "# Создадим лист с именами классов - цифрами от 0 до 9\n",
        "classes = list(range(0,10))\n",
        "plot_MNIST_samples(X_train, y_train, classes, N=7)"
      ],
      "execution_count": null,
      "outputs": [
        {
          "output_type": "display_data",
          "data": {
            "text/plain": [
              "<Figure size 1000x700 with 70 Axes>"
            ],
            "image/png": "[encoded data removed]"
          },
          "metadata": {}
        }
      ]
    },
    {
      "cell_type": "markdown",
      "metadata": {
        "id": "TNB3heFHYWfC"
      },
      "source": [
        "### 2. Подготовка данных\n",
        "\n",
        "\n",
        "\n"
      ]
    },
    {
      "cell_type": "markdown",
      "metadata": {
        "id": "mnITde5Yznwh"
      },
      "source": [
        "#### **Нормализация значений на [0,1] и перевод целевой переменной в one-hot формат**"
      ]
    },
    {
      "cell_type": "markdown",
      "metadata": {
        "id": "1Jk3nwrJuGLu"
      },
      "source": [
        "Нейронные сети более капризны по сравнению с линейными моделями и моделями на основе решающих деревьев.\n",
        "\n",
        "Поэтому им нужна предварительная нормализация данных: чтобы значения всех входных признаков лежали в интервале от $0$ до $1$.\n",
        "\n",
        "При этом каждый пиксель картинки представлен в виде целого числа от $0$ до $255$ (для черно-белых картинок) и в виде набора из трех целых чисел от $0$ до $255$ для цветных.\n",
        "\n",
        "Поэтому нормализацию картинки можно произвести простым делением на $255$.\n",
        "\n",
        "\n",
        "\n"
      ]
    },
    {
      "cell_type": "markdown",
      "metadata": {
        "id": "HPz3h-kWu2XW"
      },
      "source": [
        "Еще нейронной сети нужно значение выходной переменной в one-hot формате.\n",
        "\n",
        "Напомним, что такое **one-hot encoding**.\n",
        "\n",
        "Сейчас наша целевая переменная - цифры от $0$ до $9$, то есть $10$ классов. Для каждой картинки наша сеть будет предсказывать вероятность принадлежности к каждому из этих десяти классов.\n",
        "\n",
        "Соответственно, истинным значением целевой переменной будет вектор длины $10$, состоящий из $0$ с одной $1$ на месте номера класса, к которому принадлежит картинка (то есть вероятность $1$, что цифра на самом деле принадлежит к конкретному классу).\n",
        "\n",
        "<img src=\"https://piximus.net/media/19285/words-that-are-short-for-something-12.jpg\" width=\"300\">\n",
        "\n",
        "Это делаем функцией из `keras` `keras.utils.to_categorical`, которая принимает на вход исходный вектор значений выходной переменной и число классов."
      ]
    },
    {
      "cell_type": "code",
      "metadata": {
        "id": "9QZzn-yQbG1A",
        "colab": {
          "base_uri": "https://localhost:8080/"
        },
        "outputId": "904cdbfd-9e8a-4c77-bdc2-f33d58c2f1a7"
      },
      "source": [
        "print(y_train)"
      ],
      "execution_count": null,
      "outputs": [
        {
          "output_type": "stream",
          "name": "stdout",
          "text": [
            "[5 0 4 ... 5 6 8]\n"
          ]
        }
      ]
    },
    {
      "cell_type": "code",
      "metadata": {
        "id": "hbw-RAM2Y6tT"
      },
      "source": [
        "from tensorflow.keras.utils import to_categorical\n",
        "\n",
        "X_train = X_train / 255\n",
        "X_test = X_test / 255\n",
        "\n",
        "y_train = to_categorical(y_train, 10)\n",
        "y_test = to_categorical(y_test, 10)"
      ],
      "execution_count": null,
      "outputs": []
    },
    {
      "cell_type": "code",
      "metadata": {
        "id": "_qEa-PCUa4up",
        "colab": {
          "base_uri": "https://localhost:8080/"
        },
        "outputId": "a03ed766-5972-4838-8c11-6a6e3e0fe58a"
      },
      "source": [
        "y_train"
      ],
      "execution_count": null,
      "outputs": [
        {
          "output_type": "execute_result",
          "data": {
            "text/plain": [
              "array([[0., 0., 0., ..., 0., 0., 0.],\n",
              "       [1., 0., 0., ..., 0., 0., 0.],\n",
              "       [0., 0., 0., ..., 0., 0., 0.],\n",
              "       ...,\n",
              "       [0., 0., 0., ..., 0., 0., 0.],\n",
              "       [0., 0., 0., ..., 0., 0., 0.],\n",
              "       [0., 0., 0., ..., 0., 1., 0.]], dtype=float32)"
            ]
          },
          "metadata": {},
          "execution_count": 10
        }
      ]
    },
    {
      "cell_type": "code",
      "metadata": {
        "id": "NnCEwB4iamIr",
        "colab": {
          "base_uri": "https://localhost:8080/"
        },
        "outputId": "bb5bab4a-9f2e-4755-c6eb-e880b95c126e"
      },
      "source": [
        "y_test"
      ],
      "execution_count": null,
      "outputs": [
        {
          "output_type": "execute_result",
          "data": {
            "text/plain": [
              "array([[0., 0., 0., ..., 1., 0., 0.],\n",
              "       [0., 0., 1., ..., 0., 0., 0.],\n",
              "       [0., 1., 0., ..., 0., 0., 0.],\n",
              "       ...,\n",
              "       [0., 0., 0., ..., 0., 0., 0.],\n",
              "       [0., 0., 0., ..., 0., 0., 0.],\n",
              "       [0., 0., 0., ..., 0., 0., 0.]], dtype=float32)"
            ]
          },
          "metadata": {},
          "execution_count": 11
        }
      ]
    },
    {
      "cell_type": "markdown",
      "metadata": {
        "id": "S2986SBBZJIs"
      },
      "source": [
        "Посмотрим на то, в каком виде у нас хранятся входные признаки, напечатав размер первого объекта из обучающей выборки (метод **shape**)\n",
        "\n",
        "Для данных MNIST это изображения 28 на 28."
      ]
    },
    {
      "cell_type": "code",
      "metadata": {
        "id": "VGjF5U_eL1XU",
        "colab": {
          "base_uri": "https://localhost:8080/"
        },
        "outputId": "636f2055-2f04-4991-aa65-f80fb53a1d02"
      },
      "source": [
        "input_size = X_train[0].shape\n",
        "input_size"
      ],
      "execution_count": null,
      "outputs": [
        {
          "output_type": "execute_result",
          "data": {
            "text/plain": [
              "(28, 28)"
            ]
          },
          "metadata": {},
          "execution_count": 12
        }
      ]
    },
    {
      "cell_type": "code",
      "metadata": {
        "id": "u9f_p4H2POQ9",
        "colab": {
          "base_uri": "https://localhost:8080/"
        },
        "outputId": "5b4018a6-ae6d-4bee-cfef-291b9d97974f"
      },
      "source": [
        "X_train.shape"
      ],
      "execution_count": null,
      "outputs": [
        {
          "output_type": "execute_result",
          "data": {
            "text/plain": [
              "(60000, 28, 28)"
            ]
          },
          "metadata": {},
          "execution_count": 13
        }
      ]
    },
    {
      "cell_type": "markdown",
      "metadata": {
        "id": "uOfHrF7KZZOj"
      },
      "source": [
        "### 3. Создание модели для обучения Sequential - добавляем слои друг за другом\n",
        "\n",
        "Sequential здесь означает последовательный тип модели, в который мы добавляем слои друг за другом. Инициализируем модель:"
      ]
    },
    {
      "cell_type": "code",
      "metadata": {
        "id": "mt8gkzJDL1XW"
      },
      "source": [
        "# Создаем пустую модель\n",
        "model = Sequential()"
      ],
      "execution_count": null,
      "outputs": []
    },
    {
      "cell_type": "markdown",
      "metadata": {
        "id": "MMKOCnmMZgk_"
      },
      "source": [
        "#### Добавляем в модель слой за слоем.\n",
        "\n",
        "<img src=\"https://ml4a.github.io/images/figures/mnist_2layers.png\" width=\"600\">\n",
        "\n",
        "\n",
        "* сначала растягиваем картинку в длинный вектор слоем `Flatten`\n",
        "* потом идет полносвязный слой - нейроны в следующем слое зависят от всех переменных в предыдущем\n",
        "* далее используем функцию активации `ReLU`\n",
        "* потом идет следующий полносвязный слой. В нем $10$ выходов - по числу классов\n",
        "* в конце используем функцию активации `SoftMax`\n",
        "\n",
        "**ReLU** - стандартный выбор для функции активации нейронов внутри нейросети. Несмотря на простоту функции, эксперименты показывают, что эта функция активации достаточна для эффективного обучения нейросетей.\n",
        "\n",
        "**Softmax** - функция активации для выходного слоя нейронов в задачах классификации с числом классов $>2$. Она переводит выходные значения сети в вероятности принадлежности конкретного элемента выборки к одному из класов.\n",
        "\n",
        "*Важно: в первом слое `Sequential` модели keras необходимо указать размерность входных данных $28*28=784$ , перед активацией делаем плотный слой с размерностью $10$ по числу классов*\n",
        "\n",
        "\n"
      ]
    },
    {
      "cell_type": "code",
      "metadata": {
        "id": "7L_idgx4aTSQ"
      },
      "source": [
        "# Этот слой превратит нашу двумерную картинку в вектор\n",
        "model.add(Flatten(input_shape=input_size))\n",
        "\n",
        "# Добавляем скрытый полносвязный слой из 128 нейронов\n",
        "model.add(Dense(units=128, input_shape=input_size))\n",
        "#И активацию для скрытого слоя нейронов\n",
        "model.add(Activation('relu'))\n",
        "\n",
        "# Добавляем выходной полносвязный слой из 10 нейронов\n",
        "model.add(Dense(units=10))\n",
        "# Чтобы получить на выходе вероятности для каждого класса, выбираем активацию\n",
        "# softmax\n",
        "model.add(Activation('softmax'))"
      ],
      "execution_count": null,
      "outputs": []
    },
    {
      "cell_type": "markdown",
      "metadata": {
        "id": "dXa68zvcabbz"
      },
      "source": [
        "После описания архитектуры необходимо скомпилировать модель при помощи метода `compile`, указав минимизируемую функцию потерь (параметр `loss`),\n",
        "оптимизатор (параметр `optimizer`, который позаботится об изменении весов модели) и метрику (параметр `metrics`), по которой будет оцениваться точность работы на тестовой выборке в процессе обучения"
      ]
    },
    {
      "cell_type": "code",
      "metadata": {
        "id": "m07_4onHL1XZ"
      },
      "source": [
        "# Компилируем модель с функцией ошибки categorical entropy, оптимизатором Адам\n",
        "# (оптимизатор, который со стандартным набором параметров может обучить эффективную\n",
        "#  нейросеть), и метрикой - количеством правильно угаданных цифр.\n",
        "model.compile(loss='categorical_crossentropy',\n",
        "              optimizer='adam',\n",
        "              metrics=['accuracy'])"
      ],
      "execution_count": null,
      "outputs": []
    },
    {
      "cell_type": "markdown",
      "metadata": {
        "id": "RlpUm6MadcGt"
      },
      "source": [
        "Еще можно посмотреть на нашу модель в целом: сколько в ней слоев, сколько параметров у каждого слоя с помощью команды model.summary()"
      ]
    },
    {
      "cell_type": "code",
      "metadata": {
        "id": "-eD6-YNjL1Xb",
        "colab": {
          "base_uri": "https://localhost:8080/"
        },
        "outputId": "535a44e0-1a9f-4ffc-9168-f823d06519db"
      },
      "source": [
        "model.summary()"
      ],
      "execution_count": null,
      "outputs": [
        {
          "output_type": "stream",
          "name": "stdout",
          "text": [
            "Model: \"sequential\"\n",
            "_________________________________________________________________\n",
            " Layer (type)                Output Shape              Param #   \n",
            "=================================================================\n",
            " flatten (Flatten)           (None, 784)               0         \n",
            "                                                                 \n",
            " dense (Dense)               (None, 128)               100480    \n",
            "                                                                 \n",
            " activation (Activation)     (None, 128)               0         \n",
            "                                                                 \n",
            " dense_1 (Dense)             (None, 10)                1290      \n",
            "                                                                 \n",
            " activation_1 (Activation)   (None, 10)                0         \n",
            "                                                                 \n",
            "=================================================================\n",
            "Total params: 101770 (397.54 KB)\n",
            "Trainable params: 101770 (397.54 KB)\n",
            "Non-trainable params: 0 (0.00 Byte)\n",
            "_________________________________________________________________\n"
          ]
        }
      ]
    },
    {
      "cell_type": "markdown",
      "source": [
        "```\n",
        "Model: \"sequential_1\"\n",
        "_________________________________________________________________\n",
        " Layer (type)                Output Shape              Param #   \n",
        "=================================================================\n",
        " conv2d (Conv2D)             (None, 28, 28, 24)        240       \n",
        "                                                                 \n",
        " activation_2 (Activation)   (None, 28, 28, 24)        0         \n",
        "                                                                 \n",
        " flatten_1 (Flatten)         (None, 18816)             0         \n",
        "                                                                 \n",
        " dense_2 (Dense)             (None, 64)                1204288   \n",
        "                                                                 \n",
        " dense_3 (Dense)             (None, 10)                650       \n",
        "                                                                 \n",
        "=================================================================\n",
        "Total params: 1,205,178\n",
        "Trainable params: 1,205,178\n",
        "Non-trainable params: 0\n",
        "\n",
        "```"
      ],
      "metadata": {
        "id": "CkzUbi-38gjg"
      }
    },
    {
      "cell_type": "markdown",
      "metadata": {
        "id": "iuTVdcO1Of0Z"
      },
      "source": [
        "### Обучение нейросети\n",
        "\n",
        "**Обучение** нейросети - изменение **весов** нейронов при помощи метода обратного распространения ошибки"
      ]
    },
    {
      "cell_type": "markdown",
      "metadata": {
        "id": "SCiUVgnX0PSi"
      },
      "source": [
        "### 4) Обучение модели"
      ]
    },
    {
      "cell_type": "markdown",
      "metadata": {
        "id": "C_hq5K6Oahnr"
      },
      "source": [
        "### **Тренировка с указанием данных, числа эпох и размера подвыборки**\n",
        "\n",
        "Теперь задана структура модели и то, как мы будем ее обучать.\n",
        "Обучаем ее аналогично `sklearn` - с помощью метода `fit`.\n",
        "\n",
        "После запуска `fit` параметры оптимизируются градиентым спуском.\n",
        "На каждом шаге градиентного спуска мы используем функцию потерь, которая подсчитана только по части полной выборки.\n",
        "\n"
      ]
    },
    {
      "cell_type": "markdown",
      "metadata": {
        "id": "9M7h_b3A0iUb"
      },
      "source": [
        "### Два дополнительных параметра для обучения - batch_size epochs\n",
        "* **batch_size** - размер подвыборки, которая используется для одного шага оптимизации = 40\n",
        "* **epochs** - число эпох - сколько раз мы проходим полностью по всей выборке\n",
        "\n",
        "[Эксперименты](https://arxiv.org/abs/1609.04836) показывают, что выбор **batch_size** в диапазоне $32-512$ в среднем обеспечивает нормальную обобщающую способность нейросети, то есть помогает модели делать лучшие предсказания на новых данных, не присутствующих в тренировочной выборке.\n",
        "\n",
        "Количество эпох **epochs** обычно выбирают так, чтобы метрика качества на валидационной выборке не стала убывать (то есть, не произошло переобучения).\n",
        "\n",
        "В целом, подбор подобных макропараметров сети является отдельным классом задач, поскольку одна и та же архитектура нейросети может значительно улучшать/ухудшать результаты предсказаний в зависимости от выбранных значений."
      ]
    },
    {
      "cell_type": "code",
      "metadata": {
        "id": "1yJBEO5MawBa",
        "colab": {
          "base_uri": "https://localhost:8080/"
        },
        "outputId": "31074964-f0ec-4390-9f4a-ea07c7530701"
      },
      "source": [
        "model.fit(X_train, y_train, epochs=5, batch_size=40)"
      ],
      "execution_count": null,
      "outputs": [
        {
          "output_type": "stream",
          "name": "stdout",
          "text": [
            "Epoch 1/5\n",
            "1500/1500 [==============================] - 16s 5ms/step - loss: 0.2735 - accuracy: 0.9214\n",
            "Epoch 2/5\n",
            "1500/1500 [==============================] - 8s 5ms/step - loss: 0.1228 - accuracy: 0.9644\n",
            "Epoch 3/5\n",
            "1500/1500 [==============================] - 4s 3ms/step - loss: 0.0859 - accuracy: 0.9742\n",
            "Epoch 4/5\n",
            "1500/1500 [==============================] - 4s 3ms/step - loss: 0.0642 - accuracy: 0.9808\n",
            "Epoch 5/5\n",
            "1500/1500 [==============================] - 5s 3ms/step - loss: 0.0505 - accuracy: 0.9843\n"
          ]
        },
        {
          "output_type": "execute_result",
          "data": {
            "text/plain": [
              "<keras.src.callbacks.History at 0x7fe4c9cfc310>"
            ]
          },
          "metadata": {},
          "execution_count": 18
        }
      ]
    },
    {
      "cell_type": "markdown",
      "metadata": {
        "id": "uQ92EA7pdG8B"
      },
      "source": [
        "### 5. Валидация качества модели на тестовых данных.\n",
        "Протестируем модель на тестовой выборке для этого используется метод `evaluate`.\n",
        "Выводится **loss** и **точность**."
      ]
    },
    {
      "cell_type": "code",
      "metadata": {
        "scrolled": true,
        "id": "So0AMrOtL1Xd",
        "colab": {
          "base_uri": "https://localhost:8080/"
        },
        "outputId": "5342947e-b459-4e85-f26d-d4e4bc544931"
      },
      "source": [
        "model.evaluate(X_test, y_test)"
      ],
      "execution_count": null,
      "outputs": [
        {
          "output_type": "stream",
          "name": "stdout",
          "text": [
            "313/313 [==============================] - 1s 3ms/step - loss: 0.0780 - accuracy: 0.9761\n"
          ]
        },
        {
          "output_type": "execute_result",
          "data": {
            "text/plain": [
              "[0.07795450091362, 0.9761000275611877]"
            ]
          },
          "metadata": {},
          "execution_count": 19
        }
      ]
    },
    {
      "cell_type": "code",
      "source": [
        "# epoch = 5, batch_size = 40\n",
        "# loss: 0.0754 - accuracy: 0.9772\n",
        "\n",
        "# epoch = 5, batch_size = 32\n",
        "# loss: 0.0727 - accuracy: 0.9786\n",
        "\n",
        "# epoch = 6, batch_size = 42\n",
        "# loss: 0.0852 - accuracy: 0.9807\n",
        "\n",
        "# epoch = 6, batch_size = 50\n",
        "# loss: 0.0984 - accuracy: 0.9796"
      ],
      "metadata": {
        "id": "uov4Bc-M10Z0"
      },
      "execution_count": null,
      "outputs": []
    },
    {
      "cell_type": "markdown",
      "metadata": {
        "id": "53SddAA9rZcH"
      },
      "source": [
        "Что это означает: для нашей модели на основе нейронной сети мы получаем точность 98% - то есть, с вероятностью 98% модель определяет, какая цифра нарисована на картинке"
      ]
    },
    {
      "cell_type": "markdown",
      "metadata": {
        "id": "HCJSQ3tynDbb"
      },
      "source": [
        "## 4) Сверточные нейросети\n",
        "\n",
        "Слой сверточной сети состоит из **ядра** - окна с весами, которое последовательно проходит по пикселям входящего изображения (на картинке движется ядро размером $3\\text{x}3$) и складывает их с соответствующими весами."
      ]
    },
    {
      "cell_type": "markdown",
      "metadata": {
        "id": "3_IwoLX3TC_Y"
      },
      "source": [
        "<table>\n",
        "<tr>\n",
        "<td>\n",
        "<img src=\"https://neurohive.io/wp-content/uploads/2018/07/convolutional-neural-network.gif\" width=\"500\">\n",
        "</td>\n",
        "</tr>\n",
        "<tr>\n",
        "<td>\n",
        "<img src=\"https://neurohive.io/wp-content/uploads/2018/07/2d-covolutions.gif\" width=\"500\">\n",
        "</td>\n",
        "</tr>\n",
        "</table>\n",
        "\n",
        "\n",
        "<img src=\"https://i.stack.imgur.com/YDusp.png\" width=\"700\">\n",
        "\n"
      ]
    },
    {
      "cell_type": "markdown",
      "metadata": {
        "id": "Nf4z1aj_OJw5"
      },
      "source": [
        "Таким образом, использование сверток помогает извлекать паттерны на картинке.\n",
        "\n",
        "Чем глубже сверточный слой, тем более сложные паттерны он способен распознавать:\n",
        "\n",
        "![](https://raw.githubusercontent.com/MerkulovDaniil/TensorFlow_and_Keras_crash_course/master/rus/2_Deep%20Learning%20and%20Keras/features.png)"
      ]
    },
    {
      "cell_type": "markdown",
      "metadata": {
        "id": "-M_cYMnffIlv"
      },
      "source": [
        "#### MaxPool\n",
        "\n",
        "Слой, похожий на свертку, но вместо суммирования элементов входного изображения с весами ядра, этот слой внутри перемещающегося окна выбирает максимальный элемент и передает его дальше.\n",
        "\n",
        "Обычно слои **Conv** и **MaxPool** используют в паре, **MaxPool** используется для уменьшения размерности данных."
      ]
    },
    {
      "cell_type": "markdown",
      "metadata": {
        "id": "yxcwO6mmfpdM"
      },
      "source": [
        "<table>\n",
        "<tr>\n",
        "<td>\n",
        "<img src=\"https://mlblr.com/images/maxpool.gif\" width=\"400\">\n",
        "</td>\n",
        "</tr>\n",
        "<tr>\n",
        "<td>\n",
        "<img src=\"https://algorithmia.com/blog/wp-content/uploads/2018/03/word-image-5.png\" width=\"500\">\n",
        "</td>\n",
        "</tr>\n",
        "</table>\n",
        "\n",
        "\n",
        "\n",
        "\n",
        "\n"
      ]
    },
    {
      "cell_type": "markdown",
      "metadata": {
        "id": "xQWfh0c1gADl"
      },
      "source": [
        "### 6. Улучшение модели: добавим сверточный слой и посмотрим на результат."
      ]
    },
    {
      "cell_type": "markdown",
      "metadata": {
        "id": "WUCezkiXDrDH"
      },
      "source": [
        "Теперь вместо того, чтобы превращать нашу картинку в вектор (из-за чего мы теряем много информации о взаимном расположении пикселей) и отправлять на вход `Dense` слоям, сначала мы произведем свертку изображения при помощи `Conv2D`.\n",
        "\n",
        "Таким образом мы постараемся извлечь основные паттерны цифр, и только потом результат свертки превратим в вектор и передадим его полносвязной части нейросети."
      ]
    },
    {
      "cell_type": "markdown",
      "metadata": {
        "id": "6CFF3-RLhGH4"
      },
      "source": [
        "Добавим явно число каналов(слоев цвета) в наш датасет - это важно для сверточных слоев. Поскольку наш датасет черно-белый, изображение состоит из одного канала (в отличие от $3$х RGB каналов цветных изображений).\n",
        "т.е. делается преобразование ($60000$, $28$, $28$) -> ($60000$, $28$, $28$, $1$). Это не изменяет общие размеры матриц, но `keras` принимает на вход именно такую структуру данных - если мы используем сверточные слои.\n",
        "\n",
        "\n"
      ]
    },
    {
      "cell_type": "code",
      "metadata": {
        "id": "J6gkFZuMhL_f",
        "colab": {
          "base_uri": "https://localhost:8080/"
        },
        "outputId": "180c4bf0-6bf0-44a1-e25d-678dc42f8a26"
      },
      "source": [
        "X_train, X_test = X_train.reshape((60000, 28, 28, 1)), X_test.reshape((10000, 28, 28, 1))\n",
        "input_size = X_train[0].shape\n",
        "print(input_size)"
      ],
      "execution_count": null,
      "outputs": [
        {
          "output_type": "stream",
          "name": "stdout",
          "text": [
            "(28, 28, 1)\n"
          ]
        }
      ]
    },
    {
      "cell_type": "markdown",
      "metadata": {
        "id": "JB8OqlSHhQYd"
      },
      "source": [
        "Мы используем новый тип преобразования в слое - сверточный `Conv2D`"
      ]
    },
    {
      "cell_type": "code",
      "metadata": {
        "id": "JZyg7D08L1Xg"
      },
      "source": [
        "from keras.layers import Conv2D"
      ],
      "execution_count": null,
      "outputs": []
    },
    {
      "cell_type": "markdown",
      "metadata": {
        "id": "0jWP1X9Vh76x"
      },
      "source": [
        "Создание модели. `Sequential` здесь снова означает последовательный тип модели, в который мы добавляем слои друг за другом"
      ]
    },
    {
      "cell_type": "code",
      "metadata": {
        "id": "Ow_oxCQmiCkZ"
      },
      "source": [
        "# Задаем пустую модель\n",
        "conv_model = Sequential()"
      ],
      "execution_count": null,
      "outputs": []
    },
    {
      "cell_type": "markdown",
      "metadata": {
        "id": "XqXj7PlliB23"
      },
      "source": [
        "Здесь мы используем сверточный слой, который обучает $24$ ядра размером $3$x$3$ для поиска\n",
        " конкретных геометрических (настраиваемых в процессе обучения) паттернов на входном изображении.\n"
      ]
    },
    {
      "cell_type": "code",
      "metadata": {
        "id": "8v4Fbs5Shr79"
      },
      "source": [
        "# В начале добавляем сверточный слой, первый параметр - количество фильтров (24),\n",
        "# второй - размер \"ядра\" - окошка, перемещающегося по входному изображению (3,3),\n",
        "# padding - добавление пикселей по краям изображения, чтобы сделать свертку на\n",
        "# крайних пикселях, режим `same` - повторение края\n",
        "conv_model.add(Conv2D(24, (3, 3), padding='same', input_shape=input_size))\n",
        "\n",
        "# Для сверточного слоя тоже нужна активация и ReLU подходит сюда так же,\n",
        "# как и для скрытого полносвязного слоя\n",
        "conv_model.add(Activation('relu'))\n",
        "\n",
        "# Разворачиваем результат свертки в вектор\n",
        "conv_model.add(Flatten())\n",
        "\n",
        "# Добавляем полносвязный скрытый слой, вид активации можно указать сразу\n",
        "# в описании Dense слоя, в данном случае - ReLU\n",
        "conv_model.add(Dense(64, activation='relu'))\n",
        "\n",
        "# Для выходного полносвязного слоя указываем количество итоговых классов и\n",
        "# softmax для активации\n",
        "conv_model.add(Dense(10, activation='softmax'))"
      ],
      "execution_count": null,
      "outputs": []
    },
    {
      "cell_type": "code",
      "metadata": {
        "id": "Bhfoz8W2L1Xi",
        "colab": {
          "base_uri": "https://localhost:8080/"
        },
        "outputId": "d9e932cf-8059-49d8-98f5-cb5cc3a44fe4"
      },
      "source": [
        "# При помощи метода `summary` мы можем посмотреть,как выглядит наша\n",
        "# итоговая архитектура нейросети и количество параметров (весов)\n",
        "conv_model.summary()"
      ],
      "execution_count": null,
      "outputs": [
        {
          "output_type": "stream",
          "name": "stdout",
          "text": [
            "Model: \"sequential_1\"\n",
            "_________________________________________________________________\n",
            " Layer (type)                Output Shape              Param #   \n",
            "=================================================================\n",
            " conv2d (Conv2D)             (None, 28, 28, 24)        240       \n",
            "                                                                 \n",
            " activation_2 (Activation)   (None, 28, 28, 24)        0         \n",
            "                                                                 \n",
            " flatten_1 (Flatten)         (None, 18816)             0         \n",
            "                                                                 \n",
            " dense_2 (Dense)             (None, 64)                1204288   \n",
            "                                                                 \n",
            " dense_3 (Dense)             (None, 10)                650       \n",
            "                                                                 \n",
            "=================================================================\n",
            "Total params: 1205178 (4.60 MB)\n",
            "Trainable params: 1205178 (4.60 MB)\n",
            "Non-trainable params: 0 (0.00 Byte)\n",
            "_________________________________________________________________\n"
          ]
        }
      ]
    },
    {
      "cell_type": "markdown",
      "metadata": {
        "id": "BEfkQmx8iRUH"
      },
      "source": [
        "После описания архитектуры необходимо скомпилировать модель, указав минимизируемую функцию потерь,\n",
        "оптимизатор и попросив модель выводить точность работы на тестовой выборке в процессе обучения\n"
      ]
    },
    {
      "cell_type": "code",
      "metadata": {
        "id": "QzkuwxBuiOzS"
      },
      "source": [
        "# Компилируем модель с функцией ошибки categorical entropy, оптимизатором Адам\n",
        "# (оптимизатор, который со стандартным набором параметров может обучить эффективную\n",
        "#  нейросеть), и метрикой - количеством правильно угаданных цифр.\n",
        "conv_model.compile(loss='categorical_crossentropy',\n",
        "                   optimizer='adam',\n",
        "                   metrics=['accuracy'])"
      ],
      "execution_count": null,
      "outputs": []
    },
    {
      "cell_type": "markdown",
      "metadata": {
        "id": "S4mM0LJphwui"
      },
      "source": [
        "Тренировка с указанием данных, числа эпох и размера подвыборки"
      ]
    },
    {
      "cell_type": "code",
      "metadata": {
        "id": "n3f0J-COhuc6",
        "colab": {
          "base_uri": "https://localhost:8080/"
        },
        "outputId": "9c7129e2-2943-4ccf-bcc3-34c586e5c484"
      },
      "source": [
        "conv_model.fit(X_train, y_train, epochs=5, batch_size=32)"
      ],
      "execution_count": null,
      "outputs": [
        {
          "output_type": "stream",
          "name": "stdout",
          "text": [
            "Epoch 1/5\n",
            "1875/1875 [==============================] - 13s 4ms/step - loss: 0.1534 - accuracy: 0.9539\n",
            "Epoch 2/5\n",
            "1875/1875 [==============================] - 6s 3ms/step - loss: 0.0494 - accuracy: 0.9847\n",
            "Epoch 3/5\n",
            "1875/1875 [==============================] - 6s 3ms/step - loss: 0.0286 - accuracy: 0.9910\n",
            "Epoch 4/5\n",
            "1875/1875 [==============================] - 7s 4ms/step - loss: 0.0175 - accuracy: 0.9940\n",
            "Epoch 5/5\n",
            "1875/1875 [==============================] - 6s 3ms/step - loss: 0.0122 - accuracy: 0.9962\n"
          ]
        },
        {
          "output_type": "execute_result",
          "data": {
            "text/plain": [
              "<keras.src.callbacks.History at 0x7fe4ced5bf40>"
            ]
          },
          "metadata": {},
          "execution_count": 27
        }
      ]
    },
    {
      "cell_type": "markdown",
      "metadata": {
        "id": "NzMjjDbzil3b"
      },
      "source": [
        "Проверим качество работы модели на тестовых данных. Выводится loss и точность."
      ]
    },
    {
      "cell_type": "code",
      "metadata": {
        "id": "M5AnjO2JL1Xj",
        "colab": {
          "base_uri": "https://localhost:8080/"
        },
        "outputId": "c300bc61-d195-4baa-d228-da9054e269fc"
      },
      "source": [
        "conv_model.evaluate(X_test, y_test)"
      ],
      "execution_count": null,
      "outputs": [
        {
          "output_type": "stream",
          "name": "stdout",
          "text": [
            "313/313 [==============================] - 1s 3ms/step - loss: 0.0555 - accuracy: 0.9828\n"
          ]
        },
        {
          "output_type": "execute_result",
          "data": {
            "text/plain": [
              "[0.05545195937156677, 0.9828000068664551]"
            ]
          },
          "metadata": {},
          "execution_count": 28
        }
      ]
    },
    {
      "cell_type": "code",
      "source": [
        "# Значения точности и потерь несверточной НС:\n",
        "\n",
        "# epoch = 5, batch_size = 32\n",
        "# loss: 0.0727 - accuracy: 0.9786"
      ],
      "metadata": {
        "id": "9eNECcq19SUv"
      },
      "execution_count": null,
      "outputs": []
    },
    {
      "cell_type": "markdown",
      "metadata": {
        "id": "cQLUPBbJMky5"
      },
      "source": [
        "#### Получение предсказаний классов на основе выходных данных нейросети\n",
        "\n",
        "Как мы уже поняли, выходной слой нейросети возвращает нам вектор длиной $10$ (количество классов) с **вероятностями** принадлежности данного объекта каждому классу. Как же нам получить итоговые предсказания, то есть сами **номера классов**?"
      ]
    },
    {
      "cell_type": "markdown",
      "metadata": {
        "id": "keN5xDLoLvvr"
      },
      "source": [
        "\n",
        "Верифицируем, что полученное значение точности модели соответствует точности модели, которую мы получим с помощью обычной кобминации подсчета прогноза и затем вызова функции accuracy_score."
      ]
    },
    {
      "cell_type": "code",
      "metadata": {
        "id": "Am7beN2MILMj",
        "colab": {
          "base_uri": "https://localhost:8080/"
        },
        "outputId": "95229c91-4368-4cd8-8fa9-cb17055e6ca1"
      },
      "source": [
        "# Импортируем знакомую нам функцию подсчета accuracy\n",
        "from sklearn.metrics import accuracy_score\n",
        "\n",
        "# Метод predict модели возвращает выходные значения последнего слоя нейросети\n",
        "# То есть y_test_predictions сейчас содержит len(X_test) векторов\n",
        "# предсказанных вероятностей\n",
        "y_test_predictions = conv_model.predict(X_test)\n",
        "\n",
        "# y_test содержит one-hot формат исходных классов, то есть вероятности 1, стоящие\n",
        "# в элементах вектора, отвечающих за правильный номер класса\n",
        "\n",
        "# Получим предсказанные номера классов, попросив выдать нам номера выходного вектора,\n",
        "# содержащие самые большие вероятности (то есть тот класс, в котором сеть уверена\n",
        "#                                       с наибольшей вероятностью)\n",
        "# Это делается при помощи функции np.argmax. Аргумент axis показывает,\n",
        "# что нас интересует поиск максимальных значений не среди всей выборки (axis=0),\n",
        "# а среди 10ти классов (axis=1)\n",
        "\n",
        "y_predicted_classes=np.argmax(y_test_predictions, axis=1)\n",
        "y_real_classes=np.argmax(y_test, axis=1)\n",
        "\n",
        "#посчитаем точность наших предсказаний\n",
        "print(accuracy_score(y_real_classes, y_predicted_classes))"
      ],
      "execution_count": null,
      "outputs": [
        {
          "output_type": "stream",
          "name": "stdout",
          "text": [
            "313/313 [==============================] - 1s 2ms/step\n",
            "0.9828\n"
          ]
        }
      ]
    },
    {
      "cell_type": "markdown",
      "metadata": {
        "id": "jPX9MA3Jnw3V"
      },
      "source": [
        "## 5) Бонус: Переобучение. Dropout\n",
        "\n",
        "Иногда нейросеть вместо того, чтобы \"понять\" общие паттерны данных просто \"заучивает\" обучающую выборку: на тренировочной части датасета модель правильно угадывает принадлежность к классу, а на валидационном датасете результативность в разы снижается."
      ]
    },
    {
      "cell_type": "markdown",
      "metadata": {
        "id": "Wt4_WlQVe7r_"
      },
      "source": [
        "\n",
        "\n",
        "Такая ситуация называется **переобучением** (overfitting).\n",
        "\n",
        "<img src=\"https://miro.medium.com/max/900/1*xoXxugPVIeZImf5NVfIwAQ.jpeg\" width=\"500\">\n",
        "\n",
        "\n"
      ]
    },
    {
      "cell_type": "markdown",
      "metadata": {
        "id": "ssBYo-mUgD00"
      },
      "source": [
        "**Dropout** - техника спасения нейросетей от переобучения, при которой в процессе тренировки случайно \"выключаются\" некоторые нейроны из моделей.\n",
        "\n",
        "Альтернативный взгляд - вместо тренировки одной большой сети проходит одновременная тренировка нескольких подсетей меньшего размера, результаты которых потом усредняются (в каком то смысле, сглаживаются).\n",
        "\n",
        "![](https://github.com/MerkulovDaniil/TensorFlow_and_Keras_crash_course/blob/master/rus/2_Deep%20Learning%20and%20Keras/dropout.gif?raw=true)\n",
        "\n",
        "Давайте попробуем посмотреть, как написать сеть, состоящую из нескольких сверточных слоев с использованием `dropout` на `keras`"
      ]
    },
    {
      "cell_type": "markdown",
      "metadata": {
        "id": "AFvowfoLkHtp"
      },
      "source": [
        "### 7. Модель из нескольких сверточных слоев с дропаутами"
      ]
    },
    {
      "cell_type": "code",
      "metadata": {
        "id": "7J6YIa0RnIwj"
      },
      "source": [
        "from keras.layers import Conv2D, MaxPooling2D, Dropout\n",
        "\n",
        "\n",
        "# Все так же, создаем модель\n",
        "cnn = Sequential()\n",
        "\n",
        "# Начинаем со сверточного слоя, указывая тип активации на выходе из него и способ заполнения краев (padding)\n",
        "cnn.add(Conv2D(64, (3, 3), input_shape=input_size, activation='selu', padding='same'))\n",
        "\n",
        "\n",
        "# Слой dropout, который на каждом шаге \"выключает\" 25% случайно выбранных нейронов\n",
        "cnn.add(Dropout(0.25))\n",
        "\n",
        "# Еще сверточный слой\n",
        "cnn.add(Conv2D(32, (3, 3), activation='selu', padding='same'))\n",
        "# Здесь мы используем метод MaxPooling, который уменьшает размер обрабатываемого изображения,\n",
        "# выбирая из 4 пикселей 1 с максимальным значением, чтобы это быстрее считалось. (2,2) -> 1\n",
        "cnn.add(MaxPooling2D(pool_size=(2, 2)))\n",
        "\n",
        "cnn.add(Dropout(0.5))\n",
        "\n",
        "# Последний слой необходим для классификации, но перед ним необходимо векторизовать данные\n",
        "cnn.add(Flatten())\n",
        "cnn.add(Dense(10, activation='softmax'))\n",
        "\n",
        "# Компилируем модель с функцией ошибки categorical entropy, оптимизатором Адам\n",
        "# (оптимизатор, который со стандартным набором параметров может обучить эффективную\n",
        "#  нейросеть), и метрикой - количеством правильно угаданных цифр.\n",
        "cnn.compile(loss='categorical_crossentropy',\n",
        "                  optimizer = 'nadam',\n",
        "                  metrics = ['accuracy'])"
      ],
      "execution_count": null,
      "outputs": []
    },
    {
      "cell_type": "markdown",
      "metadata": {
        "id": "Ck0Qst43YZpe"
      },
      "source": [
        "#Посмотрим, из чего у нас состоит итоговая архитектура"
      ]
    },
    {
      "cell_type": "code",
      "metadata": {
        "id": "ndYDYVxInMT3",
        "colab": {
          "base_uri": "https://localhost:8080/"
        },
        "outputId": "aa5f06ae-ffc3-4101-93b4-282888b2c693"
      },
      "source": [
        "cnn.summary()"
      ],
      "execution_count": null,
      "outputs": [
        {
          "output_type": "stream",
          "name": "stdout",
          "text": [
            "Model: \"sequential_2\"\n",
            "_________________________________________________________________\n",
            " Layer (type)                Output Shape              Param #   \n",
            "=================================================================\n",
            " conv2d_1 (Conv2D)           (None, 28, 28, 64)        640       \n",
            "                                                                 \n",
            " dropout (Dropout)           (None, 28, 28, 64)        0         \n",
            "                                                                 \n",
            " conv2d_2 (Conv2D)           (None, 28, 28, 32)        18464     \n",
            "                                                                 \n",
            " max_pooling2d (MaxPooling2  (None, 14, 14, 32)        0         \n",
            " D)                                                              \n",
            "                                                                 \n",
            " dropout_1 (Dropout)         (None, 14, 14, 32)        0         \n",
            "                                                                 \n",
            " flatten_2 (Flatten)         (None, 6272)              0         \n",
            "                                                                 \n",
            " dense_4 (Dense)             (None, 10)                62730     \n",
            "                                                                 \n",
            "=================================================================\n",
            "Total params: 81834 (319.66 KB)\n",
            "Trainable params: 81834 (319.66 KB)\n",
            "Non-trainable params: 0 (0.00 Byte)\n",
            "_________________________________________________________________\n"
          ]
        }
      ]
    },
    {
      "cell_type": "markdown",
      "metadata": {
        "id": "Wex4jl5eYTJy"
      },
      "source": [
        "### fit натренируем 5 эпох нашу модель с размером батча 128"
      ]
    },
    {
      "cell_type": "code",
      "source": [
        "# При помощи fit натренируем 5 эпох нашу модель с размером батча 128\n",
        "# На выходе мы получим натренированную модель и структуру history_cnn,\n",
        "# из которой можно достать значения функции ошибки и метрик качества\n",
        "\n",
        "history_cnn = cnn.fit(X_train, y_train,\n",
        "      batch_size=128,\n",
        "      epochs=5,\n",
        "      validation_data=(X_test, y_test))"
      ],
      "metadata": {
        "colab": {
          "base_uri": "https://localhost:8080/"
        },
        "id": "nsTBg7qcQJvQ",
        "outputId": "1df58433-5b60-4a64-b2da-815b3ae799c9"
      },
      "execution_count": null,
      "outputs": [
        {
          "output_type": "stream",
          "name": "stdout",
          "text": [
            "Epoch 1/5\n",
            "469/469 [==============================] - 6s 13ms/step - loss: 0.0907 - accuracy: 0.9729 - val_loss: 0.0753 - val_accuracy: 0.9766\n",
            "Epoch 2/5\n",
            "469/469 [==============================] - 6s 14ms/step - loss: 0.0849 - accuracy: 0.9743 - val_loss: 0.0548 - val_accuracy: 0.9822\n",
            "Epoch 3/5\n",
            "469/469 [==============================] - 6s 14ms/step - loss: 0.0800 - accuracy: 0.9759 - val_loss: 0.0789 - val_accuracy: 0.9778\n",
            "Epoch 4/5\n",
            "469/469 [==============================] - 6s 14ms/step - loss: 0.0786 - accuracy: 0.9764 - val_loss: 0.0615 - val_accuracy: 0.9828\n",
            "Epoch 5/5\n",
            "469/469 [==============================] - 6s 13ms/step - loss: 0.0769 - accuracy: 0.9772 - val_loss: 0.0613 - val_accuracy: 0.9831\n"
          ]
        }
      ]
    },
    {
      "cell_type": "code",
      "source": [
        "for batch_size in [64, 128]:\n",
        "    for epochs in [5]:\n",
        "        print(f'batch_size = {batch_size}, epochs = {epochs}')\n",
        "        history_cnn = cnn.fit(X_train, y_train, batch_size=batch_size, epochs=epochs, validation_data=(X_test, y_test))"
      ],
      "metadata": {
        "colab": {
          "base_uri": "https://localhost:8080/"
        },
        "id": "a6yIVaCuTKZe",
        "outputId": "78273d5d-1f67-497d-9064-0d6d6e15a494"
      },
      "execution_count": null,
      "outputs": [
        {
          "output_type": "stream",
          "name": "stdout",
          "text": [
            "batch_size = 64, epochs = 5\n",
            "Epoch 1/5\n",
            "938/938 [==============================] - 8s 9ms/step - loss: 0.1042 - accuracy: 0.9708 - val_loss: 0.0950 - val_accuracy: 0.9757\n",
            "Epoch 2/5\n",
            "938/938 [==============================] - 8s 9ms/step - loss: 0.0978 - accuracy: 0.9728 - val_loss: 0.0739 - val_accuracy: 0.9800\n",
            "Epoch 3/5\n",
            "938/938 [==============================] - 8s 9ms/step - loss: 0.0982 - accuracy: 0.9731 - val_loss: 0.0944 - val_accuracy: 0.9753\n",
            "Epoch 4/5\n",
            "938/938 [==============================] - 9s 9ms/step - loss: 0.0938 - accuracy: 0.9741 - val_loss: 0.0759 - val_accuracy: 0.9790\n",
            "Epoch 5/5\n",
            "938/938 [==============================] - 8s 9ms/step - loss: 0.0928 - accuracy: 0.9735 - val_loss: 0.0758 - val_accuracy: 0.9805\n",
            "batch_size = 128, epochs = 5\n",
            "Epoch 1/5\n",
            "469/469 [==============================] - 6s 13ms/step - loss: 0.0718 - accuracy: 0.9790 - val_loss: 0.0685 - val_accuracy: 0.9824\n",
            "Epoch 2/5\n",
            "469/469 [==============================] - 6s 14ms/step - loss: 0.0697 - accuracy: 0.9795 - val_loss: 0.0679 - val_accuracy: 0.9825\n",
            "Epoch 3/5\n",
            "469/469 [==============================] - 6s 13ms/step - loss: 0.0675 - accuracy: 0.9796 - val_loss: 0.0611 - val_accuracy: 0.9836\n",
            "Epoch 4/5\n",
            "469/469 [==============================] - 6s 13ms/step - loss: 0.0667 - accuracy: 0.9799 - val_loss: 0.0737 - val_accuracy: 0.9816\n",
            "Epoch 5/5\n",
            "469/469 [==============================] - 6s 13ms/step - loss: 0.0685 - accuracy: 0.9794 - val_loss: 0.0691 - val_accuracy: 0.9841\n"
          ]
        }
      ]
    },
    {
      "cell_type": "markdown",
      "source": [
        "1. **64-5** ==> loss: 0.0953 - accuracy: 0.9789 - val_loss: 0.1127 - val_accuracy: 0.9824\n",
        "2. **64-10** ==> loss: 0.0895 - accuracy: 0.9794 - val_loss: 0.1159 - val_accuracy: 0.9808\n",
        "3. **64-15** ==> loss: 0.0909 - accuracy: 0.9797 - val_loss: 0.1262 - val_accuracy: 0.9805\n",
        "4. **128-5** ==> loss: 0.0687 - accuracy: 0.9825 - val_loss: 0.1086 - val_accuracy: 0.9821\n",
        "5. **128-10** ==> loss: 0.0659 - accuracy: 0.9825 - val_loss: 0.1139 - val_accuracy: 0.9804\n",
        "6. **128-15** ==> loss: 0.0598 - accuracy: 0.9845 - val_loss: 0.1087 - val_accuracy: 0.9821\n",
        "7. **256-5** ==> loss: 0.0474 - accuracy: 0.9862 - val_loss: 0.0927 - val_accuracy: 0.9836\n",
        "8. **256-10** ==> loss: 0.0475 - accuracy: 0.9860 - val_loss: 0.0890 - val_accuracy: 0.9831\n",
        "9. **256-15** ==> loss: 0.0476 - accuracy: 0.9867 - val_loss: 0.0881 - val_accuracy: 0.9831\n",
        "**ВЫВОД:**\n",
        "1. При количестве эпох = 5, мы получаем наивысшую точность модели на тестовых данных на последней эпохе обучения.\n",
        "2. При увеличении количества эпох при маленьком размере бэтча увеличиваются потери на тестовых данныъ (предположительно происходит переобучение). При большом размере бэтча это происходит в меньшей степени.\n",
        "3. Наибольшая точность по всем значениям получена при размере бэтча 256 и 5 эпох.\n"
      ],
      "metadata": {
        "id": "TbaziTuNVAks"
      }
    },
    {
      "cell_type": "markdown",
      "source": [
        "\n"
      ],
      "metadata": {
        "id": "rMXm40IPUacK"
      }
    },
    {
      "cell_type": "code",
      "source": [
        "cnn.evaluate(X_test, y_test)"
      ],
      "metadata": {
        "colab": {
          "base_uri": "https://localhost:8080/"
        },
        "id": "o6KEUnZdAHr1",
        "outputId": "90c0d7a3-f286-4d67-d9a6-35213a920169"
      },
      "execution_count": null,
      "outputs": [
        {
          "output_type": "stream",
          "name": "stdout",
          "text": [
            "313/313 [==============================] - 2s 6ms/step - loss: 0.0613 - accuracy: 0.9831\n"
          ]
        },
        {
          "output_type": "execute_result",
          "data": {
            "text/plain": [
              "[0.06133924424648285, 0.9830999970436096]"
            ]
          },
          "metadata": {},
          "execution_count": 36
        }
      ]
    },
    {
      "cell_type": "markdown",
      "metadata": {
        "id": "xFWZiryEYI5W"
      },
      "source": [
        "#### history_cnn.history - словарь, содержащий значения функции ошибки и точности на трейновой и тестовой выборках каждую эпоху"
      ]
    },
    {
      "cell_type": "code",
      "metadata": {
        "id": "QUICZr1xGMIT",
        "colab": {
          "base_uri": "https://localhost:8080/"
        },
        "outputId": "879f89d1-a074-42d1-8c39-39222cbfd5e7"
      },
      "source": [
        "history_cnn.history.keys()\n"
      ],
      "execution_count": null,
      "outputs": [
        {
          "output_type": "execute_result",
          "data": {
            "text/plain": [
              "dict_keys(['loss', 'accuracy', 'val_loss', 'val_accuracy'])"
            ]
          },
          "metadata": {},
          "execution_count": 39
        }
      ]
    },
    {
      "cell_type": "markdown",
      "metadata": {
        "id": "HkBWUguNYCOt"
      },
      "source": [
        "#### графики точности на валидационной (val_acc) и трейновой (acc) выборках\n",
        "в конце каждой эпохи обучения"
      ]
    },
    {
      "cell_type": "code",
      "metadata": {
        "id": "RW1V8_Qtdnf-"
      },
      "source": [
        "# Построим графики точности на валидационной (val_acc) и трейновой (acc) выборках\n",
        "# в конце каждой эпохи обучения\n",
        "\n",
        "plt.plot(history_cnn.history['val_accuracy'], '-o', label='validation accuracy')\n",
        "plt.plot(history_cnn.history['accuracy'], '--s', label='training accuracy')\n",
        "plt.legend();"
      ],
      "execution_count": null,
      "outputs": []
    },
    {
      "cell_type": "markdown",
      "metadata": {
        "id": "vLe2SiWKX42-"
      },
      "source": [
        "#### метрики качества нашей нейросети (функцию ошибки и точность)\n",
        "для тестовой выборки"
      ]
    },
    {
      "cell_type": "code",
      "metadata": {
        "id": "S87Xm1NcqkBV"
      },
      "source": [
        "# Выведем метрики качества нашей нейросети (функцию ошибки и точность)\n",
        "# для тестовой выборки\n",
        "cnn.evaluate(X_test, y_test)"
      ],
      "execution_count": null,
      "outputs": []
    },
    {
      "cell_type": "markdown",
      "metadata": {
        "id": "54EsL6PlvcQp"
      },
      "source": [
        "## Выводы\n",
        "\n",
        "\n",
        "\n"
      ]
    },
    {
      "cell_type": "markdown",
      "metadata": {
        "id": "hcttYN6b160g"
      },
      "source": [
        "1.   Мы познакомились с **нейросетями** и основными терминами - **нейрон**, **слои**, **функция активации**, **функция ошибки (loss)**, **обучение/тренировка**, **батч**, **эпоха**...\n",
        "\n",
        "2.   Начали учиться работать с библиотекой для \"дрессировки\" нейронных сетей **`keras`**\n",
        "\n",
        "3.   На примере одного из самых популярных датасетов черно-белых картинок **MNIST** посмотрели, как строить нейросети для задачи **классификации**\n",
        "\n",
        "4.  Узнали разницу между **полносвязными Dense** и **сверточными Conv2D** слоями нейросетей и поняли, что свертки позволяют обучать гораздо более эффективные предсказательные модели на изображениях.\n",
        "Кстати, свёрточная обучилась до конечной точности за 1 проход, а не за 3-5, как полносвязная.\n",
        "\n",
        "5.  Получили представление о **переобучении** нейросетей и узнали один из способов увеличения обобщающей способности модели - **Dropout**\n",
        "\n",
        "6. Познакомились с новыми слоями нейростей - **Flatten**, превращающим картинку в вектор и  **MaxPooling** - уменьшающим размер изображения после свертки\n"
      ]
    },
    {
      "cell_type": "markdown",
      "metadata": {
        "id": "-rUFs2EEr_PD"
      },
      "source": [
        "![Градиентный спуск](https://neurohive.io/wp-content/uploads/2018/11/minimum-funkcii-570x309.png)"
      ]
    }
  ]
}