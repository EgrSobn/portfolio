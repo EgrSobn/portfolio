{
  "nbformat": 4,
  "nbformat_minor": 0,
  "metadata": {
    "kernelspec": {
      "display_name": "Python 3",
      "language": "python",
      "name": "python3"
    },
    "language_info": {
      "codemirror_mode": {
        "name": "ipython",
        "version": 3
      },
      "file_extension": ".py",
      "mimetype": "text/x-python",
      "name": "python",
      "nbconvert_exporter": "python",
      "pygments_lexer": "ipython3",
      "version": "3.7.5"
    },
    "name": "lesson11_recsys.ipynb",
    "colab": {
      "provenance": []
    },
    "accelerator": "GPU"
  },
  "cells": [
    {
      "cell_type": "markdown",
      "metadata": {
        "collapsed": true,
        "id": "Y4hNYuBMxyoa"
      },
      "source": [
        "# Рекомендательные системы"
      ]
    },
    {
      "cell_type": "markdown",
      "metadata": {
        "id": "qYGpzP9Wxyoc"
      },
      "source": [
        "Идея рекомендательных систем на основе ближайшего соседа – использовать предпочтения некоторой группы людей, похожих на данного пользователя, чтобы рекомендовать ему что-либо.\n",
        "\n",
        "У такой модели много применений:\n",
        "    \n",
        "   * рекомендация товаров интернет-магазинов\n",
        "   * рекомендация музыки или фильмов\n",
        "   * рекомендация людей/контента в социальных сетях"
      ]
    },
    {
      "cell_type": "markdown",
      "metadata": {
        "collapsed": true,
        "id": "kAuT-D94xyod"
      },
      "source": [
        "<a href=\"https://github.com/gustavohpo2016/notebook/blob/master/Rec_Engine_Image_Amazon.png?raw=true\" target=\"_blank\"><img src=\"https://github.com/gustavohpo2016/notebook/blob/master/Rec_Engine_Image_Amazon.png?raw=true\"\n",
        "alt=\"IMAGE ALT TEXT HERE\" width=\"700\" border=\"0\" /></a>\n",
        "\n"
      ]
    },
    {
      "cell_type": "markdown",
      "metadata": {
        "id": "Dk3ekSpTxyoe"
      },
      "source": [
        "**Пример рекомендательной системы Amazon.com**"
      ]
    },
    {
      "cell_type": "markdown",
      "metadata": {
        "id": "kVL4BOUmxyof"
      },
      "source": [
        "![](imdb.png)\n",
        "\n",
        "  <a href=\"https://drive.google.com/uc?id=1jAZLpihYxu_FPvN9PIJ1G4S_KvO_6Ku6\n",
        "  \" target=\"_blank\"><img src=\"https://drive.google.com/uc?id=1zEIj_g4A-5assEIxY7UCQpLMsaETmyCi\"\n",
        "  alt=\"IMAGE ALT TEXT HERE\" width=\"700\" border=\"0\" /></a>\n"
      ]
    },
    {
      "cell_type": "markdown",
      "source": [
        "Наиболее популярными решениями для построения рекомендальных систем являются: user-based (оценивается схожесть между пользователями) и item-based (оценивается схожесть между объектами).\n",
        "\n",
        "<a href=\"https://miro.medium.com/max/1400/1*QvhetbRjCr1vryTch_2HZQ.jpeg\" target=\"_blank\"><img src=\"https://miro.medium.com/max/1400/1*QvhetbRjCr1vryTch_2HZQ.jpeg\"\n",
        "alt=\"IMAGE ALT TEXT HERE\" width=\"700\" border=\"0\" /></a>\n",
        "\n"
      ],
      "metadata": {
        "id": "I2ngt5AUElY4"
      }
    },
    {
      "cell_type": "markdown",
      "metadata": {
        "id": "HKjLouqcxyog"
      },
      "source": [
        "**Рекомендация фильмов от IMDb**"
      ]
    },
    {
      "cell_type": "markdown",
      "metadata": {
        "id": "qyeCkv1Yxyoh"
      },
      "source": [
        "Естественный способ получить рекомендацию о чем-либо - спросить мнение об этом у друзей или любых людей, которым нравится то же, что и вам. Эту идею можно использовать и для машины: для каждого человека алгоритм просматривает большую группу людей и ищет в ней подгруппу с похожим на данного человека вкусом. Далее создается список того, что еще нравится этим людям, а затем человеку рекомендуются предложения из этого списка. Такой алгоритм называется алгоритмом **коллаборативной фильтрации**."
      ]
    },
    {
      "cell_type": "markdown",
      "metadata": {
        "id": "Gyar1-zixyoi"
      },
      "source": [
        "**Отключаем предупреждения**\n",
        "\n",
        "Библиотека **warnings** отвечает за то, какие предупреждения (warnings) о работе будут выводиться пользователю.\n",
        "FutureWarning - предупреждения о том, как изменится работа библиотек в будущих версиях. Такие предупреждения мы будем игнорировать.\n",
        "Чтобы включить режим игнорирования, мы отбираем все предупреждения из категории FutureWarning и выбираем для них действия 'ignore'.\n",
        "Это делается вызовом функции simplefilter c задание двух атрибутов: действия action и категории предупреждений category.\n",
        "\n",
        "**Code 0:**"
      ]
    },
    {
      "cell_type": "code",
      "metadata": {
        "id": "ckjaZ99Bxyoj"
      },
      "source": [
        "import warnings\n",
        "warnings.filterwarnings(\"ignore\", category=FutureWarning)"
      ],
      "execution_count": null,
      "outputs": []
    },
    {
      "cell_type": "markdown",
      "metadata": {
        "id": "KVU_vx2kxyon"
      },
      "source": [
        "Для красивого вывода на экран сложных объектов будем использовать **pprint**"
      ]
    },
    {
      "cell_type": "code",
      "metadata": {
        "id": "C98_ZyD-xyoo"
      },
      "source": [
        "import pprint\n",
        "pp = pprint.PrettyPrinter(indent=4)"
      ],
      "execution_count": null,
      "outputs": []
    },
    {
      "cell_type": "markdown",
      "metadata": {
        "id": "6Rcimj60xyoq"
      },
      "source": [
        "### Подготовка данных"
      ]
    },
    {
      "cell_type": "markdown",
      "metadata": {
        "id": "W1k3PWS_xyor"
      },
      "source": [
        "Чтобы хранить сразу много предпочтений для каждого человека, удобнее всего воспользоваться **вложенным словарем**.\n",
        "\n",
        "Самый простой способ создать словарь в python - использовать фигурные скобки {}. Данные в словаре хранятся в формате ключ – значение, разделенные двоеточием:\n",
        "\n",
        "```python\n",
        "dict = {'key': 'value'}\n",
        "```\n",
        "\n",
        "Мы будем работать с *вложенным словарем* кинокритиков и выставленных ими оценок для небольшого набора данных о фильмах. Построим его следующим образом:\n",
        "\n",
        "1) для каждого кинокритика создаем словарь оценок фильмов в формате\n",
        "   ```python\n",
        "    scores_dict = {\n",
        "        'film_1': 'score_1',\n",
        "        'film_2': 'score_2',\n",
        "        ...\n",
        "    }\n",
        "   ```\n",
        "   \n",
        "2) создаем словарь кинокритиков, где в качестве значений будет соответствующий ему словарь оценок\n",
        "   ```python\n",
        "     critics = {\n",
        "         'name_1': 'scores_dict_1',\n",
        "         'name_2': 'scores_dict_2',\n",
        "         ...\n",
        "     }\n",
        "   ```\n",
        "   \n",
        "**Code 1:**"
      ]
    },
    {
      "cell_type": "code",
      "metadata": {
        "id": "rW47UBSVxyos"
      },
      "source": [
        "# Словарь кинокритиков и выставленных ими оценок\n",
        "critics={'Lisa Rose': {'Lady in the Water': 2.5, 'Snakes on a Plane': 3.5,\n",
        " 'Just My Luck': 3.0, 'Superman Returns': 3.5, 'You, Me and Dupree': 2.5,\n",
        " 'The Night Listener': 3.0},\n",
        "'Gene Seymour': {'Lady in the Water': 3.0, 'Snakes on a Plane': 3.5,\n",
        " 'Just My Luck': 1.5, 'Superman Returns': 5.0, 'The Night Listener': 3.0,\n",
        " 'You, Me and Dupree': 3.5},\n",
        "'Michael Phillips': {'Lady in the Water': 2.5, 'Snakes on a Plane': 3.0,\n",
        " 'Superman Returns': 3.5, 'The Night Listener': 4.0},\n",
        "'Claudia Puig': {'Snakes on a Plane': 3.5, 'Just My Luck': 3.0,\n",
        " 'The Night Listener': 4.5, 'Superman Returns': 4.0,\n",
        " 'You, Me and Dupree': 2.5},\n",
        "'Mick LaSalle': {'Lady in the Water': 3.0, 'Snakes on a Plane': 4.0,\n",
        " 'Just My Luck': 2.0, 'Superman Returns': 3.0, 'The Night Listener': 3.0,\n",
        " 'You, Me and Dupree': 2.0},\n",
        "'Jack Matthews': {'Lady in the Water': 3.0, 'Snakes on a Plane': 4.0,\n",
        " 'The Night Listener': 3.0, 'Superman Returns': 5.0, 'You, Me and Dupree': 3.5},\n",
        "'Toby': {'Snakes on a Plane':4.5,'You, Me and Dupree':1.0,'Superman Returns':4.0}}"
      ],
      "execution_count": null,
      "outputs": []
    },
    {
      "cell_type": "code",
      "metadata": {
        "id": "PeqIatl7xyov",
        "colab": {
          "base_uri": "https://localhost:8080/"
        },
        "outputId": "17919350-5b4f-4c82-b954-2e10530b1376"
      },
      "source": [
        "pp.pprint(critics)"
      ],
      "execution_count": null,
      "outputs": [
        {
          "output_type": "stream",
          "name": "stdout",
          "text": [
            "{   'Claudia Puig': {   'Just My Luck': 3.0,\n",
            "                        'Snakes on a Plane': 3.5,\n",
            "                        'Superman Returns': 4.0,\n",
            "                        'The Night Listener': 4.5,\n",
            "                        'You, Me and Dupree': 2.5},\n",
            "    'Gene Seymour': {   'Just My Luck': 1.5,\n",
            "                        'Lady in the Water': 3.0,\n",
            "                        'Snakes on a Plane': 3.5,\n",
            "                        'Superman Returns': 5.0,\n",
            "                        'The Night Listener': 3.0,\n",
            "                        'You, Me and Dupree': 3.5},\n",
            "    'Jack Matthews': {   'Lady in the Water': 3.0,\n",
            "                         'Snakes on a Plane': 4.0,\n",
            "                         'Superman Returns': 5.0,\n",
            "                         'The Night Listener': 3.0,\n",
            "                         'You, Me and Dupree': 3.5},\n",
            "    'Lisa Rose': {   'Just My Luck': 3.0,\n",
            "                     'Lady in the Water': 2.5,\n",
            "                     'Snakes on a Plane': 3.5,\n",
            "                     'Superman Returns': 3.5,\n",
            "                     'The Night Listener': 3.0,\n",
            "                     'You, Me and Dupree': 2.5},\n",
            "    'Michael Phillips': {   'Lady in the Water': 2.5,\n",
            "                            'Snakes on a Plane': 3.0,\n",
            "                            'Superman Returns': 3.5,\n",
            "                            'The Night Listener': 4.0},\n",
            "    'Mick LaSalle': {   'Just My Luck': 2.0,\n",
            "                        'Lady in the Water': 3.0,\n",
            "                        'Snakes on a Plane': 4.0,\n",
            "                        'Superman Returns': 3.0,\n",
            "                        'The Night Listener': 3.0,\n",
            "                        'You, Me and Dupree': 2.0},\n",
            "    'Toby': {   'Snakes on a Plane': 4.5,\n",
            "                'Superman Returns': 4.0,\n",
            "                'You, Me and Dupree': 1.0}}\n"
          ]
        }
      ]
    },
    {
      "cell_type": "markdown",
      "metadata": {
        "id": "fhKbiEVUxyo1"
      },
      "source": [
        "**Code 2:**  \n",
        "**Упражнение.** Выведите оценки, которые выставил Toby"
      ]
    },
    {
      "cell_type": "code",
      "metadata": {
        "id": "shl5uOURxyo1",
        "colab": {
          "base_uri": "https://localhost:8080/"
        },
        "outputId": "84514243-d0fb-4cb7-87d2-61a5f26d9324"
      },
      "source": [
        "# Самопроверка 2. Впишите код ниже и получите ответ аналогичный представленному выше\n",
        "\n",
        "# У вас должно получиться:\n",
        "pp.pprint(critics[\"Toby\"])"
      ],
      "execution_count": null,
      "outputs": [
        {
          "output_type": "stream",
          "name": "stdout",
          "text": [
            "{'Snakes on a Plane': 4.5, 'Superman Returns': 4.0, 'You, Me and Dupree': 1.0}\n"
          ]
        }
      ]
    },
    {
      "cell_type": "markdown",
      "metadata": {
        "id": "m-DbnG-Lxyo4"
      },
      "source": [
        "**Code 3:**  \n",
        "**Упражнение.** Выведите оценку критика Lisa Rose для фильма Lady in the Water"
      ]
    },
    {
      "cell_type": "code",
      "metadata": {
        "id": "_e4_I81Vxyo5",
        "colab": {
          "base_uri": "https://localhost:8080/"
        },
        "outputId": "5e7e6635-d7c3-45ca-b47b-6fa9fabda230"
      },
      "source": [
        "# Самопроверка 3. Впишите код ниже и получите ответ аналогичный представленному выше\n",
        "\n",
        "pp.pprint(critics[\"Lisa Rose\"][\"Lady in the Water\"])"
      ],
      "execution_count": null,
      "outputs": [
        {
          "output_type": "stream",
          "name": "stdout",
          "text": [
            "2.5\n"
          ]
        }
      ]
    },
    {
      "cell_type": "markdown",
      "metadata": {
        "id": "cf4lbaFSxyo7"
      },
      "source": [
        "### Критерий похожести"
      ]
    },
    {
      "cell_type": "markdown",
      "metadata": {
        "id": "iOgyFSQQxyo8"
      },
      "source": [
        "Как мы уже говорили, чтобы выделить подгруппу людей с похожим вкусом, необходимо как-то определить, насколько люди похожи. В нашем случае мы будем сравнивать оценки людей у одинаковых фильмов. Мы рассмотрим два способа сравнения. С помощью\n",
        "- расстояния Евклида\n",
        "- корреляции Пирсона"
      ]
    },
    {
      "cell_type": "markdown",
      "metadata": {
        "id": "88OOgKKXxyo9"
      },
      "source": [
        "**Оценка по евклидову расстоянию**"
      ]
    },
    {
      "cell_type": "markdown",
      "metadata": {
        "id": "2UhBb6NWxyo9"
      },
      "source": [
        "Евклидово расстояние для точек $x = (x_1, x_2, ... , x_n)$ и $y = (y_1, y_2, ... , y_n)$ определяется следующим образом:\n",
        "\n",
        "\\begin{equation}\n",
        "d(x, y) = \\sqrt{\\sum_{i = 1}^n (x_i - y_i)^2}\n",
        "\\end{equation}"
      ]
    },
    {
      "cell_type": "markdown",
      "metadata": {
        "id": "qJ3URIOrxyo-"
      },
      "source": [
        "Для вычисления квадратного корня можно воспользоваться готовой функцией **sqrt()** из библиотеки для работы с числами **math**:\n",
        "\n",
        "**Code 4:**"
      ]
    },
    {
      "cell_type": "code",
      "metadata": {
        "id": "yi82VNh0xyo_"
      },
      "source": [
        "from math import sqrt"
      ],
      "execution_count": null,
      "outputs": []
    },
    {
      "cell_type": "markdown",
      "metadata": {
        "id": "sPSNyHX5xypC"
      },
      "source": [
        "Для понимания расстояния Евклида рассмотрим случай, когда *n = 2*. То есть каждый объект выборки (точка) описывается двумя параметрами (координатами). $A = (x_1, y_1)$ и $B = (x_2, y_2)$. Тогда Евклидово расстояние равно расстоянию между точками на плоскости.\n",
        "\n",
        "\\begin{equation}\n",
        "d(A,B) = \\sqrt{(x_2 - x_1)^2 + (y_2 - y_1)^2}\n",
        "\\end{equation}\n",
        "\n",
        "Или, если представить задачу геометрически:\n",
        "\n",
        "<a href=\"https://drive.google.com/uc?id=1jAZLpihYxu_FPvN9PIJ1G4S_KvO_6Ku6\n",
        "\" target=\"_blank\"><img src=\"https://drive.google.com/uc?id=1BXgfArl4T8N2M4eFur3JrsGloGWDDAlb\"\n",
        "alt=\"IMAGE ALT TEXT HERE\" width=\"300\" border=\"0\" /></a>\n"
      ]
    },
    {
      "cell_type": "markdown",
      "metadata": {
        "id": "z9WNha1hvmhb"
      },
      "source": [
        "**Упражнение**  \n",
        "Реализуйте функцию для вычисления расстояния Евклида"
      ]
    },
    {
      "cell_type": "code",
      "metadata": {
        "id": "M8PyCnouvp-G"
      },
      "source": [
        "import math\n",
        "\n",
        "def compute_euclid(x, y):\n",
        "    squared_sum = 0\n",
        "    for i in range(len(x)):\n",
        "        squared_sum += (x[i] - y[i])**2\n",
        "    euclidean_dist = math.sqrt(squared_sum)\n",
        "    return euclidean_dist"
      ],
      "execution_count": null,
      "outputs": []
    },
    {
      "cell_type": "markdown",
      "metadata": {
        "id": "MP5fk4udxypC"
      },
      "source": [
        "Для примера вычислим расстояния Евклида для близких точек с координатам (1, 1) и (2, 3):\n",
        "\n",
        "**Code 5:**"
      ]
    },
    {
      "cell_type": "code",
      "metadata": {
        "id": "1BJV1H73xypD",
        "colab": {
          "base_uri": "https://localhost:8080/"
        },
        "outputId": "d7c014d7-9d1a-42ff-c06f-e5949ad4d573"
      },
      "source": [
        "compute_euclid([1, 1], [2, 3])\n",
        "\n",
        "# должно получиться:  2.23606797749979"
      ],
      "execution_count": null,
      "outputs": [
        {
          "output_type": "execute_result",
          "data": {
            "text/plain": [
              "2.23606797749979"
            ]
          },
          "metadata": {},
          "execution_count": 9
        }
      ]
    },
    {
      "cell_type": "markdown",
      "metadata": {
        "id": "QPl2ZDzSxypI"
      },
      "source": [
        "Теперь вычислим расстояния Евклида для точек, которые находятся далеко (1, 1) и (8, 10):\n",
        "\n",
        "**Code 6:**"
      ]
    },
    {
      "cell_type": "code",
      "metadata": {
        "id": "oS5NfMNHxypJ",
        "colab": {
          "base_uri": "https://localhost:8080/"
        },
        "outputId": "f3d3b392-3625-4d97-fb07-8cc86956148c"
      },
      "source": [
        "compute_euclid([1, 1], [8, 10])\n",
        "\n",
        "# должно получиться: 11.40175425099138"
      ],
      "execution_count": null,
      "outputs": [
        {
          "output_type": "execute_result",
          "data": {
            "text/plain": [
              "11.40175425099138"
            ]
          },
          "metadata": {},
          "execution_count": 10
        }
      ]
    },
    {
      "cell_type": "markdown",
      "metadata": {
        "id": "AZkWMa__xypL"
      },
      "source": [
        "Расстояние, вычисленное по этой формуле, будет тем меньше, чем больше сходство людей (чем ближе точки). Нам же нужна функция, значение которой будет, наоборот, большое, если люди сильно похожи друг на друга. То есть схожесть больше (от 0 до 1), если точки ближе друг другу\n",
        "\n",
        "\n",
        "Для этого будем использовать функцию \"похожести\" в таком виде:\n",
        "\n",
        "\\begin{equation}\n",
        "\\text{similarity }(x, y) = \\dfrac{1}{1 + d(x, y)},\n",
        "\\end{equation}\n",
        "\n",
        "где $d(x, y)$ - расстояние Евклида."
      ]
    },
    {
      "cell_type": "markdown",
      "metadata": {
        "id": "S0BcscxQxypM"
      },
      "source": [
        "Пример вычисления сходства по новой функции для точек с координатами (1, 1) и (2, 3):\n",
        "\n",
        "**Code 7:**"
      ]
    },
    {
      "cell_type": "code",
      "metadata": {
        "id": "NthnN2f3xypN",
        "colab": {
          "base_uri": "https://localhost:8080/"
        },
        "outputId": "455ba3ce-b73c-4778-de77-37d461aa864b"
      },
      "source": [
        "# Должно получиться 0.309016\n",
        "\n",
        "1 / (1 + compute_euclid([1, 1], [2, 3]))\n"
      ],
      "execution_count": null,
      "outputs": [
        {
          "output_type": "execute_result",
          "data": {
            "text/plain": [
              "0.3090169943749474"
            ]
          },
          "metadata": {},
          "execution_count": 11
        }
      ]
    },
    {
      "cell_type": "markdown",
      "metadata": {
        "id": "1FTeBZ00xypQ"
      },
      "source": [
        "Пример вычисления сходства по новой функции для точек с координатами (1, 1) и (8, 10):\n",
        "\n",
        "**Code 8:**"
      ]
    },
    {
      "cell_type": "code",
      "metadata": {
        "id": "UODSjEYaxypQ",
        "colab": {
          "base_uri": "https://localhost:8080/"
        },
        "outputId": "6b674110-522a-4cad-8b88-53105e1205fb"
      },
      "source": [
        "# По аналогии с предыдущей формулой вычислите сходство по новой функции для точек с координатами (1, 1) и (8, 10)\n",
        "1 / (1 + compute_euclid([1, 1], [8, 10]))\n",
        "\n",
        "\n",
        "# Должно получиться: 0.08063375388365411"
      ],
      "execution_count": null,
      "outputs": [
        {
          "output_type": "execute_result",
          "data": {
            "text/plain": [
              "0.08063375388365411"
            ]
          },
          "metadata": {},
          "execution_count": 12
        }
      ]
    },
    {
      "cell_type": "markdown",
      "metadata": {
        "id": "KxSbdwfTxypT"
      },
      "source": [
        "Далее реализуем несколько простых функций для коллаборативной фильтрации на основе ближайшего соседа. Чтобы воспользоваться ими, необходимо их импортировать из модуля **recommendations**:\n",
        "\n",
        "**Code 9:**"
      ]
    },
    {
      "cell_type": "code",
      "metadata": {
        "id": "2Fu2HzsZ9KF3"
      },
      "source": [
        "%%capture\n",
        "!wget https://www.dropbox.com/s/udwga4a1tohd99b/recommendations.py"
      ],
      "execution_count": null,
      "outputs": []
    },
    {
      "cell_type": "code",
      "metadata": {
        "id": "Vzx4ZVoxxypU"
      },
      "source": [
        "from recommendations import *"
      ],
      "execution_count": null,
      "outputs": []
    },
    {
      "cell_type": "markdown",
      "metadata": {
        "id": "QHfiH9dTxypX"
      },
      "source": [
        "Функцию для подсчета сходства двух критиков на основе расстояния Евклида реализована в модуле **recommendations** и называется **sim_distance()**. Функция принимает на вход три аргумента:\n",
        "* словарь критиков\n",
        "* имя первого критика для сравнения\n",
        "* имя второго критика для сравнения"
      ]
    },
    {
      "cell_type": "markdown",
      "metadata": {
        "id": "ravKDWOaxypY"
      },
      "source": [
        "Посмотрим, как работает эта функция для двух критиков Lisa Rose и Toby:\n",
        "\n",
        "**Code 10:**"
      ]
    },
    {
      "cell_type": "code",
      "metadata": {
        "id": "Dol4H8AgxypZ",
        "colab": {
          "base_uri": "https://localhost:8080/"
        },
        "outputId": "0e4db4b0-9357-44f0-b116-31af83e0ccb2"
      },
      "source": [
        "sim_distance(critics, 'Lisa Rose', 'Toby')"
      ],
      "execution_count": null,
      "outputs": [
        {
          "output_type": "execute_result",
          "data": {
            "text/plain": [
              "0.2222222222222222"
            ]
          },
          "metadata": {},
          "execution_count": 15
        }
      ]
    },
    {
      "cell_type": "markdown",
      "source": [
        "**Упражнение**  \n",
        "Реализуйте функцию для вычисления расстояния sim_distance для двух критиков: \"Mick LaSalle\" и \"Gene Seymour\""
      ],
      "metadata": {
        "id": "OYHDbjbobCyv"
      }
    },
    {
      "cell_type": "code",
      "source": [
        "sim_distance(critics, 'Mick LaSalle', 'Gene Seymour')"
      ],
      "metadata": {
        "id": "66nuxydkbh_o",
        "colab": {
          "base_uri": "https://localhost:8080/"
        },
        "outputId": "e3ca3f04-f1f1-4070-e527-2ce7df13bbf8"
      },
      "execution_count": null,
      "outputs": [
        {
          "output_type": "execute_result",
          "data": {
            "text/plain": [
              "0.12903225806451613"
            ]
          },
          "metadata": {},
          "execution_count": 16
        }
      ]
    },
    {
      "cell_type": "markdown",
      "metadata": {
        "id": "WCtW_24Sxype"
      },
      "source": [
        "Эта функция работает также как:\n",
        "\n",
        "\\begin{equation}\n",
        "\\text{similarity }(x, y) = \\dfrac{1}{1 + d(x, y)},\n",
        "\\end{equation}\n",
        "\n",
        "где $d(x, y)$ - расстояние Евклида.\n",
        "\n",
        "Однако, по осям будет фильмы и оценки от критиков. Если у критиков нет одинаковых фильмов, то мы этих критиков не рассматриваем"
      ]
    },
    {
      "cell_type": "markdown",
      "metadata": {
        "id": "nMyTUfCbxypf"
      },
      "source": [
        "**Коэффициент корреляции Пирсона**"
      ]
    },
    {
      "cell_type": "markdown",
      "metadata": {
        "id": "0Bq9JuCExypg"
      },
      "source": [
        "Другой способ определять степень схожести - использовать коэффициент корреляции Пирсона. Этот коэффициент показывает, насколько два набора данных хорошо ложатся на прямую."
      ]
    },
    {
      "cell_type": "markdown",
      "metadata": {
        "id": "Inb-3sBExyph"
      },
      "source": [
        "<a href=\"https://drive.google.com/uc?id=1jAZLpihYxu_FPvN9PIJ1G4S_KvO_6Ku6\n",
        "\" target=\"_blank\"><img src=\"https://drive.google.com/uc?id=1qXZxG2sE3Y0oAcgayaEdN6nCYVunj_83\"\n",
        "alt=\"IMAGE ALT TEXT HERE\" width=\"800\" border=\"0\" /></a>"
      ]
    },
    {
      "cell_type": "markdown",
      "metadata": {
        "id": "LRepT7krxypi"
      },
      "source": [
        "Два кинокритика со средним значением корреляции 0.41 (слева) и два кинокритика с высоким значением корреляции 0.75 (справа).  "
      ]
    },
    {
      "cell_type": "markdown",
      "metadata": {
        "id": "uKzTDyNcxypj"
      },
      "source": [
        "Корреляция Пирсона считается по формуле:\n",
        "    \n",
        "\\begin{equation}\n",
        "    \\text{corr}(x, y) = \\dfrac{\\sum_{i = 1}^n (x_i - \\frac{\\sum_{j = 1}^n x_j}{n}) (y_i - \\frac{\\sum_{j = 1}^n y_j}{n})}{\\sqrt{\\sum_{i = 1}^n (x_i - \\frac{\\sum_{j = 1}^n x_j}{n})^2 \\sum_{i = 1}^n (y_i - \\frac{\\sum_{j = 1}^n y_j}{n})^2}}\n",
        "\\end{equation}"
      ]
    },
    {
      "cell_type": "markdown",
      "metadata": {
        "id": "p3E7vXwAxypj"
      },
      "source": [
        "По аналогии с функцией **sim_distance()** в модуле **recommendations** реализована функция для подсчета сходства двух критиков на основе корреляции Пирсона. Она называется **sim_pearson()**. Функция принимает на вход те же самые аргументы, что и **sim_distance()**:\n",
        "* словарь критиков\n",
        "* имя первого критика для сравнения\n",
        "* имя второго критика для сравнения"
      ]
    },
    {
      "cell_type": "markdown",
      "metadata": {
        "collapsed": true,
        "id": "xsZWvacrxypk"
      },
      "source": [
        "Посмотрим, как работает эта функция для двух критиков Lisa Rose и Gene Seymour:\n",
        "\n",
        "**Code 11:**  \n",
        "**Задание.** Допишите функцию для вычисления корреляции Пирсона"
      ]
    },
    {
      "cell_type": "code",
      "metadata": {
        "id": "XBZxMyLAv7OU"
      },
      "source": [
        "import numpy as np\n",
        "\n",
        "def pearson_corr(x, y):\n",
        "    # Calculate the mean of x and y\n",
        "    mean_x = np.mean(x)\n",
        "    mean_y = np.mean(y)\n",
        "\n",
        "    # Calculate the differences from the mean\n",
        "    diff_x = x - mean_x\n",
        "    diff_y = y - mean_y\n",
        "\n",
        "    # Calculate the covariance\n",
        "    covariance = np.sum(diff_x * diff_y)\n",
        "\n",
        "    # Calculate the standard deviations\n",
        "    std_dev_x = np.sqrt(np.sum(diff_x**2))\n",
        "    std_dev_y = np.sqrt(np.sum(diff_y**2))\n",
        "\n",
        "    # Calculate the Pearson correlation coefficient\n",
        "    correlation = covariance / (std_dev_x * std_dev_y)\n",
        "\n",
        "    return correlation"
      ],
      "execution_count": null,
      "outputs": []
    },
    {
      "cell_type": "code",
      "metadata": {
        "id": "w-0G2kHBv_sM",
        "colab": {
          "base_uri": "https://localhost:8080/"
        },
        "outputId": "498e65e5-d547-472b-d3eb-c75f53f28512"
      },
      "source": [
        "x = []\n",
        "y = []\n",
        "for film in critics['Lisa Rose']:\n",
        "    x.append(critics['Lisa Rose'][film])\n",
        "    y.append(critics['Gene Seymour'][film])\n",
        "\n",
        "print(pearson_corr(x, y)) # должно быть: 0.39605901719066977"
      ],
      "execution_count": null,
      "outputs": [
        {
          "output_type": "stream",
          "name": "stdout",
          "text": [
            "0.39605901719066977\n"
          ]
        }
      ]
    },
    {
      "cell_type": "code",
      "metadata": {
        "id": "V4quusN2xypl",
        "colab": {
          "base_uri": "https://localhost:8080/"
        },
        "outputId": "67cd5014-9857-4d0c-ed11-eb157c235d8c"
      },
      "source": [
        "sim_pearson(critics, 'Lisa Rose', 'Gene Seymour')"
      ],
      "execution_count": null,
      "outputs": [
        {
          "output_type": "execute_result",
          "data": {
            "text/plain": [
              "0.3960590171906697"
            ]
          },
          "metadata": {},
          "execution_count": 19
        }
      ]
    },
    {
      "cell_type": "markdown",
      "source": [
        "**Упражнение**  \n",
        "\n",
        "Найдите в модуле scipy как вычисляется корреляция Пирсона и получите аналогичное значение (0.3960590171906697) как и с помощью вручную написанной функции."
      ],
      "metadata": {
        "id": "8Bo2Qo2JcgtF"
      }
    },
    {
      "cell_type": "code",
      "source": [
        "from scipy.stats import pearsonr\n",
        "\n",
        "x = []\n",
        "y = []\n",
        "for film in critics['Lisa Rose']:\n",
        "    x.append(critics['Lisa Rose'][film])\n",
        "    y.append(critics['Gene Seymour'][film])\n",
        "\n",
        "print(pearsonr(x, y)) # должно быть: 0.39605901719066977"
      ],
      "metadata": {
        "id": "0ntmYl4GrIm7",
        "colab": {
          "base_uri": "https://localhost:8080/"
        },
        "outputId": "be373b16-d465-4c58-918f-3d000a9b91a5"
      },
      "execution_count": null,
      "outputs": [
        {
          "output_type": "stream",
          "name": "stdout",
          "text": [
            "PearsonRResult(statistic=0.3960590171906697, pvalue=0.43697492654267545)\n"
          ]
        }
      ]
    },
    {
      "cell_type": "markdown",
      "metadata": {
        "id": "llNUr_9xxypo"
      },
      "source": [
        "### Ранжирование критиков"
      ]
    },
    {
      "cell_type": "markdown",
      "metadata": {
        "id": "9GHarQp1xypp"
      },
      "source": [
        "После того как мы выбрали критерий для сравнения двух людей, можно начать искать для каждого человека подгруппу других людей с наиболее похожими вкусами.\n",
        "\n",
        "Для этого в модуле **recommendations** реализована функция **topMatches()**. Функция возвращает список n наилучших соответствий для человека из словаря critics.\n",
        "\n",
        "Соответственно, аргументы у функции:\n",
        "* словарь критиков *critics\\_dict*\n",
        "* имя персоны *person*, для которой подбираем соответствия\n",
        "* число *n* наилучших соответствий\n",
        "\n",
        "Кроме этого, так как мы хотим использовать различные расстояния, то в качестве аргумента мы будем также передавать имя функции-расстояния (*similarity*).  "
      ]
    },
    {
      "cell_type": "markdown",
      "metadata": {
        "id": "IICRst0Mxypp"
      },
      "source": [
        "Пример вычисления топ-3 критиков похожих на Toby по корреляции Пирсона:\n",
        "\n",
        "**Code 12:**"
      ]
    },
    {
      "cell_type": "code",
      "metadata": {
        "id": "CM0WA6yBxypq",
        "colab": {
          "base_uri": "https://localhost:8080/"
        },
        "outputId": "0ffa6857-dc2e-4d95-8071-17a842145a14"
      },
      "source": [
        "topMatches(critics, 'Toby', n=3, similarity=sim_pearson)"
      ],
      "execution_count": null,
      "outputs": [
        {
          "output_type": "execute_result",
          "data": {
            "text/plain": [
              "[(0.9912407071619302, 'Lisa Rose'),\n",
              " (0.9244734516419049, 'Mick LaSalle'),\n",
              " (0.8934051474415642, 'Claudia Puig')]"
            ]
          },
          "metadata": {},
          "execution_count": 21
        }
      ]
    },
    {
      "cell_type": "markdown",
      "metadata": {
        "id": "l11l0LBWxyps"
      },
      "source": [
        "Как работает эта функция:\n",
        "*  считаем схожесть интересующего нас критика с каждым другим критиком используя функцию **similarity**\n",
        "*  сортируем результаты\n",
        "*  возвращаем топ **n** результатов"
      ]
    },
    {
      "cell_type": "markdown",
      "metadata": {
        "id": "a6zrN8IRxypt"
      },
      "source": [
        "**Code 13:**  \n",
        "**Упражнение** Вычислите топ-3 критиков похожих на Toby по евклидову расстоянию (sim_distance):"
      ]
    },
    {
      "cell_type": "code",
      "metadata": {
        "id": "63IHuLZSxypu",
        "colab": {
          "base_uri": "https://localhost:8080/"
        },
        "outputId": "5b07629a-32d9-48b1-c7c0-7c552d22eeb4"
      },
      "source": [
        "# your code here\n",
        "topMatches(critics, 'Toby', n=3, similarity=sim_distance)\n"
      ],
      "execution_count": null,
      "outputs": [
        {
          "output_type": "execute_result",
          "data": {
            "text/plain": [
              "[(0.3076923076923077, 'Mick LaSalle'),\n",
              " (0.2857142857142857, 'Michael Phillips'),\n",
              " (0.23529411764705882, 'Claudia Puig')]"
            ]
          },
          "metadata": {},
          "execution_count": 22
        }
      ]
    },
    {
      "cell_type": "markdown",
      "metadata": {
        "id": "UnsodNg7xypw"
      },
      "source": [
        "Выбор расстояния для подбора похожести зависит от конкретной задачи. Имеет смысл попробовать разные критерии и посмотреть, какой из них дает наилучший результат."
      ]
    },
    {
      "cell_type": "markdown",
      "metadata": {
        "id": "C4Ok7gk1xypx"
      },
      "source": [
        "## Рекомендация фильмов (User-based подход)"
      ]
    },
    {
      "cell_type": "markdown",
      "metadata": {
        "id": "oigqx0dDxypy"
      },
      "source": [
        "Мы умеем находить людей с похожим мнением как у рассматриваемого человека. Но как получить конкретную рекомендацию с набором фильмов? Можно было бы просто посмотреть на то, какие фильмы понравились похожему человеку, и выбрать из них не просмотренные. Однако, такой способ не стабилен: можем, например, отобрать критика, которому по каким-то причинам понравился фильм, получивший негативные оценки от остальных.\n",
        "\n",
        "Чтобы разрешить эту проблему, можно ранжировать сами фильмы, вычисляя взвешенную сумму оценок критиков. Мы будем брать оценку фильма у критика и умножать его на коэффициент похожести с тем, для которого мы строим рекомендацию. Затем полученный результат суммировать и нормировать.  \n",
        "\n",
        "Идея такого подхода в том, что люди похожие на тебя вносят больший вклад в \"рейтинг\" фильма."
      ]
    },
    {
      "cell_type": "markdown",
      "metadata": {
        "id": "Ep7vuCLpxypz"
      },
      "source": [
        "<a href=\"https://drive.google.com/uc?id=1jAZLpihYxu_FPvN9PIJ1G4S_KvO_6Ku6\n",
        "\" target=\"_blank\"><img src=\"https://drive.google.com/uc?id=1x0QC1Blvr_ZugJ5BKPJdi2Bp30FvBxvL\"\n",
        "alt=\"IMAGE ALT TEXT HERE\" width=\"500\" border=\"0\" /></a>"
      ]
    },
    {
      "cell_type": "markdown",
      "metadata": {
        "id": "CYT3JXArxypz"
      },
      "source": [
        "Этот подход реализован в модуле **recommendations** в функции **getRecommendations()**. Функция принимает на вход следующие аргументы:\n",
        "* словарь критиков *critics\\_dict*\n",
        "* имя персоны *person*, для которой подбираем соответствия\n",
        "* имя функции-критерия для сравнения\n",
        "\n",
        "**Code 14:**"
      ]
    },
    {
      "cell_type": "markdown",
      "source": [
        "**Упражнение**\n",
        "\n",
        "Получите рекомендации для ```Toby``` с помощью функции-критерия ```sim_pearson``` для сравнения:"
      ],
      "metadata": {
        "id": "LIsoJpSSryHt"
      }
    },
    {
      "cell_type": "code",
      "metadata": {
        "id": "68nh1yH-xyp1",
        "colab": {
          "base_uri": "https://localhost:8080/"
        },
        "outputId": "1229a9ed-7491-4d4f-d179-ebb2346377f8"
      },
      "source": [
        "getRecommendations(critics, \"Toby\", sim_pearson)"
      ],
      "execution_count": null,
      "outputs": [
        {
          "output_type": "execute_result",
          "data": {
            "text/plain": [
              "[(3.347789526713101, 'The Night Listener'),\n",
              " (2.832549918264162, 'Lady in the Water'),\n",
              " (2.5309807037655645, 'Just My Luck')]"
            ]
          },
          "metadata": {},
          "execution_count": 23
        }
      ]
    },
    {
      "cell_type": "markdown",
      "metadata": {
        "id": "HBxow-45xyp8"
      },
      "source": [
        "Как работает эта функция:\n",
        "*  считаем схожесть пользователя с каждым другим пользователем\n",
        "*  перебираем фильмы, которые смотрели другие пользователи, но не смотрел текущий пользователь\n",
        "*  нормируем рейтинг фильмов на основе того насколько он понравился другим пользователям, и того насколько каждый из других пользователей похож на текущего пользователя\n",
        "*  сортируем список"
      ]
    },
    {
      "cell_type": "markdown",
      "metadata": {
        "id": "pR4A_2uLxyp9"
      },
      "source": [
        "**Code 15:**\n",
        "\n",
        "**Упражнение** Вычислите рекомендации для ```Toby``` с использованием ```sim_distance``` в качестве функции-критерия для сравнения:"
      ]
    },
    {
      "cell_type": "code",
      "metadata": {
        "id": "H8LpwS_Xxyp9",
        "colab": {
          "base_uri": "https://localhost:8080/"
        },
        "outputId": "88d4d2cf-886e-49a0-9d33-89d085e3e3f9"
      },
      "source": [
        "getRecommendations(critics, \"Toby\", sim_distance)"
      ],
      "execution_count": null,
      "outputs": [
        {
          "output_type": "execute_result",
          "data": {
            "text/plain": [
              "[(3.5002478401415877, 'The Night Listener'),\n",
              " (2.7561242939959363, 'Lady in the Water'),\n",
              " (2.461988486074374, 'Just My Luck')]"
            ]
          },
          "metadata": {},
          "execution_count": 24
        }
      ]
    },
    {
      "cell_type": "markdown",
      "metadata": {
        "id": "O4HGFTxnxyqA"
      },
      "source": [
        "Мы получили ранжированный список фильмов, а также прогноз оценки, которую поставит Toby этим фильмам."
      ]
    },
    {
      "cell_type": "markdown",
      "source": [
        "### Достоинства user-based подхода\n",
        "\n",
        "* сравнительно простая реализация;\n",
        "* не зависит от контекста;\n",
        "* довольно точный, если достаточно данных;\n",
        "\n",
        "### Недостатки user-based подхода\n",
        "\n",
        "- фильмов много, каждый пользователь смотрит очень мало фильмов, поэтому матрица оценок будет разряженной (много пропущенных значений), это снижает точность предсказаний;\n",
        "\n",
        "- точность рекомендаций зависит от количества ближайших соседей, которые мы используем для предсказания нашего пользователя, а значит время, которое мы тратим для предсказания, увеличивается одновременно с увеличением количества соседей (чем больше пользователей, тем медленнее в целом работает);\n",
        "\n",
        "- для новых пользователей очень сложно делать предсказания, для новых фильмов также сложно помещать их в рекомендацию (термин, который характеризует проблему можно обозначить как [cold start recommender systems](https://en.wikipedia.org/wiki/Cold_start_(recommender_systems)))."
      ],
      "metadata": {
        "id": "_LHwM2CURcFB"
      }
    },
    {
      "cell_type": "markdown",
      "metadata": {
        "id": "QJmVZW0TxyqA"
      },
      "source": [
        "## Коллаборативная фильтрация по сходству объектов (Item-based collaborative filtering)"
      ]
    },
    {
      "cell_type": "markdown",
      "metadata": {
        "id": "dZAPvgpTxyqB"
      },
      "source": [
        "Мы реализовали механизм выдачи рекомендаций таким образом, что для создания набора данных необходимы оценки, выставленные каждым\n",
        "пользователем. Для нескольких тысяч людей это, возможно, и будет работать, но, когда речь идет о миллионах пользователей и товаров, сравнение каждого пользователя со всеми другими, а затем сравнение товаров, займет недопустимо много времени."
      ]
    },
    {
      "cell_type": "markdown",
      "metadata": {
        "id": "f0nZBimVxyqC"
      },
      "source": [
        "<a href=\"https://drive.google.com/uc?id=1jAZLpihYxu_FPvN9PIJ1G4S_KvO_6Ku6\n",
        "\" target=\"_blank\"><img src=\"https://drive.google.com/uc?id=1Vd3ofIheUgmxDKLq72cVPTPyl5IyAxo0\"\n",
        "alt=\"IMAGE ALT TEXT HERE\" width=\"500\" border=\"0\" /></a>\n"
      ]
    },
    {
      "cell_type": "markdown",
      "metadata": {
        "id": "zis-eUSbxyqC"
      },
      "source": [
        "Техника, которую мы применяли до сих пор, называется **коллаборативной фильтрацией по схожести пользователей**. Альтернатива известна под названием **коллаборативная фильтрация по схожести образцов**."
      ]
    },
    {
      "cell_type": "markdown",
      "metadata": {
        "id": "r2xvZzNpxyqD"
      },
      "source": [
        "Основная идея процедуры фильтрации по схожести образцов заключается в том, чтобы для каждого образца заранее вычислить большинство похожих на него. Тогда для выдачи рекомендаций алгоритму достаточно будет найти те образцы, которым пользователь выставил наивысшие оценки, а затем сформировать список образцов, максимально похожих на эти.\n",
        "\n",
        "Отметим одно существенное отличие: хотя на первом шаге необходимо исследовать все данные, результаты сравнения образцов изменяются не так часто, как результаты сравнения пользователей."
      ]
    },
    {
      "cell_type": "markdown",
      "metadata": {
        "id": "8jpIms0rxyqD"
      },
      "source": [
        "<a href=\"https://drive.google.com/uc?id=1jAZLpihYxu_FPvN9PIJ1G4S_KvO_6Ku6\n",
        "\" target=\"_blank\"><img src=\"https://drive.google.com/uc?id=1VAoSpaUcbabIFRWlXqrBFDs7LhIISkA5\"\n",
        "alt=\"IMAGE ALT TEXT HERE\" width=\"700\" border=\"0\" /></a>"
      ]
    },
    {
      "cell_type": "markdown",
      "metadata": {
        "collapsed": true,
        "id": "_8Z0LEmBxyqE"
      },
      "source": [
        "Чтобы сравнивать образцы, нужно первым делом построить полный набор данных о похожих образцах. В первую очередь, нам нужно переделать словарь предпочтений критиков таким образом, чтобы теперь был словарь фильмов и их оценок:\n",
        "```python\n",
        "film_dict = {\n",
        "    'film_name_1':\n",
        "    {'critic_1': 'score_1',\n",
        "     'critic_2': 'score_2',\n",
        "     ...\n",
        "    },\n",
        "    ...\n",
        "}\n",
        "```\n",
        "Далее для каждого фильма посчитать наиболее похожие образцы и коэффициенты похожести для них. Для подсчета схожести будем использовать евклидово расстояние.\n",
        "\n",
        "В модуле **recommendations** есть функция **calculateSimilarItems()**, которая делает сразу оба шага. На вход её нужно подать словарь с оценками критиков *critics* и число образцов, которые мы считаем наиболее похожими (остальные не выводим).\n",
        "\n",
        "**Code 16:**"
      ]
    },
    {
      "cell_type": "code",
      "metadata": {
        "id": "mcnJJQ9cxyqG"
      },
      "source": [
        "itemsim = calculateSimilarItems(critics, n=5)"
      ],
      "execution_count": null,
      "outputs": []
    },
    {
      "cell_type": "code",
      "metadata": {
        "id": "PwUnCFgqxyqJ",
        "colab": {
          "base_uri": "https://localhost:8080/"
        },
        "outputId": "42c02291-52b7-4dbc-dd4a-ed1b853bd059"
      },
      "source": [
        "pp.pprint(itemsim)"
      ],
      "execution_count": null,
      "outputs": [
        {
          "output_type": "stream",
          "name": "stdout",
          "text": [
            "{   'Just My Luck': [   (0.2222222222222222, 'Lady in the Water'),\n",
            "                        (0.18181818181818182, 'You, Me and Dupree'),\n",
            "                        (0.15384615384615385, 'The Night Listener'),\n",
            "                        (0.10526315789473684, 'Snakes on a Plane'),\n",
            "                        (0.06451612903225806, 'Superman Returns')],\n",
            "    'Lady in the Water': [   (0.4, 'You, Me and Dupree'),\n",
            "                             (0.2857142857142857, 'The Night Listener'),\n",
            "                             (0.2222222222222222, 'Snakes on a Plane'),\n",
            "                             (0.2222222222222222, 'Just My Luck'),\n",
            "                             (0.09090909090909091, 'Superman Returns')],\n",
            "    'Snakes on a Plane': [   (0.2222222222222222, 'Lady in the Water'),\n",
            "                             (0.18181818181818182, 'The Night Listener'),\n",
            "                             (0.16666666666666666, 'Superman Returns'),\n",
            "                             (0.10526315789473684, 'Just My Luck'),\n",
            "                             (0.05128205128205128, 'You, Me and Dupree')],\n",
            "    'Superman Returns': [   (0.16666666666666666, 'Snakes on a Plane'),\n",
            "                            (0.10256410256410256, 'The Night Listener'),\n",
            "                            (0.09090909090909091, 'Lady in the Water'),\n",
            "                            (0.06451612903225806, 'Just My Luck'),\n",
            "                            (0.05333333333333334, 'You, Me and Dupree')],\n",
            "    'The Night Listener': [   (0.2857142857142857, 'Lady in the Water'),\n",
            "                              (0.18181818181818182, 'Snakes on a Plane'),\n",
            "                              (0.15384615384615385, 'Just My Luck'),\n",
            "                              (0.14814814814814814, 'You, Me and Dupree'),\n",
            "                              (0.10256410256410256, 'Superman Returns')],\n",
            "    'You, Me and Dupree': [   (0.4, 'Lady in the Water'),\n",
            "                              (0.18181818181818182, 'Just My Luck'),\n",
            "                              (0.14814814814814814, 'The Night Listener'),\n",
            "                              (0.05333333333333334, 'Superman Returns'),\n",
            "                              (0.05128205128205128, 'Snakes on a Plane')]}\n"
          ]
        }
      ]
    },
    {
      "cell_type": "markdown",
      "metadata": {
        "id": "XajxbUimxyqM"
      },
      "source": [
        "Получили вложенный словарь с фильмами и их похожестью на другие фильмы."
      ]
    },
    {
      "cell_type": "markdown",
      "metadata": {
        "id": "fcsEaB_fxyqN"
      },
      "source": [
        "Теперь мы готовы выдавать рекомендации, пользуясь словарем данных о схожести образцов. По аналогии с тем, что мы уже делали, необходимо получить список всех образцов, которым пользователь выставлял оценки, найти похожие и взвесить их с учетом коэффициентов подобия (умножить оценку на коэффициент подобия)."
      ]
    },
    {
      "cell_type": "markdown",
      "metadata": {
        "id": "EpUyM57bxyqO"
      },
      "source": [
        "<a href=\"https://drive.google.com/uc?id=1jAZLpihYxu_FPvN9PIJ1G4S_KvO_6Ku6\n",
        "\" target=\"_blank\"><img src=\"https://drive.google.com/uc?id=1QIJpqC6zQkiQ-1-AzNSmvK4bc8fohsH1\"\n",
        "alt=\"IMAGE ALT TEXT HERE\" width=\"500\" border=\"0\" /></a>"
      ]
    },
    {
      "cell_type": "markdown",
      "metadata": {
        "id": "wmkuMQvaxyqP"
      },
      "source": [
        "Этот механизм реализован в функции **getRecommendedItems()** из **recommendations**. На вход подается:\n",
        "* словарь с оценками пользователя (в нашем случае это словарь критиков, *critics*)\n",
        "* словарь с данными о схожести образцов, *itemsim*\n",
        "* имя критика, для которого строим рекомендации"
      ]
    },
    {
      "cell_type": "markdown",
      "metadata": {
        "id": "JaUsLOhqxyqP"
      },
      "source": [
        "Получим рекомендации для пользователя Toby:\n",
        "\n",
        "\n",
        "**Упражнение**\n",
        "\n",
        "Получите список рекомендованных фильмов, используя данные о схожести ```itemsim``` и критика ```Toby```:\n",
        "\n",
        "**Code 17:**"
      ]
    },
    {
      "cell_type": "code",
      "metadata": {
        "id": "bC-V0ovMxyqQ",
        "colab": {
          "base_uri": "https://localhost:8080/"
        },
        "outputId": "81397ca9-6dda-459e-95fc-ede5b56ea637"
      },
      "source": [
        "getRecommendedItems(critics, itemsim, \"Toby\")"
      ],
      "execution_count": null,
      "outputs": [
        {
          "output_type": "execute_result",
          "data": {
            "text/plain": [
              "[(3.182634730538922, 'The Night Listener'),\n",
              " (2.5983318700614575, 'Just My Luck'),\n",
              " (2.4730878186968837, 'Lady in the Water')]"
            ]
          },
          "metadata": {},
          "execution_count": 27
        }
      ]
    },
    {
      "cell_type": "markdown",
      "metadata": {
        "id": "QZ2AV3PIxyqT"
      },
      "source": [
        "## Метрики качества для рекомендательных систем"
      ]
    },
    {
      "cell_type": "markdown",
      "metadata": {
        "id": "GNdfljpXxyqT"
      },
      "source": [
        "Для оценки качества работы рекомендательных систем можно рассмотреть две специальные метрики **Hit Rate** (HR) и **Mean Reciprocal Rank** (MRR).\n",
        "\n",
        "Определим как **попадание** (**hit**) - ситуацию, когда фильм был рекомендован пользователю в топ-N и пользователь посмотрел его."
      ]
    },
    {
      "cell_type": "markdown",
      "metadata": {
        "id": "vXzO8K8DxyqU"
      },
      "source": [
        "**Hit Rate (HR)**"
      ]
    },
    {
      "cell_type": "markdown",
      "metadata": {
        "id": "494F_M5vxyqU"
      },
      "source": [
        "**Hit Rate (процент попаданий)** определяется как общее число попаданий, нормированное на количество пользователей.\n",
        "\n",
        "$$\n",
        "\\text{HR} = \\frac{1}{\\text{# test users}} \\sum_{\\text{test users}}{\\text{hit}}, \\quad\n",
        "$$\n",
        "\n",
        "Чем больше процент попаданий, тем лучше будет наша система рекомендаций."
      ]
    },
    {
      "cell_type": "markdown",
      "metadata": {
        "id": "MG2WBYqgxyqV"
      },
      "source": [
        "*Замечание*: в некотором смысле, Hit Rate представляет собой производное от классических ML метрик precision и recall."
      ]
    },
    {
      "cell_type": "markdown",
      "metadata": {
        "id": "IqnXC-9ixyqX"
      },
      "source": [
        "**Mean Reciprocal Rank (MRR)**"
      ]
    },
    {
      "cell_type": "markdown",
      "metadata": {
        "id": "ZEB1TP_BxyqY"
      },
      "source": [
        "Отличие метрики **Mean Reciprocal Rank** от предыдущей в том, что мы учитываем не общее количество попаданий, а обратное рангу (месту в списке рекомендаций) **первое попадание**. Например, если фильм, просмотренный пользователем (попадание), стоял на втором месте, обратное рангу будет равно $\\frac{1}{2}$, а если бы стоял на третьем - $\\frac{1}{3}$ и так далее."
      ]
    },
    {
      "cell_type": "markdown",
      "metadata": {
        "id": "4yY1VJGNxyqY"
      },
      "source": [
        "$$\n",
        "\\text{MRR} = \\frac{1}{\\text{# test users}} \\sum_{\\text{test users}}{\\frac{1}{\\text{hit rank}}}\n",
        "$$"
      ]
    },
    {
      "cell_type": "markdown",
      "metadata": {
        "id": "d69KOo96xyqb"
      },
      "source": [
        "Рассмотрим на примере. Toby получил следующий список рекомендаций:\n",
        "\n",
        "**Упражнение**\n",
        "\n",
        "Получите с помощью функции `getRecommendations` для критика Toby с помощью функции `sim_pearson` список рекомендаций:\n",
        "\n",
        "**Code 18:**"
      ]
    },
    {
      "cell_type": "code",
      "metadata": {
        "id": "LjqvONZLxyqe",
        "colab": {
          "base_uri": "https://localhost:8080/"
        },
        "outputId": "ed8c4687-b11e-4c7c-ac36-167560659602"
      },
      "source": [
        "getRecommendations(critics, \"Toby\", sim_pearson)"
      ],
      "execution_count": null,
      "outputs": [
        {
          "output_type": "execute_result",
          "data": {
            "text/plain": [
              "[(3.347789526713101, 'The Night Listener'),\n",
              " (2.832549918264162, 'Lady in the Water'),\n",
              " (2.5309807037655645, 'Just My Luck')]"
            ]
          },
          "metadata": {},
          "execution_count": 28
        }
      ]
    },
    {
      "cell_type": "markdown",
      "metadata": {
        "id": "KAS5UJXxxyqh"
      },
      "source": [
        "Допустим, после этого Toby посмотрел 5 фильмов и выставил им следующие оценки:\n"
      ]
    },
    {
      "cell_type": "markdown",
      "metadata": {
        "id": "GlyQ_Jidxyqh"
      },
      "source": [
        "|Score|Film|\n",
        "|----|--------------------|\n",
        "|4.5 | The Departed |\n",
        "|4   | The Night Listener |\n",
        "|3.9 | Lady in the Water |\n",
        "|3.7 | The Firm |\n",
        "|3   | Just My Luck |"
      ]
    },
    {
      "cell_type": "markdown",
      "metadata": {
        "id": "VjT082gPxyqi"
      },
      "source": [
        "Как мы видим, только два фильма из списка рекомендаций попали в личный топ-3 Toby. Получается, что **попадание (hits)** у него 2.\n",
        "\n",
        "**HR = $\\dfrac{1}{1} * 2 = 2$**, так как выборка тестовых пользователей (test\\_users) состоит из одного Toby.  "
      ]
    },
    {
      "cell_type": "markdown",
      "metadata": {
        "id": "3Z2xaFKZxyqj"
      },
      "source": [
        "* **$\\frac{1}{hit\\_rank}$** для фильма The Night Listener - это $\\dfrac{1}{2}$\n",
        "* **$\\frac{1}{hit\\_rank}$** для фильма Lady in the Water - это $\\dfrac{1}{3}$\n",
        "\n",
        "Но фильм **The Night Listener** стоит выше в рейтинге Toby, чем **Lady in the Water**, поэтому:\n",
        "\n",
        "**MRR = $\\dfrac{1}{1}*\\dfrac{1}{2} = \\dfrac{1}{2}$**, так как, опять же, выборка тестовых пользователей (test\\_users) состоит из одного Toby.  "
      ]
    },
    {
      "cell_type": "markdown",
      "metadata": {
        "id": "RXDUM0i_xyqk"
      },
      "source": [
        "## Бонус* : Рекомендация на данных MovieLens"
      ]
    },
    {
      "cell_type": "markdown",
      "metadata": {
        "id": "glvuxPt_xyql"
      },
      "source": [
        "В этом примере мы рассмотрим реальный набор данных с оценками фильмов, который называется MovieLens. Источник данных: http://grouplens.org/datasets/movielens/"
      ]
    },
    {
      "cell_type": "markdown",
      "metadata": {
        "id": "_KySSudZxyqm"
      },
      "source": [
        "Датасет представляет собой набор фильмов, которые 162541 пользователей сайта MovieLens оценивали по 5-бальной шкале. В наборе также есть дополнительная информация такая как описание фильмов тегами, но в нашем упражнении мы её использовать не будем для упрощения. Также, чтобы уменьшить время вычислений, будем использовать данный только 943 пользователей. Каждый пользователь в датасете оценил минимум 20 фильмов.\n",
        "\n",
        "Загруженный датасет будет в следующем виде:\n",
        "\n",
        "```python\n",
        "\n",
        "preferences = {\n",
        "    'user_id_1' : {\n",
        "        'film_name_1' : rate,\n",
        "        'film_name_2' : rate,\n",
        "        ...\n",
        "        'film_name_21' : rate,\n",
        "    },\n",
        "    ...\n",
        "    'user_id_943' : {\n",
        "        'film_name_1' : rate,\n",
        "        'film_name_2' : rate,\n",
        "        ...\n",
        "        'film_name_30' : rate,\n",
        "    }\n",
        "}\n",
        "\n",
        "```\n"
      ]
    },
    {
      "cell_type": "markdown",
      "metadata": {
        "collapsed": true,
        "id": "eyZ81WEOxyqn"
      },
      "source": [
        "Чтобы загрузить набор данных MovieLens, в модуле **recommendations** есть функция **loadMovieLens()**. Она возвращает словарь предпочтений фильмов для набора людей. Пользователи зашифрованы идентификатором. Для каждого пользователя имеется название\n",
        "фильма, а также оценка, выставленная фильму данным пользователе.\n",
        "\n",
        "**Code 19:**"
      ]
    },
    {
      "cell_type": "code",
      "metadata": {
        "id": "kbg3tMJb_LUE"
      },
      "source": [
        "%%capture\n",
        "!wget https://www.dropbox.com/sh/ob1qyfzqygkc6ph/AADg2G0By0EuRZCLR5gSAmP7a"
      ],
      "execution_count": null,
      "outputs": []
    },
    {
      "cell_type": "code",
      "metadata": {
        "id": "rVL7IRU3_i58"
      },
      "source": [
        "%%capture\n",
        "!unzip AADg2G0By0EuRZCLR5gSAmP7a -d data"
      ],
      "execution_count": null,
      "outputs": []
    },
    {
      "cell_type": "code",
      "metadata": {
        "id": "TokySpKUxyqp"
      },
      "source": [
        "preferences = loadMovieLens()"
      ],
      "execution_count": null,
      "outputs": []
    },
    {
      "cell_type": "markdown",
      "metadata": {
        "id": "64VLkmzBxyqr"
      },
      "source": [
        "Выведем фильмы для пользователя с ID 87 и рейтинги этих фильмов\n",
        "\n",
        "**Code 20:**"
      ]
    },
    {
      "cell_type": "code",
      "metadata": {
        "id": "i45AlAQVxyqs",
        "colab": {
          "base_uri": "https://localhost:8080/"
        },
        "outputId": "c418b9da-a579-4dcc-8d61-52fbe4ffd081"
      },
      "source": [
        "pp.pprint(preferences['87'])"
      ],
      "execution_count": null,
      "outputs": [
        {
          "output_type": "stream",
          "name": "stdout",
          "text": [
            "{   '2001: A Space Odyssey (1968)': 5.0,\n",
            "    'Ace Ventura: Pet Detective (1994)': 4.0,\n",
            "    'Addams Family Values (1993)': 2.0,\n",
            "    'Addicted to Love (1997)': 4.0,\n",
            "    'Adventures of Priscilla, Queen of the Desert, The (1994)': 3.0,\n",
            "    'Adventures of Robin Hood, The (1938)': 5.0,\n",
            "    'Air Force One (1997)': 3.0,\n",
            "    'Air Up There, The (1994)': 3.0,\n",
            "    'Alien (1979)': 4.0,\n",
            "    'American President, The (1995)': 5.0,\n",
            "    'Annie Hall (1977)': 4.0,\n",
            "    'Apocalypse Now (1979)': 4.0,\n",
            "    'Babe (1995)': 5.0,\n",
            "    'Baby-Sitters Club, The (1995)': 2.0,\n",
            "    'Back to the Future (1985)': 5.0,\n",
            "    'Bad Boys (1995)': 4.0,\n",
            "    'Bananas (1971)': 5.0,\n",
            "    'Barcelona (1994)': 3.0,\n",
            "    'Batman & Robin (1997)': 4.0,\n",
            "    'Batman (1989)': 3.0,\n",
            "    'Batman Returns (1992)': 3.0,\n",
            "    'Big Green, The (1995)': 3.0,\n",
            "    'Big Squeeze, The (1996)': 2.0,\n",
            "    'Birdcage, The (1996)': 4.0,\n",
            "    'Blade Runner (1982)': 4.0,\n",
            "    'Blues Brothers, The (1980)': 5.0,\n",
            "    'Boomerang (1992)': 3.0,\n",
            "    'Boot, Das (1981)': 4.0,\n",
            "    'Brady Bunch Movie, The (1995)': 2.0,\n",
            "    'Braveheart (1995)': 4.0,\n",
            "    'Bridge on the River Kwai, The (1957)': 5.0,\n",
            "    'Broken Arrow (1996)': 3.0,\n",
            "    'Butch Cassidy and the Sundance Kid (1969)': 5.0,\n",
            "    'Citizen Kane (1941)': 4.0,\n",
            "    \"City Slickers II: The Legend of Curly's Gold (1994)\": 3.0,\n",
            "    'Clear and Present Danger (1994)': 5.0,\n",
            "    'Cliffhanger (1993)': 3.0,\n",
            "    'Clockwork Orange, A (1971)': 4.0,\n",
            "    'Clueless (1995)': 4.0,\n",
            "    'Con Air (1997)': 4.0,\n",
            "    'Conan the Barbarian (1981)': 3.0,\n",
            "    'Coneheads (1993)': 4.0,\n",
            "    'Cool Hand Luke (1967)': 5.0,\n",
            "    'Cops and Robbersons (1994)': 3.0,\n",
            "    'Cowboy Way, The (1994)': 3.0,\n",
            "    'Crow, The (1994)': 3.0,\n",
            "    'Dances with Wolves (1990)': 5.0,\n",
            "    \"Dante's Peak (1997)\": 3.0,\n",
            "    'Dave (1993)': 4.0,\n",
            "    'Days of Thunder (1990)': 5.0,\n",
            "    'Dead Man Walking (1995)': 4.0,\n",
            "    'Dead Poets Society (1989)': 5.0,\n",
            "    'Deer Hunter, The (1978)': 3.0,\n",
            "    'Demolition Man (1993)': 3.0,\n",
            "    'Desperado (1995)': 3.0,\n",
            "    'Die Hard (1988)': 4.0,\n",
            "    'Die Hard: With a Vengeance (1995)': 4.0,\n",
            "    'Down Periscope (1996)': 4.0,\n",
            "    'Dragonheart (1996)': 4.0,\n",
            "    'Dumb & Dumber (1994)': 4.0,\n",
            "    'Dunston Checks In (1996)': 1.0,\n",
            "    'E.T. the Extra-Terrestrial (1982)': 3.0,\n",
            "    'Ed Wood (1994)': 3.0,\n",
            "    'Empire Strikes Back, The (1980)': 5.0,\n",
            "    'Endless Summer 2, The (1994)': 3.0,\n",
            "    'Evil Dead II (1987)': 2.0,\n",
            "    'Executive Decision (1996)': 3.0,\n",
            "    'Fargo (1996)': 5.0,\n",
            "    'First Wives Club, The (1996)': 2.0,\n",
            "    'Fish Called Wanda, A (1988)': 5.0,\n",
            "    'Forget Paris (1995)': 4.0,\n",
            "    'Four Weddings and a Funeral (1994)': 5.0,\n",
            "    'French Kiss (1995)': 5.0,\n",
            "    'Fugitive, The (1993)': 5.0,\n",
            "    'Full Metal Jacket (1987)': 4.0,\n",
            "    'Get Shorty (1995)': 5.0,\n",
            "    'Glory (1989)': 4.0,\n",
            "    'Godfather, The (1972)': 4.0,\n",
            "    'GoldenEye (1995)': 4.0,\n",
            "    'Good, The Bad and The Ugly, The (1966)': 5.0,\n",
            "    'GoodFellas (1990)': 4.0,\n",
            "    'Grease (1978)': 4.0,\n",
            "    'Great White Hype, The (1996)': 3.0,\n",
            "    'Groundhog Day (1993)': 5.0,\n",
            "    'Grumpier Old Men (1995)': 4.0,\n",
            "    'Hard Target (1993)': 4.0,\n",
            "    'Heat (1995)': 3.0,\n",
            "    'Heathers (1989)': 3.0,\n",
            "    'Home Alone (1990)': 4.0,\n",
            "    'Hoop Dreams (1994)': 4.0,\n",
            "    'Hot Shots! Part Deux (1993)': 4.0,\n",
            "    'House Arrest (1996)': 3.0,\n",
            "    'I Love Trouble (1994)': 3.0,\n",
            "    'I.Q. (1994)': 5.0,\n",
            "    'In the Army Now (1994)': 4.0,\n",
            "    'In the Line of Fire (1993)': 5.0,\n",
            "    'Independence Day (ID4) (1996)': 5.0,\n",
            "    'Indiana Jones and the Last Crusade (1989)': 5.0,\n",
            "    'Inkwell, The (1994)': 3.0,\n",
            "    \"It's a Wonderful Life (1946)\": 5.0,\n",
            "    'Jack (1996)': 3.0,\n",
            "    'Jeffrey (1995)': 3.0,\n",
            "    'Jimmy Hollywood (1994)': 3.0,\n",
            "    \"Joe's Apartment (1996)\": 2.0,\n",
            "    'Junior (1994)': 4.0,\n",
            "    'Jurassic Park (1993)': 5.0,\n",
            "    'Kingpin (1996)': 4.0,\n",
            "    'Lightning Jack (1994)': 3.0,\n",
            "    'Lost World: Jurassic Park, The (1997)': 3.0,\n",
            "    'Low Down Dirty Shame, A (1994)': 3.0,\n",
            "    'M*A*S*H (1970)': 5.0,\n",
            "    'Magnificent Seven, The (1954)': 5.0,\n",
            "    'Major Payne (1994)': 3.0,\n",
            "    'Man of the House (1995)': 3.0,\n",
            "    'Manchurian Candidate, The (1962)': 4.0,\n",
            "    'Mars Attacks! (1996)': 3.0,\n",
            "    'Mask, The (1994)': 3.0,\n",
            "    'Matilda (1996)': 3.0,\n",
            "    'Maverick (1994)': 3.0,\n",
            "    'Michael (1996)': 4.0,\n",
            "    'Mighty Aphrodite (1995)': 3.0,\n",
            "    'Milk Money (1994)': 4.0,\n",
            "    'Mission: Impossible (1996)': 4.0,\n",
            "    \"Monty Python's Life of Brian (1979)\": 4.0,\n",
            "    'Mother (1996)': 2.0,\n",
            "    'Mrs. Doubtfire (1993)': 4.0,\n",
            "    'Multiplicity (1996)': 3.0,\n",
            "    'Muppet Treasure Island (1996)': 3.0,\n",
            "    'My Favorite Year (1982)': 3.0,\n",
            "    'Naked Gun 33 1/3: The Final Insult (1994)': 4.0,\n",
            "    'Net, The (1995)': 5.0,\n",
            "    'Nine Months (1995)': 4.0,\n",
            "    'Nutty Professor, The (1996)': 4.0,\n",
            "    'Platoon (1986)': 3.0,\n",
            "    'Prefontaine (1997)': 5.0,\n",
            "    'Private Benjamin (1980)': 4.0,\n",
            "    'Professional, The (1994)': 4.0,\n",
            "    'Program, The (1993)': 3.0,\n",
            "    'Pulp Fiction (1994)': 4.0,\n",
            "    \"Pyromaniac's Love Story, A (1995)\": 3.0,\n",
            "    'Quiet Man, The (1952)': 5.0,\n",
            "    'Raging Bull (1980)': 3.0,\n",
            "    'Raiders of the Lost Ark (1981)': 5.0,\n",
            "    'Raising Arizona (1987)': 3.0,\n",
            "    'Reality Bites (1994)': 3.0,\n",
            "    'Renaissance Man (1994)': 5.0,\n",
            "    'Return of the Jedi (1983)': 5.0,\n",
            "    'Return of the Pink Panther, The (1974)': 4.0,\n",
            "    'River Wild, The (1994)': 4.0,\n",
            "    'Sabrina (1995)': 4.0,\n",
            "    'Santa Clause, The (1994)': 4.0,\n",
            "    \"Schindler's List (1993)\": 4.0,\n",
            "    'Searching for Bobby Fischer (1993)': 4.0,\n",
            "    'Serial Mom (1994)': 1.0,\n",
            "    'Shadow, The (1994)': 3.0,\n",
            "    'Shawshank Redemption, The (1994)': 5.0,\n",
            "    \"Singin' in the Rain (1952)\": 4.0,\n",
            "    'Sleeper (1973)': 4.0,\n",
            "    'Sleepers (1996)': 4.0,\n",
            "    'Sleepless in Seattle (1993)': 5.0,\n",
            "    'Sneakers (1992)': 4.0,\n",
            "    'So I Married an Axe Murderer (1993)': 2.0,\n",
            "    'Something to Talk About (1995)': 2.0,\n",
            "    'Son in Law (1993)': 4.0,\n",
            "    'Speechless (1994)': 4.0,\n",
            "    'Speed (1994)': 5.0,\n",
            "    'Speed 2: Cruise Control (1997)': 3.0,\n",
            "    'Star Trek III: The Search for Spock (1984)': 4.0,\n",
            "    'Star Trek IV: The Voyage Home (1986)': 5.0,\n",
            "    'Star Trek: First Contact (1996)': 4.0,\n",
            "    'Star Trek: The Motion Picture (1979)': 3.0,\n",
            "    'Star Trek: The Wrath of Khan (1982)': 5.0,\n",
            "    'Star Wars (1977)': 5.0,\n",
            "    'Stargate (1994)': 5.0,\n",
            "    'Sting, The (1973)': 5.0,\n",
            "    'Strange Days (1995)': 3.0,\n",
            "    'Strictly Ballroom (1992)': 3.0,\n",
            "    'Striptease (1996)': 2.0,\n",
            "    'Supercop (1992)': 3.0,\n",
            "    'Swimming with Sharks (1995)': 3.0,\n",
            "    'Switchblade Sisters (1975)': 2.0,\n",
            "    'Terminator 2: Judgment Day (1991)': 5.0,\n",
            "    'Terminator, The (1984)': 5.0,\n",
            "    'That Old Feeling (1997)': 4.0,\n",
            "    'That Thing You Do! (1996)': 4.0,\n",
            "    'This Is Spinal Tap (1984)': 5.0,\n",
            "    'To Die For (1995)': 3.0,\n",
            "    'To Kill a Mockingbird (1962)': 4.0,\n",
            "    'To Wong Foo, Thanks for Everything! Julie Newmar (1995)': 3.0,\n",
            "    'Tommy Boy (1995)': 4.0,\n",
            "    'Top Gun (1986)': 5.0,\n",
            "    'Treasure of the Sierra Madre, The (1948)': 4.0,\n",
            "    'True Lies (1994)': 5.0,\n",
            "    'Truth About Cats & Dogs, The (1996)': 4.0,\n",
            "    'Twelve Monkeys (1995)': 4.0,\n",
            "    'Twister (1996)': 4.0,\n",
            "    \"Ulee's Gold (1997)\": 3.0,\n",
            "    'Under Siege (1992)': 4.0,\n",
            "    'Up in Smoke (1978)': 3.0,\n",
            "    'Vegas Vacation (1997)': 4.0,\n",
            "    'Victor/Victoria (1982)': 4.0,\n",
            "    'Waterworld (1995)': 4.0,\n",
            "    \"Weekend at Bernie's (1989)\": 3.0,\n",
            "    'When Harry Met Sally... (1989)': 5.0,\n",
            "    'While You Were Sleeping (1995)': 5.0,\n",
            "    'Wizard of Oz, The (1939)': 5.0,\n",
            "    'Wyatt Earp (1994)': 3.0,\n",
            "    'Young Frankenstein (1974)': 5.0,\n",
            "    'Young Guns (1988)': 3.0,\n",
            "    'Young Guns II (1990)': 2.0}\n"
          ]
        }
      ]
    },
    {
      "cell_type": "markdown",
      "metadata": {
        "id": "mrdcACCAxyqv"
      },
      "source": [
        "Посмотрим, какие рекомендации получим с помощью коллаборативной фильтрации по схожести пользователей. Напомним, что для этого реализована функция **getRecommendations()**, которая выдает рекомендации для данного пользователя по похожести на других и предположительную его оценку фильму.\n",
        "\n",
        "Функция принимает на вход следующие аргументы:\n",
        "* словарь пользователей, в этом случае это *preferences*\n",
        "* имя персоны *person*, для которой подбираем соответствия\n",
        "* имя функции-критерия для сравнения\n",
        "\n",
        "Выведем первые топ-30 рекомендаций для пользователя с ID 87, для этого в квадратных скобочках укажем [0:30].\n",
        "\n",
        "*Замечание*: может появиться предупреждение RuntimeWarning, это связано с тем, что теперь мы работаем с большой выборкой и при подсчете корреляции Пирсона может возникать деление на ноль. В этом случае мы присваиваем корреляции значение ноль.\n",
        "\n",
        "**Code 21:**"
      ]
    },
    {
      "cell_type": "code",
      "metadata": {
        "scrolled": true,
        "id": "NO_XTe8vxyqw",
        "colab": {
          "base_uri": "https://localhost:8080/"
        },
        "outputId": "834261e7-58cc-49b4-9069-cadcba1d7b13"
      },
      "source": [
        "getRecommendations(preferences, \"87\", sim_pearson)[0:30]"
      ],
      "execution_count": null,
      "outputs": [
        {
          "output_type": "stream",
          "name": "stderr",
          "text": [
            "/usr/local/lib/python3.10/dist-packages/scipy/stats/_stats_py.py:4424: ConstantInputWarning: An input array is constant; the correlation coefficient is not defined.\n",
            "  warnings.warn(stats.ConstantInputWarning(msg))\n"
          ]
        },
        {
          "output_type": "execute_result",
          "data": {
            "text/plain": [
              "[(5.0, 'They Made Me a Criminal (1939)'),\n",
              " (5.0, 'Star Kid (1997)'),\n",
              " (5.0, 'Santa with Muscles (1996)'),\n",
              " (5.0, 'Saint of Fort Washington, The (1993)'),\n",
              " (5.0, 'Marlene Dietrich: Shadow and Light (1996) '),\n",
              " (5.0, 'Great Day in Harlem, A (1994)'),\n",
              " (5.0, 'Entertaining Angels: The Dorothy Day Story (1996)'),\n",
              " (5.0, 'Boys, Les (1997)'),\n",
              " (4.898844431289231, 'Legal Deceit (1997)'),\n",
              " (4.815019082242706, 'Letter From Death Row, A (1998)'),\n",
              " (4.732108298394142, 'Hearts and Minds (1996)'),\n",
              " (4.696244466490867, 'Pather Panchali (1955)'),\n",
              " (4.652397061026759, 'Lamerica (1994)'),\n",
              " (4.538723693474813, 'Leading Man, The (1996)'),\n",
              " (4.535081339106105, 'Mrs. Dalloway (1997)'),\n",
              " (4.532337612572983, 'Innocents, The (1961)'),\n",
              " (4.527998574747078, 'Casablanca (1942)'),\n",
              " (4.510270149719863, 'Everest (1998)'),\n",
              " (4.49396775542844, 'Dangerous Beauty (1998)'),\n",
              " (4.485151301801341, 'Wallace & Gromit: The Best of Aardman Animation (1996)'),\n",
              " (4.463287461290223, 'Wrong Trousers, The (1993)'),\n",
              " (4.450979436941034, 'Kaspar Hauser (1993)'),\n",
              " (4.431079071179519, 'Usual Suspects, The (1995)'),\n",
              " (4.427520682864959, 'Maya Lin: A Strong Clear Vision (1994)'),\n",
              " (4.414870784592076, 'Wedding Gift, The (1994)'),\n",
              " (4.3774452526564644, 'Affair to Remember, An (1957)'),\n",
              " (4.376071110447772, 'Good Will Hunting (1997)'),\n",
              " (4.376011099001396, 'As Good As It Gets (1997)'),\n",
              " (4.374146179500975, 'Anna (1996)'),\n",
              " (4.367437266504596, 'Close Shave, A (1995)')]"
            ]
          },
          "metadata": {},
          "execution_count": 33
        }
      ]
    },
    {
      "cell_type": "markdown",
      "metadata": {
        "id": "zOAn6ue1xyqy"
      },
      "source": [
        "Интересно также сравнить полученный результат с рекомендациями по схожести образцов. Напомним, чтобы сравнить образцы, нужно в первую очередь перестроить наш набор данных из набора предпочтений пользователей в набор оценок фильмов. Для этого используем функцию **calculateSimilarItems()**. На вход её нужно подать словарь с оценками пользователей *preferences*. Кроме этого, мы передадим аргумент *n = 50*, так как хотим оставить только 50 наиболее похожих образцов в новом словаре.  "
      ]
    },
    {
      "cell_type": "markdown",
      "metadata": {
        "id": "5hS6u5GExyqy"
      },
      "source": [
        "В этот раз мы работаем с большим набором данных и вычисления могут занять некоторое время, поэтому функция также будет выводить сообщение о том, сколько фильмов она уже просмотрела.\n",
        "\n",
        "**Code 22:**"
      ]
    },
    {
      "cell_type": "code",
      "metadata": {
        "id": "NQgL2SBBxyqz",
        "colab": {
          "base_uri": "https://localhost:8080/"
        },
        "outputId": "377618c9-e828-476a-fa34-f4676ad07f9f"
      },
      "source": [
        "item_similarities = calculateSimilarItems(preferences, 50)\n"
      ],
      "execution_count": null,
      "outputs": [
        {
          "output_type": "stream",
          "name": "stdout",
          "text": [
            "100 / 1664\n",
            "200 / 1664\n",
            "300 / 1664\n",
            "400 / 1664\n",
            "500 / 1664\n",
            "600 / 1664\n",
            "700 / 1664\n",
            "800 / 1664\n",
            "900 / 1664\n",
            "1000 / 1664\n",
            "1100 / 1664\n",
            "1200 / 1664\n",
            "1300 / 1664\n",
            "1400 / 1664\n",
            "1500 / 1664\n",
            "1600 / 1664\n"
          ]
        }
      ]
    },
    {
      "cell_type": "markdown",
      "metadata": {
        "id": "ms0cHm2lxyq1"
      },
      "source": [
        "Посмотрим на результат:\n",
        "\n",
        "**Code 23:**"
      ]
    },
    {
      "cell_type": "code",
      "metadata": {
        "scrolled": true,
        "id": "Unfusl__xyq2",
        "colab": {
          "base_uri": "https://localhost:8080/"
        },
        "outputId": "62645f5a-4e3b-46b2-825b-1c260378e209"
      },
      "source": [
        "item_similarities[\"What's Eating Gilbert Grape (1993)\"]"
      ],
      "execution_count": null,
      "outputs": [
        {
          "output_type": "execute_result",
          "data": {
            "text/plain": [
              "[(1.0, 'Yankee Zulu (1994)'),\n",
              " (1.0, 'Woman in Question, The (1950)'),\n",
              " (1.0, 'Witness (1985)'),\n",
              " (1.0, \"Wend Kuuni (God's Gift) (1982)\"),\n",
              " (1.0, 'Vie est belle, La (Life is Rosey) (1987)'),\n",
              " (1.0, 'Vermont Is For Lovers (1992)'),\n",
              " (1.0, 'Van, The (1996)'),\n",
              " (1.0, 'Two or Three Things I Know About Her (1966)'),\n",
              " (1.0, 'Two Much (1996)'),\n",
              " (1.0, 'Two Deaths (1995)'),\n",
              " (1.0, 'Two Bits (1995)'),\n",
              " (1.0, 'Touki Bouki (Journey of the Hyena) (1973)'),\n",
              " (1.0, 'Total Eclipse (1995)'),\n",
              " (1.0, 'To Have, or Not (1995)'),\n",
              " (1.0, 'To Cross the Rubicon (1991)'),\n",
              " (1.0, 'Tigrero: A Film That Was Never Made (1994)'),\n",
              " (1.0, 'The Courtyard (1995)'),\n",
              " (1.0, 'Terror in a Texas Town (1958)'),\n",
              " (1.0, 'Talking About Sex (1994)'),\n",
              " (1.0, 'T-Men (1947)'),\n",
              " (1.0, 'Symphonie pastorale, La (1946)'),\n",
              " (1.0, 'Swept from the Sea (1997)'),\n",
              " (1.0, 'Stranger in the House (1997)'),\n",
              " (1.0, 'Stonewall (1995)'),\n",
              " (1.0, 'Squeeze (1996)'),\n",
              " (1.0, 'Spirits of the Dead (Tre passi nel delirio) (1968)'),\n",
              " (1.0, 'Somebody to Love (1994)'),\n",
              " (1.0, 'So Dear to My Heart (1949)'),\n",
              " (1.0, 'Sliding Doors (1998)'),\n",
              " (1.0, 'Shooting Fish (1997)'),\n",
              " (1.0, 'Shadows (Cienie) (1988)'),\n",
              " (1.0, 'Secret Adventures of Tom Thumb, The (1993)'),\n",
              " (1.0, 'Scream of Stone (Schrei aus Stein) (1991)'),\n",
              " (1.0, 'Salut cousin! (1996)'),\n",
              " (1.0, 'Romper Stomper (1992)'),\n",
              " (1.0, 'Relative Fear (1994)'),\n",
              " (1.0, 'Quartier Mozart (1992)'),\n",
              " (1.0, 'Promise, The (Versprechen, Das) (1994)'),\n",
              " (1.0, 'Prefontaine (1997)'),\n",
              " (1.0, \"Pharaoh's Army (1995)\"),\n",
              " (1.0, 'Nosferatu a Venezia (1986)'),\n",
              " (1.0, 'Nina Takes a Lover (1994)'),\n",
              " (1.0, 'Niagara, Niagara (1997)'),\n",
              " (1.0, 'Mr. Jones (1993)'),\n",
              " (1.0, 'Mostro, Il (1994)'),\n",
              " (1.0, 'Modern Affair, A (1995)'),\n",
              " (1.0, 'Mighty, The (1998)'),\n",
              " (1.0, 'Metisse (Café au Lait) (1993)'),\n",
              " (1.0, 'Man from Down Under, The (1943)'),\n",
              " (1.0, 'Liebelei (1933)')]"
            ]
          },
          "metadata": {},
          "execution_count": 35
        }
      ]
    },
    {
      "cell_type": "markdown",
      "metadata": {
        "id": "YU16xvBpxyq6"
      },
      "source": [
        "Теперь получим топ-30 рекомендаций для пользователя с учетом похожести фильмов. Используем функцию **getRecommendedItems()**, которой на вход подается:\n",
        "* словарь с оценками пользователя (*preferences*)\n",
        "* словарь с данными о схожести фильмов, *item_similarities*\n",
        "* ID пользователя, для которого строим рекомендации (для пользователя с id №87)\n",
        "\n",
        "**Code 24:**"
      ]
    },
    {
      "cell_type": "code",
      "metadata": {
        "id": "1ipmvlb-xyq6",
        "colab": {
          "base_uri": "https://localhost:8080/"
        },
        "outputId": "3d6903dc-9c7e-4a3b-9109-a36dac38831a"
      },
      "source": [
        "getRecommendedItems(preferences, item_similarities, \"87\")"
      ],
      "execution_count": null,
      "outputs": [
        {
          "output_type": "execute_result",
          "data": {
            "text/plain": [
              "[(5.0, \"What's Eating Gilbert Grape (1993)\"),\n",
              " (5.0, 'Vertigo (1958)'),\n",
              " (5.0, 'Usual Suspects, The (1995)'),\n",
              " (5.0, 'Toy Story (1995)'),\n",
              " (5.0, 'Titanic (1997)'),\n",
              " (5.0, 'Sword in the Stone, The (1963)'),\n",
              " (5.0, 'Stand by Me (1986)'),\n",
              " (5.0, 'Sling Blade (1996)'),\n",
              " (5.0, 'Silence of the Lambs, The (1991)'),\n",
              " (5.0, 'Shining, The (1980)'),\n",
              " (5.0, 'Shine (1996)'),\n",
              " (5.0, 'Sense and Sensibility (1995)'),\n",
              " (5.0, 'Scream (1996)'),\n",
              " (5.0, 'Rumble in the Bronx (1995)'),\n",
              " (5.0, 'Rock, The (1996)'),\n",
              " (5.0, 'Robin Hood: Prince of Thieves (1991)'),\n",
              " (5.0, 'Reservoir Dogs (1992)'),\n",
              " (5.0, 'Police Story 4: Project S (Chao ji ji hua) (1993)'),\n",
              " (5.0, 'House of the Spirits, The (1993)'),\n",
              " (5.0, 'Fresh (1994)'),\n",
              " (5.0, 'Denise Calls Up (1995)'),\n",
              " (5.0, 'Day the Sun Turned Cold, The (Tianguo niezi) (1994)'),\n",
              " (5.0, 'Before the Rain (Pred dozhdot) (1994)'),\n",
              " (5.0, 'Assignment, The (1997)'),\n",
              " (5.0, '1-900 (1994)'),\n",
              " (4.875, \"Ed's Next Move (1996)\"),\n",
              " (4.833333333333333, 'Anna (1996)'),\n",
              " (4.8, 'Dark City (1998)'),\n",
              " (4.75, 'Flower of My Secret, The (Flor de mi secreto, La) (1995)'),\n",
              " (4.75, 'Broken English (1996)'),\n",
              " (4.666666666666667, 'Ill Gotten Gains (1997)'),\n",
              " (4.615384615384615, 'Reluctant Debutante, The (1958)'),\n",
              " (4.6, 'Brothers in Trouble (1995)'),\n",
              " (4.588235294117647, 'Damsel in Distress, A (1937)'),\n",
              " (4.583333333333333, 'Death in Brunswick (1991)'),\n",
              " (4.571428571428571, 'Big One, The (1997)'),\n",
              " (4.55, 'Lady of Burlesque (1943)'),\n",
              " (4.545454545454546, 'Butcher Boy, The (1998)'),\n",
              " (4.5, 'Restoration (1995)'),\n",
              " (4.5, 'Primary Colors (1998)'),\n",
              " (4.5, 'Manny & Lo (1996)'),\n",
              " (4.5, 'Highlander III: The Sorcerer (1994)'),\n",
              " (4.5, 'Forbidden Christ, The (Cristo proibito, Il) (1950)'),\n",
              " (4.5, 'Ed (1996)'),\n",
              " (4.5, 'Crossfire (1947)'),\n",
              " (4.5, 'Cronos (1992)'),\n",
              " (4.5, 'Condition Red (1995)'),\n",
              " (4.5, 'Carried Away (1996)'),\n",
              " (4.5, 'Aparajito (1956)'),\n",
              " (4.5, 'An Unforgettable Summer (1994)'),\n",
              " (4.5, 'American Dream (1990)'),\n",
              " (4.48, 'Dadetown (1995)'),\n",
              " (4.466666666666667, 'Mamma Roma (1962)'),\n",
              " (4.466666666666667, 'Designated Mourner, The (1997)'),\n",
              " (4.446428571428571, 'Marlene Dietrich: Shadow and Light (1996) '),\n",
              " (4.4324324324324325, 'They Made Me a Criminal (1939)'),\n",
              " (4.428571428571429, 'Faithful (1996)'),\n",
              " (4.428571428571429, 'Best Men (1997)'),\n",
              " (4.4, 'Line King: Al Hirschfeld, The (1996)'),\n",
              " (4.4, 'Eighth Day, The (1996)'),\n",
              " (4.391304347826087, 'Century (1993)'),\n",
              " (4.384615384615385, 'Great Day in Harlem, A (1994)'),\n",
              " (4.375, 'Boys (1996)'),\n",
              " (4.37037037037037,\n",
              "  'Last Klezmer: Leopold Kozlowski, His Life and Music, The (1995)'),\n",
              " (4.357142857142857, \"I Can't Sleep (J'ai pas sommeil) (1994)\"),\n",
              " (4.357142857142857, 'Cosi (1996)'),\n",
              " (4.346153846153846, 'Innocents, The (1961)'),\n",
              " (4.333333333333333, 'Robocop 3 (1993)'),\n",
              " (4.333333333333333, 'Red Firecracker, Green Firecracker (1994)'),\n",
              " (4.333333333333333, 'Liebelei (1933)'),\n",
              " (4.333333333333333,\n",
              "  \"I Don't Want to Talk About It (De eso no se habla) (1993)\"),\n",
              " (4.333333333333333, 'House of Yes, The (1997)'),\n",
              " (4.333333333333333, 'Captives (1994)'),\n",
              " (4.333333333333333, 'Bitter Sugar (Azucar Amargo) (1996)'),\n",
              " (4.333333333333333, 'Aiqing wansui (1994)'),\n",
              " (4.314285714285714, 'Girls Town (1996)'),\n",
              " (4.3076923076923075, 'Mirage (1995)'),\n",
              " (4.3076923076923075, 'Mighty, The (1998)'),\n",
              " (4.285714285714286, 'Temptress Moon (Feng Yue) (1996)'),\n",
              " (4.285714285714286, 'Out to Sea (1997)'),\n",
              " (4.285714285714286, 'Last Dance (1996)'),\n",
              " (4.285714285714286, 'Fall (1997)'),\n",
              " (4.285714285714286, 'A Chef in Love (1996)'),\n",
              " (4.285714285714286, '8 Heads in a Duffel Bag (1997)'),\n",
              " (4.282051282051282, \"Someone Else's America (1995)\"),\n",
              " (4.282051282051282, 'Losing Chase (1996)'),\n",
              " (4.277777777777778, 'Hana-bi (1997)'),\n",
              " (4.276190476190476, 'Sleepover (1995)'),\n",
              " (4.2727272727272725, 'Promesse, La (1996)'),\n",
              " (4.2727272727272725, 'Midnight Dancers (Sibak) (1994)'),\n",
              " (4.2727272727272725, 'Man from Down Under, The (1943)'),\n",
              " (4.27027027027027, 'Nénette et Boni (1996)'),\n",
              " (4.26984126984127, 'Three Lives and Only One Death (1996)'),\n",
              " (4.268656716417911, 'Gate of Heavenly Peace, The (1995)'),\n",
              " (4.258064516129032, 'He Walked by Night (1948)'),\n",
              " (4.252336448598131, 'Quiet Room, The (1996)'),\n",
              " (4.25, 'Visitors, The (Visiteurs, Les) (1993)'),\n",
              " (4.25, 'Month by the Lake, A (1995)'),\n",
              " (4.25, 'Lashou shentan (1992)'),\n",
              " (4.25, 'Hour of the Pig, The (1993)'),\n",
              " (4.25, 'Crows and Sparrows (1949)'),\n",
              " (4.25, 'City of Industry (1997)'),\n",
              " (4.25, 'Cement Garden, The (1993)'),\n",
              " (4.25, 'Caro Diario (Dear Diary) (1994)'),\n",
              " (4.25, 'Boys, Les (1997)'),\n",
              " (4.25, 'Bliss (1997)'),\n",
              " (4.25, 'Angel Baby (1995)'),\n",
              " (4.25, 'All Over Me (1997)'),\n",
              " (4.2439024390243905, 'Spanish Prisoner, The (1997)'),\n",
              " (4.242105263157895, 'Price Above Rubies, A (1998)'),\n",
              " (4.24, 'Sudden Manhattan (1996)'),\n",
              " (4.238095238095238, 'Love Serenade (1996)'),\n",
              " (4.230769230769231, 'Killer: A Journal of Murder (1995)'),\n",
              " (4.230769230769231, 'Hollow Reed (1996)'),\n",
              " (4.2272727272727275, 'Wings of Courage (1995)'),\n",
              " (4.222222222222222, 'Letter From Death Row, A (1998)'),\n",
              " (4.222222222222222, 'Hearts and Minds (1996)'),\n",
              " (4.222222222222222, 'Girl in the Cadillac (1995)'),\n",
              " (4.222222222222222, 'Desert Winds (1995)'),\n",
              " (4.21978021978022, 'Johns (1996)'),\n",
              " (4.217391304347826, 'Last Time I Saw Paris, The (1954)'),\n",
              " (4.214285714285714, \"Jupiter's Wife (1994)\"),\n",
              " (4.2125, 'Witness (1985)'),\n",
              " (4.2, 'Land and Freedom (Tierra y libertad) (1995)'),\n",
              " (4.2, 'Incognito (1997)'),\n",
              " (4.2, 'Glass Shield, The (1994)'),\n",
              " (4.2, 'Cérémonie, La (1995)'),\n",
              " (4.2, 'Colonel Chabert, Le (1994)'),\n",
              " (4.19672131147541, 'Mondo (1996)'),\n",
              " (4.193548387096774, 'Normal Life (1996)'),\n",
              " (4.1875, 'Gabbeh (1996)'),\n",
              " (4.181818181818182, 'Substance of Fire, The (1996)'),\n",
              " (4.181818181818182, 'Love Is All There Is (1996)'),\n",
              " (4.181818181818182, 'Foreign Student (1994)'),\n",
              " (4.176470588235294, 'Bewegte Mann, Der (1994)'),\n",
              " (4.173913043478261, 'Hurricane Streets (1998)'),\n",
              " (4.166666666666667, 'Walk in the Sun, A (1945)'),\n",
              " (4.166666666666667, 'Leading Man, The (1996)'),\n",
              " (4.166666666666667, 'Everest (1998)'),\n",
              " (4.166666666666667, 'Dangerous Beauty (1998)'),\n",
              " (4.166666666666667, 'All Things Fair (1996)'),\n",
              " (4.162790697674419, 'Nelly & Monsieur Arnaud (1995)'),\n",
              " (4.153846153846154, 'Sweet Nothing (1995)'),\n",
              " (4.153846153846154, 'Night Flier (1997)'),\n",
              " (4.153846153846154, 'Legal Deceit (1997)'),\n",
              " (4.149425287356322, 'Men With Guns (1997)'),\n",
              " (4.149253731343284, 'Silence of the Palace, The (Saimt el Qusur) (1994)'),\n",
              " (4.148148148148148, \"Some Mother's Son (1996)\"),\n",
              " (4.146551724137931, 'Rendezvous in Paris (Rendez-vous de Paris, Les) (1995)'),\n",
              " (4.1461538461538465, 'Wife, The (1995)'),\n",
              " (4.142857142857143, 'Golden Earrings (1947)'),\n",
              " (4.142857142857143, 'Collectionneuse, La (1967)'),\n",
              " (4.130434782608695, 'Guantanamera (1994)'),\n",
              " (4.126984126984127, 'Paradise Road (1997)'),\n",
              " (4.125, 'Stonewall (1995)'),\n",
              " (4.125, 'Promise, The (Versprechen, Das) (1994)'),\n",
              " (4.125, 'Object of My Affection, The (1998)'),\n",
              " (4.125, 'Etz Hadomim Tafus (Under the Domin Tree) (1994)'),\n",
              " (4.12, \"Pharaoh's Army (1995)\"),\n",
              " (4.12, 'Farmer & Chase (1995)'),\n",
              " (4.111111111111111, 'Dream With the Fishes (1997)'),\n",
              " (4.11, 'Savage Nights (Nuits fauves, Les) (1992)'),\n",
              " (4.10625, 'Á köldum klaka (Cold Fever) (1994)'),\n",
              " (4.105263157894737, 'Two Friends (1986) '),\n",
              " (4.094827586206897, 'Scream of Stone (Schrei aus Stein) (1991)'),\n",
              " (4.090909090909091, 'Nobody Loves Me (Keiner liebt mich) (1994)'),\n",
              " (4.090909090909091, 'Head Above Water (1996)'),\n",
              " (4.090909090909091, 'Full Speed (1996)'),\n",
              " (4.090909090909091, 'Angel on My Shoulder (1946)'),\n",
              " (4.088235294117647, 'Tough and Deadly (1995)'),\n",
              " (4.086956521739131, 'Twisted (1996)'),\n",
              " (4.083333333333333, 'Fille seule, La (A Single Girl) (1995)'),\n",
              " (4.076923076923077, 'Saint of Fort Washington, The (1993)'),\n",
              " (4.076923076923077, 'Niagara, Niagara (1997)'),\n",
              " (4.076923076923077, 'Metisse (Café au Lait) (1993)'),\n",
              " (4.076923076923077, 'Beans of Egypt, Maine, The (1994)'),\n",
              " (4.071428571428571, 'Here Comes Cookie (1935)'),\n",
              " (4.066666666666666, 'Little City (1998)'),\n",
              " (4.0625, 'Angela (1995)'),\n",
              " (4.055555555555555, 'Small Faces (1995)'),\n",
              " (4.055555555555555, 'Maya Lin: A Strong Clear Vision (1994)'),\n",
              " (4.055555555555555, 'Kissed (1996)'),\n",
              " (4.053571428571429, 'Nico Icon (1995)'),\n",
              " (4.05, 'My Favorite Season (1993)'),\n",
              " (4.043478260869565, 'Santa with Muscles (1996)'),\n",
              " (4.043478260869565, 'Neon Bible, The (1995)'),\n",
              " (4.04, 'Mostro, Il (1994)'),\n",
              " (4.04, 'Modern Affair, A (1995)'),\n",
              " (4.027777777777778, 'Quartier Mozart (1992)'),\n",
              " (4.010869565217392, 'Wedding Gift, The (1994)'),\n",
              " (4.01, 'Target (1995)'),\n",
              " (4.0078125, 'Story of Xinghua, The (1993)'),\n",
              " (4.0, 'Wild Bunch, The (1969)'),\n",
              " (4.0, 'White Squall (1996)'),\n",
              " (4.0, 'Village of the Damned (1995)'),\n",
              " (4.0, 'Up Close and Personal (1996)'),\n",
              " (4.0, 'Underworld (1997)'),\n",
              " (4.0, 'U Turn (1997)'),\n",
              " (4.0, 'Time to Kill, A (1996)'),\n",
              " (4.0, 'Swingers (1996)'),\n",
              " (4.0, 'Starship Troopers (1997)'),\n",
              " (4.0, 'Star Trek: Generations (1994)'),\n",
              " (4.0, 'Spitfire Grill, The (1996)'),\n",
              " (4.0, 'Specialist, The (1994)'),\n",
              " (4.0, 'Spanking the Monkey (1994)'),\n",
              " (4.0, 'Some Like It Hot (1959)'),\n",
              " (4.0, 'Some Folks Call It a Sling Blade (1993)'),\n",
              " (4.0, 'Six Degrees of Separation (1993)'),\n",
              " (4.0, 'Show, The (1995)'),\n",
              " (4.0, 'Shall We Dance? (1996)'),\n",
              " (4.0, 'Rudy (1993)'),\n",
              " (4.0, \"Roseanna's Grave (For Roseanna) (1997)\"),\n",
              " (4.0, 'Replacement Killers, The (1998)'),\n",
              " (4.0, 'Red Rock West (1992)'),\n",
              " (4.0, 'Rebel Without a Cause (1955)'),\n",
              " (4.0, 'Rebecca (1940)'),\n",
              " (4.0, 'Ran (1985)'),\n",
              " (4.0, 'Prophecy II, The (1998)'),\n",
              " (4.0, 'Private Parts (1997)'),\n",
              " (4.0, 'Pretty Woman (1990)'),\n",
              " (4.0, 'Powder (1995)'),\n",
              " (4.0, 'Postino, Il (1994)'),\n",
              " (4.0, 'Picture Perfect (1997)'),\n",
              " (4.0, 'Perfect Candidate, A (1996)'),\n",
              " (4.0, 'Pather Panchali (1955)'),\n",
              " (4.0, 'Party Girl (1995)'),\n",
              " (4.0, 'Palmetto (1998)'),\n",
              " (4.0, \"One Flew Over the Cuckoo's Nest (1975)\"),\n",
              " (4.0, 'Once Upon a Time in the West (1969)'),\n",
              " (4.0, 'Oliver & Company (1988)'),\n",
              " (4.0, 'Old Yeller (1957)'),\n",
              " (4.0, 'Next Step, The (1995)'),\n",
              " (4.0, 'Mute Witness (1994)'),\n",
              " (4.0, 'Murder, My Sweet (1944)'),\n",
              " (4.0, 'Mother Night (1996)'),\n",
              " (4.0, 'Mirror Has Two Faces, The (1996)'),\n",
              " (4.0, 'Mina Tannenbaum (1994)'),\n",
              " (4.0, 'Meet John Doe (1941)'),\n",
              " (4.0, 'Magic Hour, The (1998)'),\n",
              " (4.0, 'M. Butterfly (1993)'),\n",
              " (4.0, 'Love and Other Catastrophes (1996)'),\n",
              " (4.0, 'Love Affair (1994)'),\n",
              " (4.0, 'Love & Human Remains (1993)'),\n",
              " (4.0, 'Loch Ness (1995)'),\n",
              " (4.0, 'Living in Oblivion (1995)'),\n",
              " (4.0, 'Lay of the Land, The (1997)'),\n",
              " (4.0, 'Lassie (1994)'),\n",
              " (4.0, 'Larger Than Life (1996)'),\n",
              " (4.0, 'Ladybird Ladybird (1994)'),\n",
              " (4.0, 'Kull the Conqueror (1997)'),\n",
              " (4.0, 'Kiss Me, Guido (1997)'),\n",
              " (4.0, 'Kim (1950)'),\n",
              " (4.0, 'Keys to Tulsa (1997)'),\n",
              " (4.0, 'Joy Luck Club, The (1993)'),\n",
              " (4.0, 'Johnny 100 Pesos (1993)'),\n",
              " (4.0, 'Jingle All the Way (1996)'),\n",
              " (4.0, 'Invitation, The (Zaproszenie) (1986)'),\n",
              " (4.0, 'In Love and War (1996)'),\n",
              " (4.0, 'If Lucy Fell (1996)'),\n",
              " (4.0, 'Ice Storm, The (1997)'),\n",
              " (4.0, \"I'm Not Rappaport (1996)\"),\n",
              " (4.0, 'Horse Whisperer, The (1998)'),\n",
              " (4.0, 'Home Alone 3 (1997)'),\n",
              " (4.0, 'Hideaway (1995)'),\n",
              " (4.0, 'Heidi Fleiss: Hollywood Madam (1995) '),\n",
              " (4.0, \"Heaven's Prisoners (1996)\"),\n",
              " (4.0, 'Haunted World of Edward D. Wood Jr., The (1995)'),\n",
              " (4.0, 'Harlem (1993)'),\n",
              " (4.0, 'Hard Eight (1996)'),\n",
              " (4.0, 'Half Baked (1998)'),\n",
              " (4.0, 'Ghosts of Mississippi (1996)'),\n",
              " (4.0, 'Geronimo: An American Legend (1993)'),\n",
              " (4.0, 'Gang Related (1997)'),\n",
              " (4.0, 'Funeral, The (1996)'),\n",
              " (4.0, 'Frankie Starlight (1995)'),\n",
              " (4.0, 'Foxfire (1996)'),\n",
              " (4.0, 'Four Days in September (1997)'),\n",
              " (4.0, 'For Whom the Bell Tolls (1943)'),\n",
              " (4.0, 'For Richer or Poorer (1997)'),\n",
              " (4.0, 'Flipper (1996)'),\n",
              " (4.0, 'Fled (1996)'),\n",
              " (4.0, 'Female Perversions (1996)'),\n",
              " (4.0, 'Fear, The (1995)'),\n",
              " (4.0, 'Fear of a Black Hat (1993)'),\n",
              " (4.0, 'Fear (1996)'),\n",
              " (4.0, 'Fast, Cheap & Out of Control (1997)'),\n",
              " (4.0, 'Farinelli: il castrato (1994)'),\n",
              " (4.0, 'Falling in Love Again (1980)'),\n",
              " (4.0, 'Faces (1968)'),\n",
              " (4.0, 'Evening Star, The (1996)'),\n",
              " (4.0, 'Entertaining Angels: The Dorothy Day Story (1996)'),\n",
              " (4.0, \"Enfer, L' (1994)\"),\n",
              " (4.0, 'Duoluo tianshi (1995)'),\n",
              " (4.0, 'Destiny Turns on the Radio (1995)'),\n",
              " (4.0, 'Deep Rising (1998)'),\n",
              " (4.0, 'Daytrippers, The (1996)'),\n",
              " (4.0, 'Dangerous Ground (1997)'),\n",
              " (4.0, 'Cyclo (1995)'),\n",
              " (4.0, 'Cure, The (1995)'),\n",
              " (4.0, 'Cry, the Beloved Country (1995)'),\n",
              " (4.0, 'Critical Care (1997)'),\n",
              " (4.0, 'Commandments (1997)'),\n",
              " (4.0, 'Color of Night (1994)'),\n",
              " (4.0, 'Cobb (1994)'),\n",
              " (4.0, 'Clean Slate (1994)'),\n",
              " (4.0, 'Ciao, Professore! (1993)'),\n",
              " (4.0, 'Carpool (1996)'),\n",
              " (4.0, 'Calendar Girl (1993)'),\n",
              " (4.0, 'Cabin Boy (1994)'),\n",
              " (4.0, 'Browning Version, The (1994)'),\n",
              " (4.0, 'Bride of Frankenstein (1935)'),\n",
              " (4.0, 'Boys Life (1995)'),\n",
              " (4.0, 'Boxing Helena (1993)'),\n",
              " (4.0, 'Bottle Rocket (1996)'),\n",
              " (4.0, 'Blue in the Face (1995)'),\n",
              " (4.0, 'Blue Chips (1994)'),\n",
              " (4.0, \"Blood For Dracula (Andy Warhol's Dracula) (1974)\"),\n",
              " (4.0, 'Blood & Wine (1997)'),\n",
              " (4.0, 'Big Bully (1996)'),\n",
              " (4.0, 'Big Blue, The (Grand bleu, Le) (1988)'),\n",
              " (4.0, 'Bent (1997)'),\n",
              " (4.0, 'Believers, The (1987)'),\n",
              " (4.0, 'Before and After (1996)'),\n",
              " (4.0, 'Bastard Out of Carolina (1996)'),\n",
              " (4.0, 'Band Wagon, The (1953)'),\n",
              " (4.0, 'Ballad of Narayama, The (Narayama Bushiko) (1958)'),\n",
              " (4.0, 'Bad Moon (1996)'),\n",
              " (4.0, 'Backbeat (1993)'),\n",
              " (4.0, 'Babysitter, The (1995)'),\n",
              " (4.0, 'Associate, The (1996)'),\n",
              " (4.0, 'Apostle, The (1997)'),\n",
              " (4.0, 'Anna Karenina (1997)'),\n",
              " (4.0, 'American Buffalo (1996)'),\n",
              " (4.0, 'Amazing Panda Adventure, The (1995)'),\n",
              " (4.0, 'Air Bud (1997)'),\n",
              " (4.0, 'Above the Rim (1994)'),\n",
              " (4.0, '3 Ninjas: High Noon At Mega Mountain (1998)'),\n",
              " (4.0, \"'Til There Was You (1997)\"),\n",
              " (3.975609756097561, 'New Jersey Drive (1995)'),\n",
              " (3.972972972972973, 'Shopping (1994)'),\n",
              " (3.9714285714285715, 'Of Love and Shadows (1994)'),\n",
              " (3.9705882352941178, 'Prisoner of the Mountains (Kavkazsky Plennik) (1996)'),\n",
              " (3.9545454545454546, 'Stripes (1981)'),\n",
              " (3.9523809523809526, 'Last Summer in the Hamptons (1995)'),\n",
              " (3.9504950495049505, 'Wonderland (1997)'),\n",
              " (3.945945945945946, 'Van, The (1996)'),\n",
              " (3.9431818181818183, 'You So Crazy (1994)'),\n",
              " (3.9411764705882355, 'Warriors of Virtue (1997)'),\n",
              " (3.9411764705882355, 'Lamerica (1994)'),\n",
              " (3.933333333333333, 'King of the Hill (1993)'),\n",
              " (3.9285714285714284, 'Mrs. Dalloway (1997)'),\n",
              " (3.923076923076923, 'Fausto (1993)'),\n",
              " (3.9206349206349205, 'Mr. Jones (1993)'),\n",
              " (3.918918918918919, 'Nowhere (1997)'),\n",
              " (3.9166666666666665, 'Senseless (1998)'),\n",
              " (3.9166666666666665, 'Pushing Hands (1992)'),\n",
              " (3.914285714285714, 'Newton Boys, The (1998)'),\n",
              " (3.9130434782608696, 'Office Killer (1997)'),\n",
              " (3.909090909090909, 'Thieves (Voleurs, Les) (1996)'),\n",
              " (3.9047619047619047, 'Scarlet Letter, The (1926)'),\n",
              " (3.904109589041096, 'Open Season (1996)'),\n",
              " (3.9, 'Curdled (1996)'),\n",
              " (3.8947368421052633, 'Unhook the Stars (1996)'),\n",
              " (3.8947368421052633, 'Rhyme & Reason (1997)'),\n",
              " (3.892857142857143, 'Traveller (1997)'),\n",
              " (3.888888888888889, 'Sunchaser, The (1996)'),\n",
              " (3.888888888888889, \"Daniel Defoe's Robinson Crusoe (1996)\"),\n",
              " (3.8823529411764706, 'Wedding Bell Blues (1996)'),\n",
              " (3.8823529411764706, 'Tainted (1998)'),\n",
              " (3.8823529411764706, 'Slingshot, The (1993)'),\n",
              " (3.88, 'Nemesis 2: Nebula (1995)'),\n",
              " (3.869565217391304, 'Maybe, Maybe Not (Bewegte Mann, Der) (1994)'),\n",
              " (3.869565217391304, 'Grateful Dead (1995)'),\n",
              " (3.8632478632478633, 'Window to Paris (1994)'),\n",
              " (3.857142857142857, 'Portrait of a Lady, The (1996)'),\n",
              " (3.857142857142857, 'Gumby: The Movie (1995)'),\n",
              " (3.855421686746988, 'Sixth Man, The (1997)'),\n",
              " (3.8461538461538463, 'Fire on the Mountain (1996)'),\n",
              " (3.836734693877551, 'Shooter, The (1995)'),\n",
              " (3.8333333333333335, 'Walking and Talking (1996)'),\n",
              " (3.8333333333333335, 'Scarlet Letter, The (1995)'),\n",
              " (3.8333333333333335, 'Next Karate Kid, The (1994)'),\n",
              " (3.8333333333333335, 'Late Bloomers (1996)'),\n",
              " (3.8333333333333335, 'Last Time I Committed Suicide, The (1997)'),\n",
              " (3.8333333333333335,\n",
              "  'Land Before Time III: The Time of the Great Giving (1995) (V)'),\n",
              " (3.8333333333333335, 'Grosse Fatigue (1994)'),\n",
              " (3.8333333333333335, 'Ayn Rand: A Sense of Life (1997)'),\n",
              " (3.8333333333333335, 'Albino Alligator (1996)'),\n",
              " (3.8260869565217392, 'Good Man in Africa, A (1994)'),\n",
              " (3.8214285714285716, 'Salut cousin! (1996)'),\n",
              " (3.8181818181818183, 'Innocent Sleep, The (1995)'),\n",
              " (3.8135593220338984, 'Sliding Doors (1998)'),\n",
              " (3.8125, \"Lover's Knot (1996)\"),\n",
              " (3.810344827586207, 'Shadows (Cienie) (1988)'),\n",
              " (3.8048780487804876, 'Paris Was a Woman (1995)'),\n",
              " (3.803921568627451, 'So Dear to My Heart (1949)'),\n",
              " (3.8, 'Rough Magic (1995)'),\n",
              " (3.8, 'Princess Caraboo (1994)'),\n",
              " (3.8, 'Nothing to Lose (1994)'),\n",
              " (3.8, 'Life with Mikey (1993)'),\n",
              " (3.8, 'Farewell to Arms, A (1932)'),\n",
              " (3.8, 'Brother Minister: The Assassination of Malcolm X (1994)'),\n",
              " (3.8, 'Beat the Devil (1954)'),\n",
              " (3.8, 'Anne Frank Remembered (1995)'),\n",
              " (3.7857142857142856, 'Set It Off (1996)'),\n",
              " (3.782608695652174, 'Stranger, The (1994)'),\n",
              " (3.7777777777777777, 'Little Princess, The (1939)'),\n",
              " (3.7777777777777777, 'Dream Man (1995)'),\n",
              " (3.769230769230769, 'Of Human Bondage (1934)'),\n",
              " (3.7636363636363637, \"Star Maker, The (Uomo delle stelle, L') (1995)\"),\n",
              " (3.763157894736842, 'Run of the Country, The (1995)'),\n",
              " (3.7586206896551726, 'Outlaw, The (1943)'),\n",
              " (3.75, 'War at Home, The (1996)'),\n",
              " (3.75, \"Sophie's Choice (1982)\"),\n",
              " (3.75, 'Picture Bride (1995)'),\n",
              " (3.75, 'Once Upon a Time... When We Were Colored (1995)'),\n",
              " (3.75, 'Love and Death on Long Island (1997)'),\n",
              " (3.75, 'Kaspar Hauser (1993)'),\n",
              " (3.75, 'Journey of August King, The (1995)'),\n",
              " (3.75, 'Inspector General, The (1949)'),\n",
              " (3.75, 'In the Line of Duty 2 (1987)'),\n",
              " (3.75, 'Horseman on the Roof, The (Hussard sur le toit, Le) (1995)'),\n",
              " (3.75, 'Hear My Song (1991)'),\n",
              " (3.75, 'Country Life (1994)'),\n",
              " (3.75, 'Clean Slate (Coup de Torchon) (1981)'),\n",
              " (3.75, 'Blue Angel, The (Blaue Engel, Der) (1930)'),\n",
              " (3.735042735042735, 'Spirits of the Dead (Tre passi nel delirio) (1968)'),\n",
              " (3.7333333333333334, 'Shooting Fish (1997)'),\n",
              " (3.725806451612903, 'Wild America (1997)'),\n",
              " (3.7222222222222223, 'Twin Town (1997)'),\n",
              " (3.72, 'Safe Passage (1994)'),\n",
              " (3.7142857142857144, 'Talking About Sex (1994)'),\n",
              " (3.7142857142857144, 'Ponette (1996)'),\n",
              " (3.7142857142857144, 'Madame Butterfly (1995)'),\n",
              " (3.7142857142857144, 'Locusts, The (1997)'),\n",
              " (3.7142857142857144, 'Loaded (1994)'),\n",
              " (3.7142857142857144, \"Gone Fishin' (1997)\"),\n",
              " (3.7142857142857144, '8 Seconds (1994)'),\n",
              " (3.710526315789474, 'Raw Deal (1948)'),\n",
              " (3.7096774193548385,\n",
              "  \"My Life and Times With Antonin Artaud (En compagnie d'Antonin Artaud) (1993)\"),\n",
              " (3.7083333333333335, 'Two Much (1996)'),\n",
              " (3.706896551724138, 'Tetsuo II: Body Hammer (1992)'),\n",
              " (3.7058823529411766, 'Kika (1993)'),\n",
              " (3.7037037037037037,\n",
              "  'Wonderful, Horrible Life of Leni Riefenstahl, The (1993)'),\n",
              " (3.7, 'Turning, The (1992)'),\n",
              " (3.689655172413793, 'Switchback (1997)'),\n",
              " (3.6875, 'Nina Takes a Lover (1994)'),\n",
              " (3.6842105263157894, 'Nightwatch (1997)'),\n",
              " (3.6774193548387095, 'Purple Noon (1960)'),\n",
              " (3.676470588235294, 'Terror in a Texas Town (1958)'),\n",
              " (3.676470588235294, 'T-Men (1947)'),\n",
              " (3.676470588235294, 'Symphonie pastorale, La (1946)'),\n",
              " (3.6666666666666665, 'Very Natural Thing, A (1974)'),\n",
              " (3.6666666666666665, 'Some Kind of Wonderful (1987)'),\n",
              " (3.6666666666666665, 'Room with a View, A (1986)'),\n",
              " (3.6666666666666665, \"Robert A. Heinlein's The Puppet Masters (1994)\"),\n",
              " (3.6666666666666665, 'Power 98 (1995)'),\n",
              " (3.6666666666666665, 'Paris, France (1993)'),\n",
              " (3.6666666666666665, 'One Night Stand (1997)'),\n",
              " (3.6666666666666665, 'Naked in New York (1994)'),\n",
              " (3.6666666666666665, 'Mr. Wonderful (1993)'),\n",
              " (3.6666666666666665, 'Mercury Rising (1998)'),\n",
              " (3.6666666666666665, \"Margaret's Museum (1995)\"),\n",
              " (3.6666666666666665, 'Man in the Iron Mask, The (1998)'),\n",
              " (3.6666666666666665, 'Love and a .45 (1994)'),\n",
              " (3.6666666666666665, 'Love Jones (1997)'),\n",
              " (3.6666666666666665, 'Kicked in the Head (1997)'),\n",
              " (3.6666666666666665, 'Goofy Movie, A (1995)'),\n",
              " (3.6666666666666665, 'Getting Away With Murder (1996)'),\n",
              " (3.6666666666666665, 'Doom Generation, The (1995)'),\n",
              " (3.6666666666666665, 'Celestial Clockwork (1994)'),\n",
              " (3.6666666666666665, 'Bloody Child, The (1996)'),\n",
              " (3.6666666666666665, 'Across the Sea of Time (1995)'),\n",
              " (3.6598639455782314, 'Somebody to Love (1994)'),\n",
              " (3.6507936507936507, 'Stranger in the House (1997)'),\n",
              " (3.6506849315068495, 'Yankee Zulu (1994)'),\n",
              " (3.6506849315068495, 'Woman in Question, The (1950)'),\n",
              " (3.641509433962264, 'Touch (1997)'),\n",
              " (3.640845070422535, \"Wend Kuuni (God's Gift) (1982)\"),\n",
              " (3.63768115942029, 'The Courtyard (1995)'),\n",
              " (3.6363636363636362, 'Welcome To Sarajevo (1997)'),\n",
              " (3.6363636363636362, 'Walkabout (1971)'),\n",
              " (3.6363636363636362, 'Favor, The (1994)'),\n",
              " (3.631205673758865, 'Vie est belle, La (Life is Rosey) (1987)'),\n",
              " (3.631205673758865, 'Vermont Is For Lovers (1992)'),\n",
              " (3.6285714285714286, 'Touki Bouki (Journey of the Hyena) (1973)'),\n",
              " (3.6285714285714286, 'To Cross the Rubicon (1991)'),\n",
              " (3.6285714285714286, 'Tigrero: A Film That Was Never Made (1994)'),\n",
              " (3.625, 'Waiting for Guffman (1996)'),\n",
              " (3.625, 'Afterglow (1997)'),\n",
              " (3.6226415094339623, 'Squeeze (1996)'),\n",
              " (3.6216216216216215, 'To Have, or Not (1995)'),\n",
              " (3.619047619047619, 'Stars Fell on Henrietta, The (1995)'),\n",
              " (3.619047619047619, 'Schizopolis (1996)'),\n",
              " (3.6153846153846154, 'Sunset Park (1996)'),\n",
              " (3.611111111111111, 'Pompatus of Love, The (1996)'),\n",
              " (3.6, 'Star Maps (1997)'),\n",
              " (3.6, 'Ruling Class, The (1972)'),\n",
              " (3.6, 'Ridicule (1996)'),\n",
              " (3.6, 'Queen Margot (Reine Margot, La) (1994)'),\n",
              " (3.6, 'Picnic (1955)'),\n",
              " (3.6, 'Pest, The (1997)'),\n",
              " (3.6, 'Man of the Year (1995)'),\n",
              " (3.6, 'Mad Dog Time (1996)'),\n",
              " (3.6, 'Jerky Boys, The (1994)'),\n",
              " (3.6, 'Jack and Sarah (1995)'),\n",
              " (3.6, 'Hate (Haine, La) (1995)'),\n",
              " (3.6, 'Faust (1994)'),\n",
              " (3.588235294117647, 'Women, The (1939)'),\n",
              " (3.586206896551724, 'Strawberry and Chocolate (Fresa y chocolate) (1993)'),\n",
              " (3.5851063829787235, 'Suture (1993)'),\n",
              " (3.5806451612903225, 'Nil By Mouth (1997)'),\n",
              " (3.576923076923077, 'World of Apu, The (Apur Sansar) (1959)'),\n",
              " (3.5714285714285716, 'Smile Like Yours, A (1997)'),\n",
              " (3.56875, 'Swept from the Sea (1997)'),\n",
              " (3.5686274509803924, 'The Deadly Cure (1996)'),\n",
              " (3.5555555555555554, 'Whole Wide World, The (1996)'),\n",
              " (3.5555555555555554, 'Time Tracers (1995)'),\n",
              " (3.5454545454545454, 'unknown'),\n",
              " (3.5384615384615383, 'Wings of the Dove, The (1997)'),\n",
              " (3.5384615384615383, 'Romper Stomper (1992)'),\n",
              " (3.5384615384615383, 'Palookaville (1996)'),\n",
              " (3.5384615384615383, 'Children of the Revolution (1996)'),\n",
              " (3.5342465753424657, 'When Night Is Falling (1995)'),\n",
              " (3.533333333333333, 'Vermin (1998)'),\n",
              " (3.533333333333333, 'Surviving Picasso (1996)'),\n",
              " (3.5238095238095237, 'Tie That Binds, The (1995)'),\n",
              " (3.5238095238095237, 'Race the Sun (1996)'),\n",
              " (3.514705882352941, 'Search for One-eye Jimmy, The (1996)'),\n",
              " (3.511111111111111, 'Stag (1997)'),\n",
              " (3.507936507936508, 'Telling Lies in America (1997)'),\n",
              " (3.5, 'Zeus and Roxanne (1997)'),\n",
              " (3.5, 'Year of the Horse (1997)'),\n",
              " (3.5, 'Unzipped (1995)'),\n",
              " (3.5, 'Underneath, The (1995)'),\n",
              " (3.5, 'Twilight (1998)'),\n",
              " (3.5, 'Spice World (1997)'),\n",
              " (3.5, 'Spellbound (1945)'),\n",
              " (3.5, 'Shall We Dance? (1937)'),\n",
              " (3.5, 'Screamers (1995)'),\n",
              " (3.5, 'Scout, The (1994)'),\n",
              " (3.5, 'Roommates (1995)'),\n",
              " (3.5, 'Romeo Is Bleeding (1993)'),\n",
              " (3.5, \"Rich Man's Wife, The (1996)\"),\n",
              " (3.5, 'Rent-a-Kid (1995)'),\n",
              " (3.5, 'Radioland Murders (1994)'),\n",
              " (3.5, 'Persuasion (1995)'),\n",
              " (3.5, 'Perez Family, The (1995)'),\n",
              " (3.5, 'Pagemaster, The (1994)'),\n",
              " (3.5, 'Oscar & Lucinda (1997)'),\n",
              " (3.5, 'Night Falls on Manhattan (1997)'),\n",
              " (3.5, 'Mr. Magoo (1997)'),\n",
              " (3.5, 'Money Talks (1997)'),\n",
              " (3.5, 'Moll Flanders (1996)'),\n",
              " (3.5, 'Misérables, Les (1995)'),\n",
              " (3.5, 'Marked for Death (1990)'),\n",
              " (3.5, 'Man of No Importance, A (1994)'),\n",
              " (3.5, 'Machine, The (1994)'),\n",
              " (3.5, 'Lotto Land (1995)'),\n",
              " (3.5, 'Losing Isaiah (1995)'),\n",
              " (3.5, 'Leopard Son, The (1996)'),\n",
              " (3.5, 'Kama Sutra: A Tale of Love (1996)'),\n",
              " (3.5, 'Inventing the Abbotts (1997)'),\n",
              " (3.5, 'Infinity (1996)'),\n",
              " (3.5, 'I Like It Like That (1994)'),\n",
              " (3.5, 'House Party 3 (1994)'),\n",
              " (3.5, 'Grace of My Heart (1996)'),\n",
              " (3.5, 'Gay Divorcee, The (1934)'),\n",
              " (3.5, 'Funny Face (1957)'),\n",
              " (3.5, 'Feeling Minnesota (1996)'),\n",
              " (3.5, 'Even Cowgirls Get the Blues (1993)'),\n",
              " (3.5, 'Drunks (1995)'),\n",
              " (3.5, 'Double Team (1997)'),\n",
              " (3.5, 'Double Happiness (1994)'),\n",
              " (3.5, 'Deceiver (1997)'),\n",
              " (3.5, 'Contempt (Mépris, Le) (1963)'),\n",
              " (3.5, 'Cemetery Man (Dellamorte Dellamore) (1994)'),\n",
              " (3.5, \"C'est arrivé près de chez vous (1992)\"),\n",
              " (3.5, 'Alphaville (1965)'),\n",
              " (3.484536082474227, 'The Innocent (1994)'),\n",
              " (3.4833333333333334, 'Two or Three Things I Know About Her (1966)'),\n",
              " (3.4814814814814814, 'Sum of Us, The (1994)'),\n",
              " (3.48, 'Winter Guest, The (1997)'),\n",
              " (3.46875, 'Sprung (1997)'),\n",
              " (3.4545454545454546, 'Relative Fear (1994)'),\n",
              " (3.4545454545454546, 'Flesh and Bone (1993)'),\n",
              " (3.4516129032258065, 'S.F.W. (1994)'),\n",
              " (3.4444444444444446, 'Truman Show, The (1998)'),\n",
              " (3.4444444444444446, 'Simple Twist of Fate, A (1994)'),\n",
              " (3.4444444444444446, 'Ripe (1996)'),\n",
              " (3.4444444444444446, 'Intimate Relations (1996)'),\n",
              " (3.443661971830986, 'Two Deaths (1995)'),\n",
              " (3.4347826086956523, 'No Escape (1994)'),\n",
              " (3.4285714285714284, 'Wild Things (1998)'),\n",
              " (3.4285714285714284, 'Unforgettable (1996)'),\n",
              " (3.4285714285714284, 'Faster Pussycat! Kill! Kill! (1965)'),\n",
              " (3.4262295081967213, 'War Room, The (1993)'),\n",
              " (3.4210526315789473,\n",
              "  'Old Lady Who Walked in the Sea, The (Vieille qui marchait dans la mer, La) (1991)'),\n",
              " (3.409090909090909, 'When the Cats Away (Chacun cherche son chat) (1996)'),\n",
              " (3.4081632653061225, 'Wild Reeds (1994)'),\n",
              " (3.4, 'Tom & Viv (1994)'),\n",
              " (3.4, 'Street Fighter (1994)'),\n",
              " (3.4, 'Reckless (1995)'),\n",
              " (3.4, 'Nosferatu a Venezia (1986)'),\n",
              " (3.4, 'Low Life, The (1994)'),\n",
              " (3.4, \"Jason's Lyric (1994)\"),\n",
              " (3.4, \"Gridlock'd (1997)\"),\n",
              " (3.4, \"Gilligan's Island: The Movie (1998)\"),\n",
              " (3.3846153846153846, 'Secret Adventures of Tom Thumb, The (1993)'),\n",
              " (3.382978723404255, 'Underground (1995)'),\n",
              " (3.382978723404255, 'Trial by Jury (1994)'),\n",
              " (3.3783783783783785, 'Shiloh (1997)'),\n",
              " (3.375, 'Thirty-Two Short Films About Glenn Gould (1993)'),\n",
              " (3.375, 'Steel (1997)'),\n",
              " (3.375, 'Indian Summer (1996)'),\n",
              " (3.375, 'Flirt (1995)'),\n",
              " (3.361111111111111, 'Second Jungle Book: Mowgli & Baloo, The (1997)'),\n",
              " (3.358490566037736, 'White Balloon, The (1995)'),\n",
              " (3.3529411764705883, 'Sexual Life of the Belgians, The (1994)'),\n",
              " (3.3518518518518516, 'Two Bits (1995)'),\n",
              " (3.3333333333333335, 'Two if by Sea (1996)'),\n",
              " (3.3333333333333335, 'Tom and Huck (1995)'),\n",
              " (3.3333333333333335, 'Thin Blue Line, The (1988)'),\n",
              " (3.3333333333333335, 'Tank Girl (1995)'),\n",
              " (3.3333333333333335, 'Substitute, The (1996)'),\n",
              " (3.3333333333333335, 'Striking Distance (1993)'),\n",
              " (3.3333333333333335, 'Simple Wish, A (1997)'),\n",
              " (3.3333333333333335, 'Shadow Conspiracy (1997)'),\n",
              " (3.3333333333333335, 'Road to Wellville, The (1994)'),\n",
              " (3.3333333333333335, 'Phantoms (1998)'),\n",
              " (3.3333333333333335, 'Orlando (1993)'),\n",
              " (3.3333333333333335, 'My Family (1995)'),\n",
              " (3.3333333333333335, 'Mrs. Winterbourne (1996)'),\n",
              " (3.3333333333333335, 'Meet Wally Sparks (1997)'),\n",
              " (3.3333333333333335, 'Mark of Zorro, The (1940)'),\n",
              " (3.3333333333333335, 'Mad Love (1995)'),\n",
              " (3.3333333333333335, 'Love in the Afternoon (1957)'),\n",
              " (3.3333333333333335, 'Hunted, The (1995)'),\n",
              " (3.3333333333333335, 'Hellraiser: Bloodline (1996)'),\n",
              " (3.3333333333333335, 'Heavy (1995)'),\n",
              " (3.3333333333333335, 'Heaven & Earth (1993)'),\n",
              " (3.3333333333333335, 'Grass Harp, The (1995)'),\n",
              " (3.3333333333333335, 'Frisk (1995)'),\n",
              " (3.3333333333333335, 'Firestorm (1998)'),\n",
              " (3.3333333333333335, 'Coldblooded (1995)'),\n",
              " (3.3333333333333335, 'Blue Sky (1994)'),\n",
              " (3.3157894736842106, 'Tango Lesson, The (1997)'),\n",
              " (3.3, \"Wooden Man's Bride, The (Wu Kui) (1994)\"),\n",
              " (3.3, 'Pie in the Sky (1995)'),\n",
              " (3.2962962962962963, 'New York Cop (1996)'),\n",
              " (3.2857142857142856, \"National Lampoon's Senior Trip (1995)\"),\n",
              " (3.2857142857142856, 'City of Angels (1998)'),\n",
              " (3.278688524590164, 'To Live (Huozhe) (1994)'),\n",
              " (3.272727272727273, 'Penny Serenade (1941)'),\n",
              " (3.2718446601941746, 'Total Eclipse (1995)'),\n",
              " (3.269230769230769,\n",
              "  'Umbrellas of Cherbourg, The (Parapluies de Cherbourg, Les) (1964)'),\n",
              " (3.260869565217391, 'Phat Beach (1996)'),\n",
              " (3.2588235294117647, 'Walking Dead, The (1995)'),\n",
              " (3.25, 'Steal Big, Steal Little (1995)'),\n",
              " (3.25, 'Stalker (1979)'),\n",
              " (3.25, 'NeverEnding Story III, The (1994)'),\n",
              " (3.25, 'My Crazy Life (Mi vida loca) (1993)'),\n",
              " (3.25, 'Moonlight and Valentino (1995)'),\n",
              " (3.25, 'Mediterraneo (1991)'),\n",
              " (3.25, 'In the Realm of the Senses (Ai no corrida) (1976)'),\n",
              " (3.25, 'Hard Rain (1998)'),\n",
              " (3.25, 'Germinal (1993)'),\n",
              " (3.238095238095238, 'Turbo: A Power Rangers Movie (1997)'),\n",
              " (3.2222222222222223, 'When We Were Kings (1996)'),\n",
              " (3.2222222222222223, 'War, The (1994)'),\n",
              " (3.2222222222222223, 'Theodore Rex (1995)'),\n",
              " (3.2142857142857144, 'Stalingrad (1993)'),\n",
              " (3.2142857142857144, 'Selena (1997)'),\n",
              " (3.207547169811321, 'Swan Princess, The (1994)'),\n",
              " (3.206896551724138, 'Wishmaster (1997)'),\n",
              " (3.2, \"Widows' Peak (1994)\"),\n",
              " (3.2, 'Top Hat (1935)'),\n",
              " (3.2, 'Thousand Acres, A (1997)'),\n",
              " (3.2, 'Return of Martin Guerre, The (Retour de Martin Guerre, Le) (1982)'),\n",
              " (3.2, 'North (1994)'),\n",
              " (3.2, 'Mouse Hunt (1997)'),\n",
              " (3.2, 'Chairman of the Board (1998)'),\n",
              " (3.1818181818181817, 'Original Gangstas (1996)'),\n",
              " (3.1739130434782608, 'Twelfth Night (1996)'),\n",
              " (3.1739130434782608, 'To Be or Not to Be (1942)'),\n",
              " (3.169811320754717, 'Withnail and I (1987)'),\n",
              " (3.1666666666666665, 'Tin Drum, The (Blechtrommel, Die) (1979)'),\n",
              " (3.1666666666666665, 'Killer (Bulletproof Heart) (1994)'),\n",
              " (3.1470588235294117, 'Washington Square (1997)'),\n",
              " (3.142857142857143, 'U.S. Marshalls (1998)'),\n",
              " (3.142857142857143, 'Three Wishes (1995)'),\n",
              " (3.142857142857143, 'Solo (1996)'),\n",
              " (3.142857142857143, 'Chasers (1994)'),\n",
              " (3.142857142857143, 'Butterfly Kiss (1995)'),\n",
              " (3.125, 'Turbulence (1997)'),\n",
              " (3.1142857142857143, 'True Crime (1995)'),\n",
              " (3.111111111111111, 'Wedding Singer, The (1998)'),\n",
              " (3.111111111111111, 'Safe (1995)'),\n",
              " (3.111111111111111, 'Mille bolle blu (1993)'),\n",
              " (3.103448275862069, 'Secret Agent, The (1996)'),\n",
              " (3.1, 'Trial and Error (1997)'),\n",
              " (3.0925925925925926, 'What Happened Was... (1994)'),\n",
              " (3.0833333333333335, 'Surviving the Game (1994)'),\n",
              " (3.076923076923077, 'Sphere (1998)'),\n",
              " (3.0714285714285716, 'Shadow of Angels (Schatten der Engel) (1976)'),\n",
              " (3.0588235294117645,\n",
              "  'Until the End of the World (Bis ans Ende der Welt) (1991)'),\n",
              " (3.032258064516129, 'Stefano Quantestorie (1993)'),\n",
              " (3.0294117647058822, 'Venice/Venice (1992)'),\n",
              " (3.0, \"Young Poisoner's Handbook, The (1995)\"),\n",
              " (3.0, 'Wolf (1994)'),\n",
              " (3.0, \"William Shakespeare's Romeo and Juliet (1996)\"),\n",
              " (3.0, 'Wild Bill (1995)'),\n",
              " (3.0, 'When a Man Loves a Woman (1994)'),\n",
              " (3.0, \"Wes Craven's New Nightmare (1994)\"),\n",
              " (3.0, 'Walk in the Clouds, A (1995)'),\n",
              " (3.0, 'Wag the Dog (1997)'),\n",
              " (3.0, 'Volcano (1997)'),\n",
              " (3.0, 'Virtuosity (1995)'),\n",
              " (3.0, 'Unforgiven (1992)'),\n",
              " (3.0, 'Under Siege 2: Dark Territory (1995)'),\n",
              " (3.0, 'Truth or Consequences, N.M. (1997)'),\n",
              " (3.0, 'Trainspotting (1996)'),\n",
              " (3.0, 'Tokyo Fist (1995)'),\n",
              " (3.0, 'To Gillian on Her 37th Birthday (1996)'),\n",
              " (3.0, 'To Catch a Thief (1955)'),\n",
              " (3.0, 'Three Caballeros, The (1945)'),\n",
              " (3.0, 'That Darn Cat! (1965)'),\n",
              " (3.0, 'Tales from the Crypt Presents: Bordello of Blood (1996)'),\n",
              " (3.0, 'Swiss Family Robinson (1960)'),\n",
              " (3.0, 'Sunset Blvd. (1950)'),\n",
              " (3.0, \"Stephen King's The Langoliers (1995)\"),\n",
              " (3.0, 'Star Kid (1997)'),\n",
              " (3.0, 'Spy Hard (1996)'),\n",
              " (3.0, 'Space Jam (1996)'),\n",
              " (3.0, 'Sgt. Bilko (1996)'),\n",
              " (3.0, 'Sex, Lies, and Videotape (1989)'),\n",
              " (3.0, 'Seventh Seal, The (Sjunde inseglet, Det) (1957)'),\n",
              " (3.0, 'Sabrina (1954)'),\n",
              " (3.0, 'Roman Holiday (1953)'),\n",
              " (3.0, 'Richard III (1995)'),\n",
              " (3.0, 'Relic, The (1997)'),\n",
              " (3.0, 'Ref, The (1994)'),\n",
              " (3.0, 'Red Corner (1997)'),\n",
              " (3.0, 'Ready to Wear (Pret-A-Porter) (1994)'),\n",
              " (3.0, 'Quest, The (1996)'),\n",
              " (3.0, 'Pump Up the Volume (1990)'),\n",
              " (3.0, 'Priest (1994)'),\n",
              " (3.0, 'Pollyanna (1960)'),\n",
              " (3.0, 'Playing God (1997)'),\n",
              " (3.0, 'Pillow Book, The (1995)'),\n",
              " (3.0, \"Pete's Dragon (1977)\"),\n",
              " (3.0, 'Peacemaker, The (1997)'),\n",
              " (3.0, 'Patton (1970)'),\n",
              " (3.0, 'Paradise Lost: The Child Murders at Robin Hood Hills (1996)'),\n",
              " (3.0, 'Other Voices, Other Rooms (1997)'),\n",
              " (3.0, 'Only You (1994)'),\n",
              " (3.0, 'Old Man and the Sea, The (1958)'),\n",
              " (3.0, 'Now and Then (1995)'),\n",
              " (3.0, 'Nothing Personal (1995)'),\n",
              " (3.0, \"Nobody's Fool (1994)\"),\n",
              " (3.0, 'Ninotchka (1939)'),\n",
              " (3.0, 'New Age, The (1994)'),\n",
              " (3.0, 'Nadja (1994)'),\n",
              " (3.0, 'My Own Private Idaho (1991)'),\n",
              " (3.0, \"Muriel's Wedding (1994)\"),\n",
              " (3.0, 'Mrs. Brown (Her Majesty, Mrs. Brown) (1997)'),\n",
              " (3.0, 'Miracle on 34th Street (1994)'),\n",
              " (3.0, 'Mighty Morphin Power Rangers: The Movie (1995)'),\n",
              " (3.0, 'Miami Rhapsody (1995)'),\n",
              " (3.0, 'Men of Means (1998)'),\n",
              " (3.0, \"McHale's Navy (1997)\"),\n",
              " (3.0, 'Maximum Risk (1996)'),\n",
              " (3.0, 'MatchMaker, The (1997)'),\n",
              " (3.0, 'Mary Reilly (1996)'),\n",
              " (3.0, 'Manhattan (1979)'),\n",
              " (3.0, 'MURDER and murder (1996)'),\n",
              " (3.0, 'Little Lord Fauntleroy (1936)'),\n",
              " (3.0, 'Little Buddha (1993)'),\n",
              " (3.0, 'Little Big League (1994)'),\n",
              " (3.0, 'Life Less Ordinary, A (1997)'),\n",
              " (3.0, 'Leave It to Beaver (1997)'),\n",
              " (3.0, 'Lawnmower Man 2: Beyond Cyberspace (1996)'),\n",
              " (3.0, 'King of New York (1990)'),\n",
              " (3.0, 'Kansas City (1996)'),\n",
              " (3.0, 'Juror, The (1996)'),\n",
              " (3.0, 'Jefferson in Paris (1995)'),\n",
              " (3.0, 'Jane Eyre (1996)'),\n",
              " (3.0, 'Jackal, The (1997)'),\n",
              " (3.0, 'JLG/JLG - autoportrait de décembre (1994)'),\n",
              " (3.0, \"It's My Party (1995)\"),\n",
              " (3.0, 'It Takes Two (1995)'),\n",
              " (3.0, 'Island of Dr. Moreau, The (1996)'),\n",
              " (3.0, 'I Shot Andy Warhol (1996)'),\n",
              " (3.0, 'How to Be a Player (1997)'),\n",
              " (3.0, 'Homage (1995)'),\n",
              " (3.0, 'Herbie Rides Again (1974)'),\n",
              " (3.0, 'Hedd Wyn (1992)'),\n",
              " (3.0, 'Halloween: The Curse of Michael Myers (1995)'),\n",
              " (3.0, 'Guilty as Sin (1993)'),\n",
              " (3.0, 'Good Morning (1971)'),\n",
              " (3.0, 'Getting Even with Dad (1994)'),\n",
              " (3.0, 'Garden of Finzi-Contini, The (Giardino dei Finzi-Contini, Il) (1970)'),\n",
              " (3.0, 'French Twist (Gazon maudit) (1995)'),\n",
              " (3.0, 'Foreign Correspondent (1940)'),\n",
              " (3.0, 'For Love or Money (1993)'),\n",
              " (3.0, 'Far From Home: The Adventures of Yellow Dog (1995)'),\n",
              " (3.0, 'Death and the Maiden (1994)'),\n",
              " (3.0, 'Davy Crockett, King of the Wild Frontier (1955)'),\n",
              " (3.0, 'Caught (1996)'),\n",
              " (3.0, \"Cats Don't Dance (1997)\"),\n",
              " (3.0, 'Castle Freak (1995)'),\n",
              " (3.0, 'Carrington (1995)'),\n",
              " (3.0, 'Career Girls (1997)'),\n",
              " (3.0, 'Bushwhacked (1995)'),\n",
              " (3.0, 'Burnt By the Sun (1994)'),\n",
              " (3.0, 'Blood Beach (1981)'),\n",
              " (3.0, 'Blink (1994)'),\n",
              " (3.0, 'Beautician and the Beast, The (1997)'),\n",
              " (3.0, 'Bad Company (1995)'),\n",
              " (3.0, 'B*A*P*S (1997)'),\n",
              " (3.0, 'All Dogs Go to Heaven 2 (1996)'),\n",
              " (3.0, 'Alaska (1996)'),\n",
              " (3.0, '187 (1997)'),\n",
              " (2.9523809523809526, 'Thin Line Between Love and Hate, A (1996)'),\n",
              " (2.9444444444444446, 'That Darn Cat! (1997)'),\n",
              " (2.923076923076923, 'Trigger Effect, The (1996)'),\n",
              " (2.9, 'Vanya on 42nd Street (1994)'),\n",
              " (2.888888888888889, 'SubUrbia (1997)'),\n",
              " (2.875, 'Waiting to Exhale (1995)'),\n",
              " (2.857142857142857, \"White Man's Burden (1995)\"),\n",
              " (2.857142857142857, 'Transformers: The Movie, The (1986)'),\n",
              " (2.8333333333333335, 'Poison Ivy II (1995)'),\n",
              " (2.8181818181818183, 'Wings of Desire (1987)'),\n",
              " (2.8181818181818183, 'Vampire in Brooklyn (1995)'),\n",
              " (2.8, 'With Honors (1994)'),\n",
              " (2.8, 'Touch of Evil (1958)'),\n",
              " (2.727272727272727, 'Shanghai Triad (Yao a yao yao dao waipo qiao) (1995)'),\n",
              " (2.7142857142857144, 'Trust (1990)'),\n",
              " (2.7142857142857144, 'Threesome (1994)'),\n",
              " (2.6666666666666665, 'Unstrung Heroes (1995)'),\n",
              " (2.6666666666666665, 'Trees Lounge (1996)'),\n",
              " (2.6666666666666665, 'Tales from the Hood (1995)'),\n",
              " (2.6666666666666665, 'Sudden Death (1995)'),\n",
              " (2.6666666666666665, 'Stupids, The (1996)'),\n",
              " (2.6666666666666665, \"She's So Lovely (1997)\"),\n",
              " (2.6666666666666665, 'Mr. Wrong (1996)'),\n",
              " (2.6666666666666665, 'Awfully Big Adventure, An (1995)'),\n",
              " (2.6, 'Three Colors: White (1994)'),\n",
              " (2.6, 'Three Colors: Blue (1993)'),\n",
              " (2.5, 'Wrong Trousers, The (1993)'),\n",
              " (2.5, \"What's Love Got to Do with It (1993)\"),\n",
              " (2.5, 'Tie Me Up! Tie Me Down! (1990)'),\n",
              " (2.5, 'Taxi Driver (1976)'),\n",
              " (2.5, 'Stuart Saves His Family (1995)'),\n",
              " (2.5, 'Raise the Red Lantern (1991)'),\n",
              " (2.5, 'Judgment Night (1993)'),\n",
              " (2.5, \"Eve's Bayou (1997)\"),\n",
              " (2.5, 'Buddy (1997)'),\n",
              " (2.4, 'Thinner (1996)'),\n",
              " (2.4, 'Stealing Beauty (1996)'),\n",
              " (2.3333333333333335, 'True Romance (1993)'),\n",
              " (2.3333333333333335, \"Things to Do in Denver when You're Dead (1995)\"),\n",
              " (2.3333333333333335, 'Poetic Justice (1993)'),\n",
              " (2.25, 'Sweet Hereafter, The (1997)'),\n",
              " (2.0, 'Timecop (1994)'),\n",
              " (2.0, 'Three Colors: Red (1994)'),\n",
              " (2.0, 'Third Man, The (1949)'),\n",
              " (2.0, 'Thin Man, The (1934)'),\n",
              " (2.0, 'Terminal Velocity (1994)'),\n",
              " (2.0, 'Star Trek VI: The Undiscovered Country (1991)'),\n",
              " (2.0, 'Sound of Music, The (1965)'),\n",
              " (2.0, 'Soul Food (1997)'),\n",
              " (2.0, 'Secret of Roan Inish, The (1994)'),\n",
              " (2.0, 'Ruby in Paradise (1993)'),\n",
              " (2.0, 'Rosencrantz and Guildenstern Are Dead (1990)'),\n",
              " (2.0, 'Quick and the Dead, The (1995)'),\n",
              " (2.0, 'Pinocchio (1940)'),\n",
              " (2.0, 'Passion Fish (1992)'),\n",
              " (2.0, 'My Man Godfrey (1936)'),\n",
              " (2.0, 'Chungking Express (1994)'),\n",
              " (2.0, 'Angel and the Badman (1947)'),\n",
              " (1.5, 'Tombstone (1993)'),\n",
              " (1.0, 'Unbearable Lightness of Being, The (1988)')]"
            ]
          },
          "metadata": {},
          "execution_count": 36
        }
      ]
    },
    {
      "cell_type": "markdown",
      "metadata": {
        "id": "oF9qzVofxyq8"
      },
      "source": [
        "Выведем список фильмов, которые пользователь с id `87` оценил максимальным баллом:\n",
        "\n",
        "\n",
        "\n",
        "**Code 25:**\n",
        "\n",
        "*Примечание*: `preferences['_some_user_id_']` - содержит значения рейтингов фильмов для пользователя '_some_user_id_'"
      ]
    },
    {
      "cell_type": "code",
      "metadata": {
        "scrolled": true,
        "id": "l-Iqlmebxyq9",
        "colab": {
          "base_uri": "https://localhost:8080/"
        },
        "outputId": "563e203c-5e0d-4b29-a02e-50297ca6291a"
      },
      "source": [
        "preferences['87']"
      ],
      "execution_count": null,
      "outputs": [
        {
          "output_type": "execute_result",
          "data": {
            "text/plain": [
              "{'Naked Gun 33 1/3: The Final Insult (1994)': 4.0,\n",
              " 'Con Air (1997)': 4.0,\n",
              " 'Sabrina (1995)': 4.0,\n",
              " 'Waterworld (1995)': 4.0,\n",
              " 'To Wong Foo, Thanks for Everything! Julie Newmar (1995)': 3.0,\n",
              " 'Clueless (1995)': 4.0,\n",
              " 'Jurassic Park (1993)': 5.0,\n",
              " 'Brady Bunch Movie, The (1995)': 2.0,\n",
              " 'Son in Law (1993)': 4.0,\n",
              " 'Indiana Jones and the Last Crusade (1989)': 5.0,\n",
              " 'Good, The Bad and The Ugly, The (1966)': 5.0,\n",
              " 'Dead Poets Society (1989)': 5.0,\n",
              " 'Dead Man Walking (1995)': 4.0,\n",
              " \"Joe's Apartment (1996)\": 2.0,\n",
              " 'GoldenEye (1995)': 4.0,\n",
              " 'M*A*S*H (1970)': 5.0,\n",
              " 'Something to Talk About (1995)': 2.0,\n",
              " 'Lightning Jack (1994)': 3.0,\n",
              " 'Big Green, The (1995)': 3.0,\n",
              " 'Cowboy Way, The (1994)': 3.0,\n",
              " \"Ulee's Gold (1997)\": 3.0,\n",
              " 'Addams Family Values (1993)': 2.0,\n",
              " '2001: A Space Odyssey (1968)': 5.0,\n",
              " 'Platoon (1986)': 3.0,\n",
              " 'Return of the Pink Panther, The (1974)': 4.0,\n",
              " 'Four Weddings and a Funeral (1994)': 5.0,\n",
              " 'Under Siege (1992)': 4.0,\n",
              " 'Ace Ventura: Pet Detective (1994)': 4.0,\n",
              " 'Die Hard: With a Vengeance (1995)': 4.0,\n",
              " 'Prefontaine (1997)': 5.0,\n",
              " 'Cops and Robbersons (1994)': 3.0,\n",
              " \"Pyromaniac's Love Story, A (1995)\": 3.0,\n",
              " 'Glory (1989)': 4.0,\n",
              " 'This Is Spinal Tap (1984)': 5.0,\n",
              " 'Multiplicity (1996)': 3.0,\n",
              " 'Tommy Boy (1995)': 4.0,\n",
              " 'Cool Hand Luke (1967)': 5.0,\n",
              " \"Monty Python's Life of Brian (1979)\": 4.0,\n",
              " 'Victor/Victoria (1982)': 4.0,\n",
              " 'Treasure of the Sierra Madre, The (1948)': 4.0,\n",
              " 'That Old Feeling (1997)': 4.0,\n",
              " 'Mrs. Doubtfire (1993)': 4.0,\n",
              " 'Professional, The (1994)': 4.0,\n",
              " 'True Lies (1994)': 5.0,\n",
              " 'Air Force One (1997)': 3.0,\n",
              " 'Speechless (1994)': 4.0,\n",
              " 'Sleepless in Seattle (1993)': 5.0,\n",
              " 'Young Frankenstein (1974)': 5.0,\n",
              " 'GoodFellas (1990)': 4.0,\n",
              " 'Fugitive, The (1993)': 5.0,\n",
              " 'In the Line of Fire (1993)': 5.0,\n",
              " 'Reality Bites (1994)': 3.0,\n",
              " 'Shadow, The (1994)': 3.0,\n",
              " 'Speed (1994)': 5.0,\n",
              " 'Batman Returns (1992)': 3.0,\n",
              " 'Conan the Barbarian (1981)': 3.0,\n",
              " 'Terminator 2: Judgment Day (1991)': 5.0,\n",
              " 'Strange Days (1995)': 3.0,\n",
              " 'Star Trek III: The Search for Spock (1984)': 4.0,\n",
              " \"Schindler's List (1993)\": 4.0,\n",
              " 'Sneakers (1992)': 4.0,\n",
              " 'Twelve Monkeys (1995)': 4.0,\n",
              " 'Switchblade Sisters (1975)': 2.0,\n",
              " 'Searching for Bobby Fischer (1993)': 4.0,\n",
              " 'Birdcage, The (1996)': 4.0,\n",
              " \"Singin' in the Rain (1952)\": 4.0,\n",
              " 'Shawshank Redemption, The (1994)': 5.0,\n",
              " 'Santa Clause, The (1994)': 4.0,\n",
              " 'Clear and Present Danger (1994)': 5.0,\n",
              " 'Dances with Wolves (1990)': 5.0,\n",
              " 'Deer Hunter, The (1978)': 3.0,\n",
              " 'Boot, Das (1981)': 4.0,\n",
              " 'Alien (1979)': 4.0,\n",
              " 'Speed 2: Cruise Control (1997)': 3.0,\n",
              " 'Maverick (1994)': 3.0,\n",
              " 'Jack (1996)': 3.0,\n",
              " 'Desperado (1995)': 3.0,\n",
              " 'Nutty Professor, The (1996)': 4.0,\n",
              " 'Batman (1989)': 3.0,\n",
              " 'Dave (1993)': 4.0,\n",
              " 'Crow, The (1994)': 3.0,\n",
              " 'Adventures of Robin Hood, The (1938)': 5.0,\n",
              " 'Blues Brothers, The (1980)': 5.0,\n",
              " 'Adventures of Priscilla, Queen of the Desert, The (1994)': 3.0,\n",
              " 'Raging Bull (1980)': 3.0,\n",
              " 'Batman & Robin (1997)': 4.0,\n",
              " 'Babe (1995)': 5.0,\n",
              " 'Raising Arizona (1987)': 3.0,\n",
              " 'Cliffhanger (1993)': 3.0,\n",
              " 'Top Gun (1986)': 5.0,\n",
              " 'Endless Summer 2, The (1994)': 3.0,\n",
              " 'Barcelona (1994)': 3.0,\n",
              " 'Twister (1996)': 4.0,\n",
              " 'Evil Dead II (1987)': 2.0,\n",
              " 'Sleepers (1996)': 4.0,\n",
              " 'Striptease (1996)': 2.0,\n",
              " 'Get Shorty (1995)': 5.0,\n",
              " 'So I Married an Axe Murderer (1993)': 2.0,\n",
              " 'Mission: Impossible (1996)': 4.0,\n",
              " 'Wizard of Oz, The (1939)': 5.0,\n",
              " 'Baby-Sitters Club, The (1995)': 2.0,\n",
              " 'When Harry Met Sally... (1989)': 5.0,\n",
              " 'Mother (1996)': 2.0,\n",
              " 'Star Trek IV: The Voyage Home (1986)': 5.0,\n",
              " 'Swimming with Sharks (1995)': 3.0,\n",
              " 'Net, The (1995)': 5.0,\n",
              " 'Private Benjamin (1980)': 4.0,\n",
              " 'Fargo (1996)': 5.0,\n",
              " 'Dumb & Dumber (1994)': 4.0,\n",
              " 'Stargate (1994)': 5.0,\n",
              " \"City Slickers II: The Legend of Curly's Gold (1994)\": 3.0,\n",
              " 'Hoop Dreams (1994)': 4.0,\n",
              " 'Young Guns (1988)': 3.0,\n",
              " 'Groundhog Day (1993)': 5.0,\n",
              " 'Bridge on the River Kwai, The (1957)': 5.0,\n",
              " 'Braveheart (1995)': 4.0,\n",
              " 'Vegas Vacation (1997)': 4.0,\n",
              " 'Michael (1996)': 4.0,\n",
              " 'Star Trek: The Wrath of Khan (1982)': 5.0,\n",
              " 'Muppet Treasure Island (1996)': 3.0,\n",
              " 'Nine Months (1995)': 4.0,\n",
              " 'Die Hard (1988)': 4.0,\n",
              " 'Bananas (1971)': 5.0,\n",
              " 'Forget Paris (1995)': 4.0,\n",
              " 'French Kiss (1995)': 5.0,\n",
              " 'Truth About Cats & Dogs, The (1996)': 4.0,\n",
              " 'Empire Strikes Back, The (1980)': 5.0,\n",
              " 'Dunston Checks In (1996)': 1.0,\n",
              " 'Star Trek: The Motion Picture (1979)': 3.0,\n",
              " 'Return of the Jedi (1983)': 5.0,\n",
              " 'Manchurian Candidate, The (1962)': 4.0,\n",
              " 'River Wild, The (1994)': 4.0,\n",
              " 'House Arrest (1996)': 3.0,\n",
              " 'Milk Money (1994)': 4.0,\n",
              " 'Godfather, The (1972)': 4.0,\n",
              " 'Low Down Dirty Shame, A (1994)': 3.0,\n",
              " 'Butch Cassidy and the Sundance Kid (1969)': 5.0,\n",
              " 'Wyatt Earp (1994)': 3.0,\n",
              " 'Star Wars (1977)': 5.0,\n",
              " 'To Kill a Mockingbird (1962)': 4.0,\n",
              " 'Magnificent Seven, The (1954)': 5.0,\n",
              " 'Back to the Future (1985)': 5.0,\n",
              " 'Hot Shots! Part Deux (1993)': 4.0,\n",
              " 'Great White Hype, The (1996)': 3.0,\n",
              " \"Dante's Peak (1997)\": 3.0,\n",
              " 'Matilda (1996)': 3.0,\n",
              " 'Junior (1994)': 4.0,\n",
              " 'Blade Runner (1982)': 4.0,\n",
              " 'Mars Attacks! (1996)': 3.0,\n",
              " 'My Favorite Year (1982)': 3.0,\n",
              " 'Broken Arrow (1996)': 3.0,\n",
              " 'Young Guns II (1990)': 2.0,\n",
              " 'Terminator, The (1984)': 5.0,\n",
              " 'Fish Called Wanda, A (1988)': 5.0,\n",
              " 'Down Periscope (1996)': 4.0,\n",
              " 'Hard Target (1993)': 4.0,\n",
              " 'Ed Wood (1994)': 3.0,\n",
              " 'Demolition Man (1993)': 3.0,\n",
              " 'Mask, The (1994)': 3.0,\n",
              " 'E.T. the Extra-Terrestrial (1982)': 3.0,\n",
              " 'Coneheads (1993)': 4.0,\n",
              " 'Man of the House (1995)': 3.0,\n",
              " 'That Thing You Do! (1996)': 4.0,\n",
              " 'Strictly Ballroom (1992)': 3.0,\n",
              " \"It's a Wonderful Life (1946)\": 5.0,\n",
              " 'Annie Hall (1977)': 4.0,\n",
              " 'Dragonheart (1996)': 4.0,\n",
              " 'Renaissance Man (1994)': 5.0,\n",
              " 'Kingpin (1996)': 4.0,\n",
              " 'In the Army Now (1994)': 4.0,\n",
              " 'Mighty Aphrodite (1995)': 3.0,\n",
              " \"Weekend at Bernie's (1989)\": 3.0,\n",
              " 'Clockwork Orange, A (1971)': 4.0,\n",
              " 'Heat (1995)': 3.0,\n",
              " 'Addicted to Love (1997)': 4.0,\n",
              " 'Program, The (1993)': 3.0,\n",
              " 'Grumpier Old Men (1995)': 4.0,\n",
              " 'Bad Boys (1995)': 4.0,\n",
              " 'American President, The (1995)': 5.0,\n",
              " 'Grease (1978)': 4.0,\n",
              " 'Full Metal Jacket (1987)': 4.0,\n",
              " 'Air Up There, The (1994)': 3.0,\n",
              " 'Home Alone (1990)': 4.0,\n",
              " 'Jimmy Hollywood (1994)': 3.0,\n",
              " 'I.Q. (1994)': 5.0,\n",
              " 'First Wives Club, The (1996)': 2.0,\n",
              " 'Boomerang (1992)': 3.0,\n",
              " 'Heathers (1989)': 3.0,\n",
              " 'While You Were Sleeping (1995)': 5.0,\n",
              " 'Star Trek: First Contact (1996)': 4.0,\n",
              " 'Independence Day (ID4) (1996)': 5.0,\n",
              " 'Lost World: Jurassic Park, The (1997)': 3.0,\n",
              " 'Raiders of the Lost Ark (1981)': 5.0,\n",
              " 'To Die For (1995)': 3.0,\n",
              " 'I Love Trouble (1994)': 3.0,\n",
              " 'Citizen Kane (1941)': 4.0,\n",
              " 'Sleeper (1973)': 4.0,\n",
              " 'Quiet Man, The (1952)': 5.0,\n",
              " 'Sting, The (1973)': 5.0,\n",
              " 'Up in Smoke (1978)': 3.0,\n",
              " 'Executive Decision (1996)': 3.0,\n",
              " 'Jeffrey (1995)': 3.0,\n",
              " 'Inkwell, The (1994)': 3.0,\n",
              " 'Serial Mom (1994)': 1.0,\n",
              " 'Pulp Fiction (1994)': 4.0,\n",
              " 'Supercop (1992)': 3.0,\n",
              " 'Major Payne (1994)': 3.0,\n",
              " 'Big Squeeze, The (1996)': 2.0,\n",
              " 'Days of Thunder (1990)': 5.0,\n",
              " 'Apocalypse Now (1979)': 4.0}"
            ]
          },
          "metadata": {},
          "execution_count": 37
        }
      ]
    },
    {
      "cell_type": "markdown",
      "source": [
        "Сравним полученные результаты с теми, которые сформировала рекомендательная система."
      ],
      "metadata": {
        "id": "0mlFiBBAwbKS"
      }
    },
    {
      "cell_type": "markdown",
      "metadata": {
        "id": "FJPAExlSxyq-"
      },
      "source": [
        "Валидация для моделей рекомендательных систем устроена достаточно сложно.\n",
        "Например, нам нужно забыть часть рейтингов фильмов для пользователя, а потом попытаться восстановить их с\n",
        "помощью нашей модели.\n",
        "\n",
        "В данном случае, мы можем оценить адекватность полученных рекомендаций, просмотрев списки фильмов. Однако, на текущем датасете, из-за размера выборки, такое сделать сложно.\n",
        "\n",
        "Приведем примеры интерпретации:\n",
        "* В случае использования расстояния, основанного на коррелции, модель рекомендует в первую очередь боевики\n",
        "* В случае использование похожестей фильмов мы видим как общепризнанные шедевры, так и боевики\n",
        "* В реальности пользователю нравятся фильмы, которые нравятся всем, приключенческие фильмы и боевики\n",
        "\n",
        "С такой точки зрения оба списка рекомендаций кажутся адекватным, а то, что они не пересекаются связано с тем,\n",
        "что есть много похожих друг на друга фильмов - и мы не можем рекомендовать сразу все такие фильмы пользователю.\n"
      ]
    },
    {
      "cell_type": "markdown",
      "metadata": {
        "id": "3m3xlZAmxyrA"
      },
      "source": [
        "Для рекомендательных систем есть специальные библиотеки, например, https://surprise.readthedocs.io/, однако их применение требует более глубокого знакомства с темой."
      ]
    }
  ]
}