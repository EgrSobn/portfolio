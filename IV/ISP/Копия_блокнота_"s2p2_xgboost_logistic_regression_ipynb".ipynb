{
  "nbformat": 4,
  "nbformat_minor": 0,
  "metadata": {
    "colab": {
      "provenance": []
    },
    "kernelspec": {
      "name": "python3",
      "display_name": "Python 3"
    },
    "language_info": {
      "name": "python"
    }
  },
  "cells": [
    {
      "cell_type": "code",
      "source": [
        "%%capture\n",
        "!wget https://www.dropbox.com/s/jaea4smqjbmslsb/training_data.csv\n",
        "!wget https://www.dropbox.com/s/y1i45d72k9byzak/test_data.csv"
      ],
      "metadata": {
        "id": "1V-kHUeisKs1"
      },
      "execution_count": null,
      "outputs": []
    },
    {
      "cell_type": "code",
      "source": [
        "import matplotlib.pyplot as plt # загружаем библиотеку и для простоты обращения в коде называем её сокращенно plt\n",
        "import numpy as np\n",
        "import pandas as pd"
      ],
      "metadata": {
        "id": "UCB47RxBBUN8"
      },
      "execution_count": null,
      "outputs": []
    },
    {
      "cell_type": "code",
      "source": [
        "training_data = pd.read_csv('training_data.csv')\n",
        "test_data = pd.read_csv('test_data.csv')\n",
        "\n",
        "training_data.info()"
      ],
      "metadata": {
        "id": "TDIw1Quqs4YS",
        "colab": {
          "base_uri": "https://localhost:8080/"
        },
        "outputId": "7b65aaed-0740-425e-bf68-7664da7aaf20"
      },
      "execution_count": null,
      "outputs": [
        {
          "output_type": "stream",
          "name": "stdout",
          "text": [
            "<class 'pandas.core.frame.DataFrame'>\n",
            "RangeIndex: 3308 entries, 0 to 3307\n",
            "Data columns (total 20 columns):\n",
            " #   Column                   Non-Null Count  Dtype  \n",
            "---  ------                   --------------  -----  \n",
            " 0   Age                      3308 non-null   int64  \n",
            " 1   BusinessTravel           3308 non-null   object \n",
            " 2   Department               3308 non-null   object \n",
            " 3   DistanceFromHome         3308 non-null   int64  \n",
            " 4   Education                3308 non-null   int64  \n",
            " 5   EducationField           3308 non-null   object \n",
            " 6   Gender                   3308 non-null   object \n",
            " 7   JobRole                  3308 non-null   object \n",
            " 8   MaritalStatus            3308 non-null   object \n",
            " 9   MonthlyIncome            3308 non-null   int64  \n",
            " 10  NumCompaniesWorked       3293 non-null   float64\n",
            " 11  PercentSalaryHike        3308 non-null   int64  \n",
            " 12  StandardHours            3308 non-null   int64  \n",
            " 13  StockOptionLevel         3308 non-null   int64  \n",
            " 14  TotalWorkingYears        3301 non-null   float64\n",
            " 15  TrainingTimesLastYear    3308 non-null   int64  \n",
            " 16  YearsAtCompany           3308 non-null   int64  \n",
            " 17  YearsSinceLastPromotion  3308 non-null   int64  \n",
            " 18  YearsWithCurrManager     3308 non-null   int64  \n",
            " 19  Attrition                3308 non-null   int64  \n",
            "dtypes: float64(2), int64(12), object(6)\n",
            "memory usage: 517.0+ KB\n"
          ]
        }
      ]
    },
    {
      "cell_type": "code",
      "source": [
        "training_data.dropna(axis=0, inplace=True)\n",
        "training_data.shape"
      ],
      "metadata": {
        "colab": {
          "base_uri": "https://localhost:8080/"
        },
        "id": "j__f4WpXFydT",
        "outputId": "1947853a-dcb9-4028-e8d9-14d4c0ea2bab"
      },
      "execution_count": null,
      "outputs": [
        {
          "output_type": "execute_result",
          "data": {
            "text/plain": [
              "(3286, 20)"
            ]
          },
          "metadata": {},
          "execution_count": 41
        }
      ]
    },
    {
      "cell_type": "code",
      "source": [
        "test_data.dropna(axis=0, inplace=True)\n",
        "test_data.shape"
      ],
      "metadata": {
        "colab": {
          "base_uri": "https://localhost:8080/"
        },
        "id": "ow_baoPnLWMY",
        "outputId": "c1a0c945-d26f-4a71-dbc7-5ab07a15f507"
      },
      "execution_count": null,
      "outputs": [
        {
          "output_type": "execute_result",
          "data": {
            "text/plain": [
              "(1096, 20)"
            ]
          },
          "metadata": {},
          "execution_count": 42
        }
      ]
    },
    {
      "cell_type": "code",
      "source": [
        "target_variable_name = 'Attrition'\n",
        "train_values = training_data[target_variable_name]\n",
        "\n",
        "test_values = test_data[target_variable_name]\n",
        "\n",
        "train_points, test_points = training_data.drop(target_variable_name, 1), test_data.drop(target_variable_name, 1)\n",
        "\n",
        "print(train_points.shape)\n",
        "print(test_points.shape)"
      ],
      "metadata": {
        "colab": {
          "base_uri": "https://localhost:8080/"
        },
        "id": "uBuE-eklARiI",
        "outputId": "30011dd6-5857-47dd-9e22-4c2c2970c871"
      },
      "execution_count": null,
      "outputs": [
        {
          "output_type": "stream",
          "name": "stdout",
          "text": [
            "(3286, 19)\n",
            "(1096, 19)\n"
          ]
        },
        {
          "output_type": "stream",
          "name": "stderr",
          "text": [
            "<ipython-input-43-39294cf81eb4>:6: FutureWarning: In a future version of pandas all arguments of DataFrame.drop except for the argument 'labels' will be keyword-only.\n",
            "  train_points, test_points = training_data.drop(target_variable_name, 1), test_data.drop(target_variable_name, 1)\n",
            "<ipython-input-43-39294cf81eb4>:6: FutureWarning: In a future version of pandas all arguments of DataFrame.drop except for the argument 'labels' will be keyword-only.\n",
            "  train_points, test_points = training_data.drop(target_variable_name, 1), test_data.drop(target_variable_name, 1)\n"
          ]
        }
      ]
    },
    {
      "cell_type": "code",
      "source": [
        "train_points.info()"
      ],
      "metadata": {
        "id": "zqlyP-p5FK6I",
        "colab": {
          "base_uri": "https://localhost:8080/"
        },
        "outputId": "f12871a1-a0e0-47a4-846e-9841c5022237"
      },
      "execution_count": null,
      "outputs": [
        {
          "output_type": "stream",
          "name": "stdout",
          "text": [
            "<class 'pandas.core.frame.DataFrame'>\n",
            "Int64Index: 3286 entries, 0 to 3307\n",
            "Data columns (total 19 columns):\n",
            " #   Column                   Non-Null Count  Dtype  \n",
            "---  ------                   --------------  -----  \n",
            " 0   Age                      3286 non-null   int64  \n",
            " 1   BusinessTravel           3286 non-null   object \n",
            " 2   Department               3286 non-null   object \n",
            " 3   DistanceFromHome         3286 non-null   int64  \n",
            " 4   Education                3286 non-null   int64  \n",
            " 5   EducationField           3286 non-null   object \n",
            " 6   Gender                   3286 non-null   object \n",
            " 7   JobRole                  3286 non-null   object \n",
            " 8   MaritalStatus            3286 non-null   object \n",
            " 9   MonthlyIncome            3286 non-null   int64  \n",
            " 10  NumCompaniesWorked       3286 non-null   float64\n",
            " 11  PercentSalaryHike        3286 non-null   int64  \n",
            " 12  StandardHours            3286 non-null   int64  \n",
            " 13  StockOptionLevel         3286 non-null   int64  \n",
            " 14  TotalWorkingYears        3286 non-null   float64\n",
            " 15  TrainingTimesLastYear    3286 non-null   int64  \n",
            " 16  YearsAtCompany           3286 non-null   int64  \n",
            " 17  YearsSinceLastPromotion  3286 non-null   int64  \n",
            " 18  YearsWithCurrManager     3286 non-null   int64  \n",
            "dtypes: float64(2), int64(11), object(6)\n",
            "memory usage: 513.4+ KB\n"
          ]
        }
      ]
    },
    {
      "cell_type": "code",
      "source": [
        "train_points['EducationField'].value_counts()"
      ],
      "metadata": {
        "colab": {
          "base_uri": "https://localhost:8080/"
        },
        "id": "ZSD5ERvPNRxs",
        "outputId": "014916a1-f4b4-4452-fd33-76ecfdbb1b7d"
      },
      "execution_count": null,
      "outputs": [
        {
          "output_type": "execute_result",
          "data": {
            "text/plain": [
              "Life Sciences       1349\n",
              "Medical             1051\n",
              "Marketing            357\n",
              "Technical Degree     293\n",
              "Other                178\n",
              "Human Resources       58\n",
              "Name: EducationField, dtype: int64"
            ]
          },
          "metadata": {},
          "execution_count": 45
        }
      ]
    },
    {
      "cell_type": "code",
      "source": [
        "text_features = ['BusinessTravel', 'Department', 'EducationField', 'Gender', 'JobRole', 'MaritalStatus']"
      ],
      "metadata": {
        "id": "e-H4tWKUNUBe"
      },
      "execution_count": null,
      "outputs": []
    },
    {
      "cell_type": "code",
      "source": [
        "train_dummies = pd.get_dummies(data=train_points, columns=text_features)\n",
        "train_points.drop(columns=text_features, axis=1, inplace=True)"
      ],
      "metadata": {
        "id": "iYj9s1UvNYez"
      },
      "execution_count": null,
      "outputs": []
    },
    {
      "cell_type": "code",
      "source": [
        "test_dummies = pd.get_dummies(data=test_points, columns=text_features) # кодируем признаки\n",
        "\n",
        "test_points.drop(columns=text_features, axis=1, inplace=True) # выкидываем признаки\n",
        "test_points.shape"
      ],
      "metadata": {
        "colab": {
          "base_uri": "https://localhost:8080/"
        },
        "id": "eR7woGnXNa8j",
        "outputId": "66102505-ec58-43dd-c3ea-75645c131208"
      },
      "execution_count": null,
      "outputs": [
        {
          "output_type": "execute_result",
          "data": {
            "text/plain": [
              "(1096, 13)"
            ]
          },
          "metadata": {},
          "execution_count": 48
        }
      ]
    },
    {
      "cell_type": "markdown",
      "source": [
        "## Классификация без использования нейронных сетей"
      ],
      "metadata": {
        "id": "ARIFEoBiEB-u"
      }
    },
    {
      "cell_type": "code",
      "source": [
        "from sklearn import linear_model\n",
        "import xgboost as xgb"
      ],
      "metadata": {
        "id": "Ibw1mrmEENIa"
      },
      "execution_count": null,
      "outputs": []
    },
    {
      "cell_type": "code",
      "source": [
        "logistic_regression_model = linear_model.LogisticRegression()\n",
        "\n",
        "xgboost = xgb.XGBClassifier(n_estimators = 100)"
      ],
      "metadata": {
        "id": "rktoZCOgF8wo"
      },
      "execution_count": null,
      "outputs": []
    },
    {
      "cell_type": "code",
      "source": [
        "logistic_regression_model.fit(train_points, train_values)"
      ],
      "metadata": {
        "id": "k2QvvRcwGodf",
        "colab": {
          "base_uri": "https://localhost:8080/",
          "height": 74
        },
        "outputId": "57e924f5-d330-4a13-b67d-f322f854a012"
      },
      "execution_count": null,
      "outputs": [
        {
          "output_type": "execute_result",
          "data": {
            "text/plain": [
              "LogisticRegression()"
            ],
            "text/html": [
              "<style>#sk-container-id-3 {color: black;background-color: white;}#sk-container-id-3 pre{padding: 0;}#sk-container-id-3 div.sk-toggleable {background-color: white;}#sk-container-id-3 label.sk-toggleable__label {cursor: pointer;display: block;width: 100%;margin-bottom: 0;padding: 0.3em;box-sizing: border-box;text-align: center;}#sk-container-id-3 label.sk-toggleable__label-arrow:before {content: \"▸\";float: left;margin-right: 0.25em;color: #696969;}#sk-container-id-3 label.sk-toggleable__label-arrow:hover:before {color: black;}#sk-container-id-3 div.sk-estimator:hover label.sk-toggleable__label-arrow:before {color: black;}#sk-container-id-3 div.sk-toggleable__content {max-height: 0;max-width: 0;overflow: hidden;text-align: left;background-color: #f0f8ff;}#sk-container-id-3 div.sk-toggleable__content pre {margin: 0.2em;color: black;border-radius: 0.25em;background-color: #f0f8ff;}#sk-container-id-3 input.sk-toggleable__control:checked~div.sk-toggleable__content {max-height: 200px;max-width: 100%;overflow: auto;}#sk-container-id-3 input.sk-toggleable__control:checked~label.sk-toggleable__label-arrow:before {content: \"▾\";}#sk-container-id-3 div.sk-estimator input.sk-toggleable__control:checked~label.sk-toggleable__label {background-color: #d4ebff;}#sk-container-id-3 div.sk-label input.sk-toggleable__control:checked~label.sk-toggleable__label {background-color: #d4ebff;}#sk-container-id-3 input.sk-hidden--visually {border: 0;clip: rect(1px 1px 1px 1px);clip: rect(1px, 1px, 1px, 1px);height: 1px;margin: -1px;overflow: hidden;padding: 0;position: absolute;width: 1px;}#sk-container-id-3 div.sk-estimator {font-family: monospace;background-color: #f0f8ff;border: 1px dotted black;border-radius: 0.25em;box-sizing: border-box;margin-bottom: 0.5em;}#sk-container-id-3 div.sk-estimator:hover {background-color: #d4ebff;}#sk-container-id-3 div.sk-parallel-item::after {content: \"\";width: 100%;border-bottom: 1px solid gray;flex-grow: 1;}#sk-container-id-3 div.sk-label:hover label.sk-toggleable__label {background-color: #d4ebff;}#sk-container-id-3 div.sk-serial::before {content: \"\";position: absolute;border-left: 1px solid gray;box-sizing: border-box;top: 0;bottom: 0;left: 50%;z-index: 0;}#sk-container-id-3 div.sk-serial {display: flex;flex-direction: column;align-items: center;background-color: white;padding-right: 0.2em;padding-left: 0.2em;position: relative;}#sk-container-id-3 div.sk-item {position: relative;z-index: 1;}#sk-container-id-3 div.sk-parallel {display: flex;align-items: stretch;justify-content: center;background-color: white;position: relative;}#sk-container-id-3 div.sk-item::before, #sk-container-id-3 div.sk-parallel-item::before {content: \"\";position: absolute;border-left: 1px solid gray;box-sizing: border-box;top: 0;bottom: 0;left: 50%;z-index: -1;}#sk-container-id-3 div.sk-parallel-item {display: flex;flex-direction: column;z-index: 1;position: relative;background-color: white;}#sk-container-id-3 div.sk-parallel-item:first-child::after {align-self: flex-end;width: 50%;}#sk-container-id-3 div.sk-parallel-item:last-child::after {align-self: flex-start;width: 50%;}#sk-container-id-3 div.sk-parallel-item:only-child::after {width: 0;}#sk-container-id-3 div.sk-dashed-wrapped {border: 1px dashed gray;margin: 0 0.4em 0.5em 0.4em;box-sizing: border-box;padding-bottom: 0.4em;background-color: white;}#sk-container-id-3 div.sk-label label {font-family: monospace;font-weight: bold;display: inline-block;line-height: 1.2em;}#sk-container-id-3 div.sk-label-container {text-align: center;}#sk-container-id-3 div.sk-container {/* jupyter's `normalize.less` sets `[hidden] { display: none; }` but bootstrap.min.css set `[hidden] { display: none !important; }` so we also need the `!important` here to be able to override the default hidden behavior on the sphinx rendered scikit-learn.org. See: https://github.com/scikit-learn/scikit-learn/issues/21755 */display: inline-block !important;position: relative;}#sk-container-id-3 div.sk-text-repr-fallback {display: none;}</style><div id=\"sk-container-id-3\" class=\"sk-top-container\"><div class=\"sk-text-repr-fallback\"><pre>LogisticRegression()</pre><b>In a Jupyter environment, please rerun this cell to show the HTML representation or trust the notebook. <br />On GitHub, the HTML representation is unable to render, please try loading this page with nbviewer.org.</b></div><div class=\"sk-container\" hidden><div class=\"sk-item\"><div class=\"sk-estimator sk-toggleable\"><input class=\"sk-toggleable__control sk-hidden--visually\" id=\"sk-estimator-id-3\" type=\"checkbox\" checked><label for=\"sk-estimator-id-3\" class=\"sk-toggleable__label sk-toggleable__label-arrow\">LogisticRegression</label><div class=\"sk-toggleable__content\"><pre>LogisticRegression()</pre></div></div></div></div></div>"
            ]
          },
          "metadata": {},
          "execution_count": 51
        }
      ]
    },
    {
      "cell_type": "code",
      "source": [
        "xgboost.fit(train_points, train_values)"
      ],
      "metadata": {
        "id": "aV8SJgsGIay0",
        "colab": {
          "base_uri": "https://localhost:8080/",
          "height": 248
        },
        "outputId": "08d2d40e-30f5-4b4d-b683-29ccb7323d45"
      },
      "execution_count": null,
      "outputs": [
        {
          "output_type": "execute_result",
          "data": {
            "text/plain": [
              "XGBClassifier(base_score=None, booster=None, callbacks=None,\n",
              "              colsample_bylevel=None, colsample_bynode=None,\n",
              "              colsample_bytree=None, device=None, early_stopping_rounds=None,\n",
              "              enable_categorical=False, eval_metric=None, feature_types=None,\n",
              "              gamma=None, grow_policy=None, importance_type=None,\n",
              "              interaction_constraints=None, learning_rate=None, max_bin=None,\n",
              "              max_cat_threshold=None, max_cat_to_onehot=None,\n",
              "              max_delta_step=None, max_depth=None, max_leaves=None,\n",
              "              min_child_weight=None, missing=nan, monotone_constraints=None,\n",
              "              multi_strategy=None, n_estimators=100, n_jobs=None,\n",
              "              num_parallel_tree=None, random_state=None, ...)"
            ],
            "text/html": [
              "<style>#sk-container-id-4 {color: black;background-color: white;}#sk-container-id-4 pre{padding: 0;}#sk-container-id-4 div.sk-toggleable {background-color: white;}#sk-container-id-4 label.sk-toggleable__label {cursor: pointer;display: block;width: 100%;margin-bottom: 0;padding: 0.3em;box-sizing: border-box;text-align: center;}#sk-container-id-4 label.sk-toggleable__label-arrow:before {content: \"▸\";float: left;margin-right: 0.25em;color: #696969;}#sk-container-id-4 label.sk-toggleable__label-arrow:hover:before {color: black;}#sk-container-id-4 div.sk-estimator:hover label.sk-toggleable__label-arrow:before {color: black;}#sk-container-id-4 div.sk-toggleable__content {max-height: 0;max-width: 0;overflow: hidden;text-align: left;background-color: #f0f8ff;}#sk-container-id-4 div.sk-toggleable__content pre {margin: 0.2em;color: black;border-radius: 0.25em;background-color: #f0f8ff;}#sk-container-id-4 input.sk-toggleable__control:checked~div.sk-toggleable__content {max-height: 200px;max-width: 100%;overflow: auto;}#sk-container-id-4 input.sk-toggleable__control:checked~label.sk-toggleable__label-arrow:before {content: \"▾\";}#sk-container-id-4 div.sk-estimator input.sk-toggleable__control:checked~label.sk-toggleable__label {background-color: #d4ebff;}#sk-container-id-4 div.sk-label input.sk-toggleable__control:checked~label.sk-toggleable__label {background-color: #d4ebff;}#sk-container-id-4 input.sk-hidden--visually {border: 0;clip: rect(1px 1px 1px 1px);clip: rect(1px, 1px, 1px, 1px);height: 1px;margin: -1px;overflow: hidden;padding: 0;position: absolute;width: 1px;}#sk-container-id-4 div.sk-estimator {font-family: monospace;background-color: #f0f8ff;border: 1px dotted black;border-radius: 0.25em;box-sizing: border-box;margin-bottom: 0.5em;}#sk-container-id-4 div.sk-estimator:hover {background-color: #d4ebff;}#sk-container-id-4 div.sk-parallel-item::after {content: \"\";width: 100%;border-bottom: 1px solid gray;flex-grow: 1;}#sk-container-id-4 div.sk-label:hover label.sk-toggleable__label {background-color: #d4ebff;}#sk-container-id-4 div.sk-serial::before {content: \"\";position: absolute;border-left: 1px solid gray;box-sizing: border-box;top: 0;bottom: 0;left: 50%;z-index: 0;}#sk-container-id-4 div.sk-serial {display: flex;flex-direction: column;align-items: center;background-color: white;padding-right: 0.2em;padding-left: 0.2em;position: relative;}#sk-container-id-4 div.sk-item {position: relative;z-index: 1;}#sk-container-id-4 div.sk-parallel {display: flex;align-items: stretch;justify-content: center;background-color: white;position: relative;}#sk-container-id-4 div.sk-item::before, #sk-container-id-4 div.sk-parallel-item::before {content: \"\";position: absolute;border-left: 1px solid gray;box-sizing: border-box;top: 0;bottom: 0;left: 50%;z-index: -1;}#sk-container-id-4 div.sk-parallel-item {display: flex;flex-direction: column;z-index: 1;position: relative;background-color: white;}#sk-container-id-4 div.sk-parallel-item:first-child::after {align-self: flex-end;width: 50%;}#sk-container-id-4 div.sk-parallel-item:last-child::after {align-self: flex-start;width: 50%;}#sk-container-id-4 div.sk-parallel-item:only-child::after {width: 0;}#sk-container-id-4 div.sk-dashed-wrapped {border: 1px dashed gray;margin: 0 0.4em 0.5em 0.4em;box-sizing: border-box;padding-bottom: 0.4em;background-color: white;}#sk-container-id-4 div.sk-label label {font-family: monospace;font-weight: bold;display: inline-block;line-height: 1.2em;}#sk-container-id-4 div.sk-label-container {text-align: center;}#sk-container-id-4 div.sk-container {/* jupyter's `normalize.less` sets `[hidden] { display: none; }` but bootstrap.min.css set `[hidden] { display: none !important; }` so we also need the `!important` here to be able to override the default hidden behavior on the sphinx rendered scikit-learn.org. See: https://github.com/scikit-learn/scikit-learn/issues/21755 */display: inline-block !important;position: relative;}#sk-container-id-4 div.sk-text-repr-fallback {display: none;}</style><div id=\"sk-container-id-4\" class=\"sk-top-container\"><div class=\"sk-text-repr-fallback\"><pre>XGBClassifier(base_score=None, booster=None, callbacks=None,\n",
              "              colsample_bylevel=None, colsample_bynode=None,\n",
              "              colsample_bytree=None, device=None, early_stopping_rounds=None,\n",
              "              enable_categorical=False, eval_metric=None, feature_types=None,\n",
              "              gamma=None, grow_policy=None, importance_type=None,\n",
              "              interaction_constraints=None, learning_rate=None, max_bin=None,\n",
              "              max_cat_threshold=None, max_cat_to_onehot=None,\n",
              "              max_delta_step=None, max_depth=None, max_leaves=None,\n",
              "              min_child_weight=None, missing=nan, monotone_constraints=None,\n",
              "              multi_strategy=None, n_estimators=100, n_jobs=None,\n",
              "              num_parallel_tree=None, random_state=None, ...)</pre><b>In a Jupyter environment, please rerun this cell to show the HTML representation or trust the notebook. <br />On GitHub, the HTML representation is unable to render, please try loading this page with nbviewer.org.</b></div><div class=\"sk-container\" hidden><div class=\"sk-item\"><div class=\"sk-estimator sk-toggleable\"><input class=\"sk-toggleable__control sk-hidden--visually\" id=\"sk-estimator-id-4\" type=\"checkbox\" checked><label for=\"sk-estimator-id-4\" class=\"sk-toggleable__label sk-toggleable__label-arrow\">XGBClassifier</label><div class=\"sk-toggleable__content\"><pre>XGBClassifier(base_score=None, booster=None, callbacks=None,\n",
              "              colsample_bylevel=None, colsample_bynode=None,\n",
              "              colsample_bytree=None, device=None, early_stopping_rounds=None,\n",
              "              enable_categorical=False, eval_metric=None, feature_types=None,\n",
              "              gamma=None, grow_policy=None, importance_type=None,\n",
              "              interaction_constraints=None, learning_rate=None, max_bin=None,\n",
              "              max_cat_threshold=None, max_cat_to_onehot=None,\n",
              "              max_delta_step=None, max_depth=None, max_leaves=None,\n",
              "              min_child_weight=None, missing=nan, monotone_constraints=None,\n",
              "              multi_strategy=None, n_estimators=100, n_jobs=None,\n",
              "              num_parallel_tree=None, random_state=None, ...)</pre></div></div></div></div></div>"
            ]
          },
          "metadata": {},
          "execution_count": 52
        }
      ]
    },
    {
      "cell_type": "code",
      "source": [
        "test_predictions_logistic_regression = logistic_regression_model.predict(test_points)\n",
        "\n",
        "\n",
        "print(test_predictions_logistic_regression)"
      ],
      "metadata": {
        "id": "tPUBFl7NIitD",
        "colab": {
          "base_uri": "https://localhost:8080/"
        },
        "outputId": "4a1157e3-1aac-4111-8b2d-c23861514c82"
      },
      "execution_count": null,
      "outputs": [
        {
          "output_type": "stream",
          "name": "stdout",
          "text": [
            "[0 0 0 ... 0 0 0]\n"
          ]
        }
      ]
    },
    {
      "cell_type": "code",
      "source": [
        "xgboost.predict(test_points) # TODO. Аналогично предыдущей ячейке\n",
        "# вычислить и сохранить в переменной значения предсказанных классов"
      ],
      "metadata": {
        "id": "FILNb8OoItRH",
        "colab": {
          "base_uri": "https://localhost:8080/"
        },
        "outputId": "727f0798-c0fb-4a27-8494-633fb5b9cfc5"
      },
      "execution_count": null,
      "outputs": [
        {
          "output_type": "execute_result",
          "data": {
            "text/plain": [
              "array([0, 0, 0, ..., 0, 0, 0])"
            ]
          },
          "metadata": {},
          "execution_count": 54
        }
      ]
    },
    {
      "cell_type": "markdown",
      "source": [
        "А что если не выбрасывать текстовые признаки (признаки, в которых заданы текстовые значения)?\n",
        "\n"
      ],
      "metadata": {
        "id": "ThzTuNRVKFoO"
      }
    },
    {
      "cell_type": "code",
      "source": [
        "logistic_regression_model_1 = linear_model.LogisticRegression()\n",
        "logistic_regression_model_1.fit(train_dummies, train_values)\n",
        "test_predictions_logistic_regression_1 = logistic_regression_model_1.predict(test_dummies)"
      ],
      "metadata": {
        "id": "R2yikBacKjpu"
      },
      "execution_count": null,
      "outputs": []
    },
    {
      "cell_type": "code",
      "source": [
        "from sklearn.metrics import accuracy_score, roc_auc_score\n",
        "\n",
        "test_probabilities = logistic_regression_model.predict_proba(test_points)\n",
        "\n",
        "logistic_regression_roc_auc_score = roc_auc_score(test_values, test_probabilities[:, 1])\n",
        "\n",
        "print(\"Accuracy \" + str(accuracy_score(test_values, test_predictions_logistic_regression )))\n",
        "print(\"Accuracy \" + str(accuracy_score(test_values, test_predictions_logistic_regression_1 )))\n",
        "\n",
        "# print(\" ROC-AUC Score \" + accuracy_score(test_values, <вставить переменную для модели xgboost>))"
      ],
      "metadata": {
        "id": "4tH44zG6I104",
        "colab": {
          "base_uri": "https://localhost:8080/"
        },
        "outputId": "989f357d-6993-4963-d983-57750fef4193"
      },
      "execution_count": null,
      "outputs": [
        {
          "output_type": "stream",
          "name": "stdout",
          "text": [
            "Accuracy 0.8357664233576643\n",
            "Accuracy 0.8357664233576643\n"
          ]
        }
      ]
    },
    {
      "cell_type": "markdown",
      "source": [
        "### Использование вместо dummies-кодирования LabelEncoder()"
      ],
      "metadata": {
        "id": "naRMMSEZQqwF"
      }
    },
    {
      "cell_type": "code",
      "source": [
        "training_data = pd.read_csv('training_data.csv')\n",
        "test_data = pd.read_csv('test_data.csv')\n",
        "\n",
        "print(test_data.shape)\n",
        "training_data.dropna(axis=0, inplace=True)\n",
        "test_data.dropna(axis=0, inplace=True)"
      ],
      "metadata": {
        "id": "NJN-MHbuM-Ps",
        "colab": {
          "base_uri": "https://localhost:8080/"
        },
        "outputId": "5b3f0f90-d7d4-4687-982e-f92de0f2020c"
      },
      "execution_count": null,
      "outputs": [
        {
          "output_type": "stream",
          "name": "stdout",
          "text": [
            "(1102, 20)\n"
          ]
        }
      ]
    },
    {
      "cell_type": "code",
      "source": [
        "# Выделяем в отдельный столбец целевой атрибут\n",
        "target_variable_name = 'Attrition'\n",
        "train_values = training_data[target_variable_name]\n",
        "test_values = test_data[target_variable_name]"
      ],
      "metadata": {
        "id": "nP0LHHcBNmWG"
      },
      "execution_count": null,
      "outputs": []
    },
    {
      "cell_type": "code",
      "source": [
        "# Удаляем целевой атрибут из исходных наборов данных\n",
        "\n",
        "train_points, test_points = training_data.drop(target_variable_name, 1), test_data.drop(target_variable_name, 1)\n",
        "\n",
        "print(train_points.shape, test_points.shape)\n",
        "\n",
        "\n"
      ],
      "metadata": {
        "id": "dofcAA2dNmWH",
        "colab": {
          "base_uri": "https://localhost:8080/"
        },
        "outputId": "2ccb3a46-9ab7-4173-c0e4-3010cb3ee29c"
      },
      "execution_count": null,
      "outputs": [
        {
          "output_type": "stream",
          "name": "stdout",
          "text": [
            "(3286, 19) (1096, 19)\n"
          ]
        },
        {
          "output_type": "stream",
          "name": "stderr",
          "text": [
            "<ipython-input-59-14c625c4117e>:3: FutureWarning: In a future version of pandas all arguments of DataFrame.drop except for the argument 'labels' will be keyword-only.\n",
            "  train_points, test_points = training_data.drop(target_variable_name, 1), test_data.drop(target_variable_name, 1)\n",
            "<ipython-input-59-14c625c4117e>:3: FutureWarning: In a future version of pandas all arguments of DataFrame.drop except for the argument 'labels' will be keyword-only.\n",
            "  train_points, test_points = training_data.drop(target_variable_name, 1), test_data.drop(target_variable_name, 1)\n"
          ]
        }
      ]
    },
    {
      "cell_type": "code",
      "source": [
        "from sklearn.preprocessing import LabelEncoder\n",
        "\n",
        "label_encoder = LabelEncoder()\n",
        "\n",
        "for column in text_features:\n",
        "  train_points[column] = label_encoder.fit_transform(train_points[column]) + 1\n",
        "  test_points[column] = label_encoder.transform(test_points[column]) + 1"
      ],
      "metadata": {
        "id": "2bwDTiqRMQVS"
      },
      "execution_count": null,
      "outputs": []
    },
    {
      "cell_type": "code",
      "source": [
        "train_points.info()"
      ],
      "metadata": {
        "id": "LIk71ghSO7cG",
        "colab": {
          "base_uri": "https://localhost:8080/"
        },
        "outputId": "a2c74568-1931-46a7-a502-606351d89305"
      },
      "execution_count": null,
      "outputs": [
        {
          "output_type": "stream",
          "name": "stdout",
          "text": [
            "<class 'pandas.core.frame.DataFrame'>\n",
            "Int64Index: 3286 entries, 0 to 3307\n",
            "Data columns (total 19 columns):\n",
            " #   Column                   Non-Null Count  Dtype  \n",
            "---  ------                   --------------  -----  \n",
            " 0   Age                      3286 non-null   int64  \n",
            " 1   BusinessTravel           3286 non-null   int64  \n",
            " 2   Department               3286 non-null   int64  \n",
            " 3   DistanceFromHome         3286 non-null   int64  \n",
            " 4   Education                3286 non-null   int64  \n",
            " 5   EducationField           3286 non-null   int64  \n",
            " 6   Gender                   3286 non-null   int64  \n",
            " 7   JobRole                  3286 non-null   int64  \n",
            " 8   MaritalStatus            3286 non-null   int64  \n",
            " 9   MonthlyIncome            3286 non-null   int64  \n",
            " 10  NumCompaniesWorked       3286 non-null   float64\n",
            " 11  PercentSalaryHike        3286 non-null   int64  \n",
            " 12  StandardHours            3286 non-null   int64  \n",
            " 13  StockOptionLevel         3286 non-null   int64  \n",
            " 14  TotalWorkingYears        3286 non-null   float64\n",
            " 15  TrainingTimesLastYear    3286 non-null   int64  \n",
            " 16  YearsAtCompany           3286 non-null   int64  \n",
            " 17  YearsSinceLastPromotion  3286 non-null   int64  \n",
            " 18  YearsWithCurrManager     3286 non-null   int64  \n",
            "dtypes: float64(2), int64(17)\n",
            "memory usage: 513.4 KB\n"
          ]
        }
      ]
    },
    {
      "cell_type": "code",
      "source": [
        "logistic_regression_model_2 = linear_model.LogisticRegression()\n",
        "logistic_regression_model_2.fit(train_points, train_values)\n",
        "test_predictions_logistic_regression_2 = logistic_regression_model_2.predict(test_points)"
      ],
      "metadata": {
        "id": "PFW2AFgZPtDz"
      },
      "execution_count": null,
      "outputs": []
    },
    {
      "cell_type": "code",
      "source": [
        "# аналогично учим модель XGBoost"
      ],
      "metadata": {
        "id": "rvuR1NDDgm__"
      },
      "execution_count": null,
      "outputs": []
    },
    {
      "cell_type": "code",
      "source": [
        "from sklearn.metrics import accuracy_score, roc_auc_score\n",
        "\n",
        "print('Accuracy score')\n",
        "print(accuracy_score(test_values, test_predictions_logistic_regression )) # без кодирования вообще\n",
        "print(accuracy_score(test_values, test_predictions_logistic_regression_2 )) # LabelEncoder\n",
        "\n",
        "print('roc_auc_score')\n",
        "test_probabilities_2 = logistic_regression_model_2.predict_proba(test_points)\n",
        "\n",
        "logistic_regression_2_roc_auc_score = roc_auc_score(test_values, test_probabilities[:,1])\n",
        "print(f'{logistic_regression_roc_auc_score}\\n{logistic_regression_2_roc_auc_score}')\n",
        "\n",
        "# print(accuracy_score(test_values, <вставить переменную для модели xgboost>))"
      ],
      "metadata": {
        "id": "bGBZfJUYPtD0",
        "colab": {
          "base_uri": "https://localhost:8080/"
        },
        "outputId": "28133072-bd33-42e8-e660-ed121a2a4884"
      },
      "execution_count": null,
      "outputs": [
        {
          "output_type": "stream",
          "name": "stdout",
          "text": [
            "Accuracy score\n",
            "0.8357664233576643\n",
            "0.8357664233576643\n",
            "roc_auc_score\n",
            "0.6519529354682193\n",
            "0.6519529354682193\n"
          ]
        }
      ]
    },
    {
      "cell_type": "markdown",
      "source": [
        "### Сделать предположение почему точность не меняется при использовании различного типа кодирования для одной и той же модели решения?"
      ],
      "metadata": {
        "id": "JIGEkFDjhLdR"
      }
    },
    {
      "cell_type": "markdown",
      "source": [
        "В отличае от прошлого решения он во всяком случае выдает хоть какой-то стабильный результат. Хоть строго говоря этот результат и не впечатляющий\n"
      ],
      "metadata": {
        "id": "NXqZouMHRSVu"
      }
    }
  ]
}