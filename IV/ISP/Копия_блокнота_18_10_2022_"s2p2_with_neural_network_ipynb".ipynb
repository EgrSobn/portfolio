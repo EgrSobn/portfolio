{
  "nbformat": 4,
  "nbformat_minor": 0,
  "metadata": {
    "colab": {
      "provenance": []
    },
    "kernelspec": {
      "name": "python3",
      "display_name": "Python 3"
    },
    "language_info": {
      "name": "python"
    }
  },
  "cells": [
    {
      "cell_type": "markdown",
      "source": [
        "# Предсказание оттока сотрудников (с помощью нейронной сети)\n",
        "\n",
        "Источник данных: https://www.kaggle.com/datasets/patelprashant/employee-attrition"
      ],
      "metadata": {
        "id": "JPk16glH-iG8"
      }
    },
    {
      "cell_type": "markdown",
      "source": [
        "## Автор: __Жуков Николай__  #TODO"
      ],
      "metadata": {
        "id": "o63GP9_f-WI0"
      }
    },
    {
      "cell_type": "markdown",
      "source": [
        "### Процесс анализа данных (план работы):\n",
        "1. Загрузим данные для обучения и тестирования\n",
        "2. Предобработаем данные\n",
        "3. Создадим модель для обучения\n",
        "4. Обучим модель\n",
        "5. Протестируем модель\n",
        "6. Попробуем улучшить модель"
      ],
      "metadata": {
        "id": "kDYm5kA4Fh_b"
      }
    },
    {
      "cell_type": "code",
      "source": [
        "!pip install tensorflow\n",
        "!pip install keras\n",
        "!pip install keras.utils"
      ],
      "metadata": {
        "colab": {
          "base_uri": "https://localhost:8080/"
        },
        "id": "j0KsotuKt2kp",
        "outputId": "4b9e7f1f-c3a9-49df-ff7b-b9fb9ed87097"
      },
      "execution_count": null,
      "outputs": [
        {
          "output_type": "stream",
          "name": "stdout",
          "text": [
            "Requirement already satisfied: tensorflow in /usr/local/lib/python3.10/dist-packages (2.13.0)\n",
            "Requirement already satisfied: absl-py>=1.0.0 in /usr/local/lib/python3.10/dist-packages (from tensorflow) (1.4.0)\n",
            "Requirement already satisfied: astunparse>=1.6.0 in /usr/local/lib/python3.10/dist-packages (from tensorflow) (1.6.3)\n",
            "Requirement already satisfied: flatbuffers>=23.1.21 in /usr/local/lib/python3.10/dist-packages (from tensorflow) (23.5.26)\n",
            "Requirement already satisfied: gast<=0.4.0,>=0.2.1 in /usr/local/lib/python3.10/dist-packages (from tensorflow) (0.4.0)\n",
            "Requirement already satisfied: google-pasta>=0.1.1 in /usr/local/lib/python3.10/dist-packages (from tensorflow) (0.2.0)\n",
            "Requirement already satisfied: grpcio<2.0,>=1.24.3 in /usr/local/lib/python3.10/dist-packages (from tensorflow) (1.59.0)\n",
            "Requirement already satisfied: h5py>=2.9.0 in /usr/local/lib/python3.10/dist-packages (from tensorflow) (3.9.0)\n",
            "Requirement already satisfied: keras<2.14,>=2.13.1 in /usr/local/lib/python3.10/dist-packages (from tensorflow) (2.13.1)\n",
            "Requirement already satisfied: libclang>=13.0.0 in /usr/local/lib/python3.10/dist-packages (from tensorflow) (16.0.6)\n",
            "Requirement already satisfied: numpy<=1.24.3,>=1.22 in /usr/local/lib/python3.10/dist-packages (from tensorflow) (1.23.5)\n",
            "Requirement already satisfied: opt-einsum>=2.3.2 in /usr/local/lib/python3.10/dist-packages (from tensorflow) (3.3.0)\n",
            "Requirement already satisfied: packaging in /usr/local/lib/python3.10/dist-packages (from tensorflow) (23.2)\n",
            "Requirement already satisfied: protobuf!=4.21.0,!=4.21.1,!=4.21.2,!=4.21.3,!=4.21.4,!=4.21.5,<5.0.0dev,>=3.20.3 in /usr/local/lib/python3.10/dist-packages (from tensorflow) (3.20.3)\n",
            "Requirement already satisfied: setuptools in /usr/local/lib/python3.10/dist-packages (from tensorflow) (67.7.2)\n",
            "Requirement already satisfied: six>=1.12.0 in /usr/local/lib/python3.10/dist-packages (from tensorflow) (1.16.0)\n",
            "Requirement already satisfied: tensorboard<2.14,>=2.13 in /usr/local/lib/python3.10/dist-packages (from tensorflow) (2.13.0)\n",
            "Requirement already satisfied: tensorflow-estimator<2.14,>=2.13.0 in /usr/local/lib/python3.10/dist-packages (from tensorflow) (2.13.0)\n",
            "Requirement already satisfied: termcolor>=1.1.0 in /usr/local/lib/python3.10/dist-packages (from tensorflow) (2.3.0)\n",
            "Requirement already satisfied: typing-extensions<4.6.0,>=3.6.6 in /usr/local/lib/python3.10/dist-packages (from tensorflow) (4.5.0)\n",
            "Requirement already satisfied: wrapt>=1.11.0 in /usr/local/lib/python3.10/dist-packages (from tensorflow) (1.15.0)\n",
            "Requirement already satisfied: tensorflow-io-gcs-filesystem>=0.23.1 in /usr/local/lib/python3.10/dist-packages (from tensorflow) (0.34.0)\n",
            "Requirement already satisfied: wheel<1.0,>=0.23.0 in /usr/local/lib/python3.10/dist-packages (from astunparse>=1.6.0->tensorflow) (0.41.2)\n",
            "Requirement already satisfied: google-auth<3,>=1.6.3 in /usr/local/lib/python3.10/dist-packages (from tensorboard<2.14,>=2.13->tensorflow) (2.17.3)\n",
            "Requirement already satisfied: google-auth-oauthlib<1.1,>=0.5 in /usr/local/lib/python3.10/dist-packages (from tensorboard<2.14,>=2.13->tensorflow) (1.0.0)\n",
            "Requirement already satisfied: markdown>=2.6.8 in /usr/local/lib/python3.10/dist-packages (from tensorboard<2.14,>=2.13->tensorflow) (3.5)\n",
            "Requirement already satisfied: requests<3,>=2.21.0 in /usr/local/lib/python3.10/dist-packages (from tensorboard<2.14,>=2.13->tensorflow) (2.31.0)\n",
            "Requirement already satisfied: tensorboard-data-server<0.8.0,>=0.7.0 in /usr/local/lib/python3.10/dist-packages (from tensorboard<2.14,>=2.13->tensorflow) (0.7.1)\n",
            "Requirement already satisfied: werkzeug>=1.0.1 in /usr/local/lib/python3.10/dist-packages (from tensorboard<2.14,>=2.13->tensorflow) (3.0.0)\n",
            "Requirement already satisfied: cachetools<6.0,>=2.0.0 in /usr/local/lib/python3.10/dist-packages (from google-auth<3,>=1.6.3->tensorboard<2.14,>=2.13->tensorflow) (5.3.1)\n",
            "Requirement already satisfied: pyasn1-modules>=0.2.1 in /usr/local/lib/python3.10/dist-packages (from google-auth<3,>=1.6.3->tensorboard<2.14,>=2.13->tensorflow) (0.3.0)\n",
            "Requirement already satisfied: rsa<5,>=3.1.4 in /usr/local/lib/python3.10/dist-packages (from google-auth<3,>=1.6.3->tensorboard<2.14,>=2.13->tensorflow) (4.9)\n",
            "Requirement already satisfied: requests-oauthlib>=0.7.0 in /usr/local/lib/python3.10/dist-packages (from google-auth-oauthlib<1.1,>=0.5->tensorboard<2.14,>=2.13->tensorflow) (1.3.1)\n",
            "Requirement already satisfied: charset-normalizer<4,>=2 in /usr/local/lib/python3.10/dist-packages (from requests<3,>=2.21.0->tensorboard<2.14,>=2.13->tensorflow) (3.3.0)\n",
            "Requirement already satisfied: idna<4,>=2.5 in /usr/local/lib/python3.10/dist-packages (from requests<3,>=2.21.0->tensorboard<2.14,>=2.13->tensorflow) (3.4)\n",
            "Requirement already satisfied: urllib3<3,>=1.21.1 in /usr/local/lib/python3.10/dist-packages (from requests<3,>=2.21.0->tensorboard<2.14,>=2.13->tensorflow) (2.0.6)\n",
            "Requirement already satisfied: certifi>=2017.4.17 in /usr/local/lib/python3.10/dist-packages (from requests<3,>=2.21.0->tensorboard<2.14,>=2.13->tensorflow) (2023.7.22)\n",
            "Requirement already satisfied: MarkupSafe>=2.1.1 in /usr/local/lib/python3.10/dist-packages (from werkzeug>=1.0.1->tensorboard<2.14,>=2.13->tensorflow) (2.1.3)\n",
            "Requirement already satisfied: pyasn1<0.6.0,>=0.4.6 in /usr/local/lib/python3.10/dist-packages (from pyasn1-modules>=0.2.1->google-auth<3,>=1.6.3->tensorboard<2.14,>=2.13->tensorflow) (0.5.0)\n",
            "Requirement already satisfied: oauthlib>=3.0.0 in /usr/local/lib/python3.10/dist-packages (from requests-oauthlib>=0.7.0->google-auth-oauthlib<1.1,>=0.5->tensorboard<2.14,>=2.13->tensorflow) (3.2.2)\n",
            "Requirement already satisfied: keras in /usr/local/lib/python3.10/dist-packages (2.13.1)\n",
            "Requirement already satisfied: keras.utils in /usr/local/lib/python3.10/dist-packages (1.0.13)\n",
            "Requirement already satisfied: Keras>=2.1.5 in /usr/local/lib/python3.10/dist-packages (from keras.utils) (2.13.1)\n"
          ]
        }
      ]
    },
    {
      "cell_type": "code",
      "execution_count": null,
      "metadata": {
        "id": "hp0CC6WfrVDX"
      },
      "outputs": [],
      "source": [
        "import matplotlib.pyplot as plt # загружаем библиотеку и для простоты обращения в коде называем её сокращенно plt\n",
        "import numpy as np\n",
        "import pandas as pd"
      ]
    },
    {
      "cell_type": "code",
      "source": [
        "import keras\n",
        "# Последовательный тип модели\n",
        "from keras.models import Sequential\n",
        "# Импортируем полносвязный слой, слои активации и слой, превращающий картинку в вектор\n",
        "from keras.layers import Dense, Activation"
      ],
      "metadata": {
        "id": "gS4B7P18uaCD"
      },
      "execution_count": null,
      "outputs": []
    },
    {
      "cell_type": "code",
      "source": [
        "# Эти библиотеки отключают лишние предупреждения от библиотек, в частности,\n",
        "# tensorflow, чтобы не засорять вывод наших результатов\n",
        "import os\n",
        "os.environ['TF_CPP_MIN_LOG_LEVEL'] = '3'\n",
        "from tensorflow.python.util import deprecation\n",
        "deprecation._PRINT_DEPRECATION_WARNINGS = False\n",
        "import warnings\n",
        "warnings.filterwarnings(\"ignore\")\n",
        "import tensorflow as tf"
      ],
      "metadata": {
        "id": "E7Ww3XO0uhFO"
      },
      "execution_count": null,
      "outputs": []
    },
    {
      "cell_type": "markdown",
      "source": [
        "## 1. Загрузим данные для обучения и тестирования"
      ],
      "metadata": {
        "id": "WG4EDm54FnQp"
      }
    },
    {
      "cell_type": "code",
      "source": [
        "%%capture\n",
        "!wget https://www.dropbox.com/s/jaea4smqjbmslsb/training_data.csv\n",
        "!wget https://www.dropbox.com/s/y1i45d72k9byzak/test_data.csv"
      ],
      "metadata": {
        "id": "1V-kHUeisKs1"
      },
      "execution_count": null,
      "outputs": []
    },
    {
      "cell_type": "code",
      "source": [
        "training_data = pd.read_csv('training_data.csv')\n",
        "test_data = pd.read_csv('test_data.csv')\n",
        "\n",
        "training_data.info()\n",
        "test_data.info()"
      ],
      "metadata": {
        "id": "TDIw1Quqs4YS",
        "colab": {
          "base_uri": "https://localhost:8080/"
        },
        "outputId": "ac28c759-2768-4570-bf42-533b8725db03"
      },
      "execution_count": null,
      "outputs": [
        {
          "output_type": "stream",
          "name": "stdout",
          "text": [
            "<class 'pandas.core.frame.DataFrame'>\n",
            "RangeIndex: 3308 entries, 0 to 3307\n",
            "Data columns (total 20 columns):\n",
            " #   Column                   Non-Null Count  Dtype  \n",
            "---  ------                   --------------  -----  \n",
            " 0   Age                      3308 non-null   int64  \n",
            " 1   BusinessTravel           3308 non-null   object \n",
            " 2   Department               3308 non-null   object \n",
            " 3   DistanceFromHome         3308 non-null   int64  \n",
            " 4   Education                3308 non-null   int64  \n",
            " 5   EducationField           3308 non-null   object \n",
            " 6   Gender                   3308 non-null   object \n",
            " 7   JobRole                  3308 non-null   object \n",
            " 8   MaritalStatus            3308 non-null   object \n",
            " 9   MonthlyIncome            3308 non-null   int64  \n",
            " 10  NumCompaniesWorked       3293 non-null   float64\n",
            " 11  PercentSalaryHike        3308 non-null   int64  \n",
            " 12  StandardHours            3308 non-null   int64  \n",
            " 13  StockOptionLevel         3308 non-null   int64  \n",
            " 14  TotalWorkingYears        3301 non-null   float64\n",
            " 15  TrainingTimesLastYear    3308 non-null   int64  \n",
            " 16  YearsAtCompany           3308 non-null   int64  \n",
            " 17  YearsSinceLastPromotion  3308 non-null   int64  \n",
            " 18  YearsWithCurrManager     3308 non-null   int64  \n",
            " 19  Attrition                3308 non-null   int64  \n",
            "dtypes: float64(2), int64(12), object(6)\n",
            "memory usage: 517.0+ KB\n",
            "<class 'pandas.core.frame.DataFrame'>\n",
            "RangeIndex: 1102 entries, 0 to 1101\n",
            "Data columns (total 20 columns):\n",
            " #   Column                   Non-Null Count  Dtype  \n",
            "---  ------                   --------------  -----  \n",
            " 0   Age                      1102 non-null   int64  \n",
            " 1   BusinessTravel           1102 non-null   object \n",
            " 2   Department               1102 non-null   object \n",
            " 3   DistanceFromHome         1102 non-null   int64  \n",
            " 4   Education                1102 non-null   int64  \n",
            " 5   EducationField           1102 non-null   object \n",
            " 6   Gender                   1102 non-null   object \n",
            " 7   JobRole                  1102 non-null   object \n",
            " 8   MaritalStatus            1102 non-null   object \n",
            " 9   MonthlyIncome            1102 non-null   int64  \n",
            " 10  NumCompaniesWorked       1098 non-null   float64\n",
            " 11  PercentSalaryHike        1102 non-null   int64  \n",
            " 12  StandardHours            1102 non-null   int64  \n",
            " 13  StockOptionLevel         1102 non-null   int64  \n",
            " 14  TotalWorkingYears        1100 non-null   float64\n",
            " 15  TrainingTimesLastYear    1102 non-null   int64  \n",
            " 16  YearsAtCompany           1102 non-null   int64  \n",
            " 17  YearsSinceLastPromotion  1102 non-null   int64  \n",
            " 18  YearsWithCurrManager     1102 non-null   int64  \n",
            " 19  Attrition                1102 non-null   int64  \n",
            "dtypes: float64(2), int64(12), object(6)\n",
            "memory usage: 172.3+ KB\n"
          ]
        }
      ]
    },
    {
      "cell_type": "markdown",
      "source": [
        "## 2. Предобработаем данные\n",
        "\n",
        "### 2.1. Удаление пропусков\n",
        "\n",
        " Реализуем стратегию удаления строк, в которых отсутствует хотя бы часть данных"
      ],
      "metadata": {
        "id": "uFQVLsz-GV57"
      }
    },
    {
      "cell_type": "code",
      "source": [
        "# Удалим пропуски в тренировочном наборе данных\n",
        "training_data.dropna(axis=0, inplace=True)\n",
        "training_data.shape"
      ],
      "metadata": {
        "colab": {
          "base_uri": "https://localhost:8080/"
        },
        "id": "yrdGKd57IQWC",
        "outputId": "e2c69b67-3c7b-40a3-8be9-e2ce256511a8"
      },
      "execution_count": null,
      "outputs": [
        {
          "output_type": "execute_result",
          "data": {
            "text/plain": [
              "(3286, 20)"
            ]
          },
          "metadata": {},
          "execution_count": 179
        }
      ]
    },
    {
      "cell_type": "code",
      "source": [
        "# Удалим пропуски в тестовом наборе данных\n",
        "test_data.dropna(axis=0, inplace=True)\n",
        "test_data.shape"
      ],
      "metadata": {
        "colab": {
          "base_uri": "https://localhost:8080/"
        },
        "id": "fOtWMxDxJuwV",
        "outputId": "85f3775e-1ef8-4054-de14-e9597b08d030"
      },
      "execution_count": null,
      "outputs": [
        {
          "output_type": "execute_result",
          "data": {
            "text/plain": [
              "(1096, 20)"
            ]
          },
          "metadata": {},
          "execution_count": 180
        }
      ]
    },
    {
      "cell_type": "markdown",
      "source": [
        "### Выделение целевого столбца"
      ],
      "metadata": {
        "id": "wWI2mTGWKrau"
      }
    },
    {
      "cell_type": "code",
      "source": [
        "# Выделяем в отдельный столбец целевой атрибут\n",
        "target_variable_name = 'Attrition'\n",
        "train_values = training_data[target_variable_name]\n",
        "test_values = test_data[target_variable_name]"
      ],
      "metadata": {
        "id": "E8pADCBQs_4L"
      },
      "execution_count": null,
      "outputs": []
    },
    {
      "cell_type": "code",
      "source": [
        "# Удаляем целевой атрибут из исходных наборов данных\n",
        "\n",
        "train_points, test_points = training_data.drop(target_variable_name, 1), test_data.drop(target_variable_name, 1)\n",
        "\n",
        "print(train_points.shape)\n",
        "print(test_points.shape)"
      ],
      "metadata": {
        "colab": {
          "base_uri": "https://localhost:8080/"
        },
        "id": "hqQnP31tEMHo",
        "outputId": "c6b07282-79de-454f-d9b7-d1511785e6d0"
      },
      "execution_count": null,
      "outputs": [
        {
          "output_type": "stream",
          "name": "stdout",
          "text": [
            "(3286, 19)\n",
            "(1096, 19)\n"
          ]
        }
      ]
    },
    {
      "cell_type": "markdown",
      "source": [
        "### 2.1. Замещение пропусков\n",
        "\n",
        "Замещаем пропущенные значения какими-то значениями (средние значения)."
      ],
      "metadata": {
        "id": "MoURsWlRs3Z7"
      }
    },
    {
      "cell_type": "code",
      "source": [
        "# TODO\n",
        "# Попробуйте найти и использовать специальный метод\n",
        "# для автоматического замещения пропущенных значения"
      ],
      "metadata": {
        "id": "YowfbgTEHytm"
      },
      "execution_count": null,
      "outputs": []
    },
    {
      "cell_type": "code",
      "source": [
        "train_points['EducationField'].value_counts()"
      ],
      "metadata": {
        "colab": {
          "base_uri": "https://localhost:8080/"
        },
        "id": "0xXr4A3kLl8W",
        "outputId": "40ae61a5-57a8-40d1-c754-c6f7ef261f97"
      },
      "execution_count": null,
      "outputs": [
        {
          "output_type": "execute_result",
          "data": {
            "text/plain": [
              "Life Sciences       1349\n",
              "Medical             1051\n",
              "Marketing            357\n",
              "Technical Degree     293\n",
              "Other                178\n",
              "Human Resources       58\n",
              "Name: EducationField, dtype: int64"
            ]
          },
          "metadata": {},
          "execution_count": 184
        }
      ]
    },
    {
      "cell_type": "markdown",
      "source": [
        "### 2.2. Удаление столбцов с текстовыми данными\n",
        "Удалим все столбцы, в которых содержатся текстовые данные.\n",
        "\n",
        "Их всего 6, попробуем обойтись без них."
      ],
      "metadata": {
        "id": "Q8NciUcBMuWH"
      }
    },
    {
      "cell_type": "code",
      "source": [
        "text_features = ['BusinessTravel', 'Department', 'EducationField', 'Gender', 'JobRole', 'MaritalStatus']"
      ],
      "metadata": {
        "id": "97J01lfuNGtu"
      },
      "execution_count": null,
      "outputs": []
    },
    {
      "cell_type": "code",
      "source": [
        "# TODO\n",
        "\n",
        "train_points.drop(columns=text_features, axis=1, inplace=True)\n",
        "\n",
        "\n",
        "# training_values = training_data[target_variable_name]\n",
        "# training_points = training_data.drop(target_variable_name, axis=1)\n",
        "\n",
        "# for column in text_features:\n",
        "#   train_points.drop(column, axis=1, inplace=True)\n",
        "#   # dropped_values = training_data[column]\n",
        "\n",
        "#   training_points = training_data.drop(column, axis=1)\n",
        "#   # print(column)\n",
        "#   # training_data.drop(column, axis=1, inplace = True)"
      ],
      "metadata": {
        "id": "A8KYZvdnzXRu"
      },
      "execution_count": null,
      "outputs": []
    },
    {
      "cell_type": "code",
      "source": [
        "test_points.drop(columns=text_features, axis=1, inplace=True)\n",
        "test_points.shape"
      ],
      "metadata": {
        "colab": {
          "base_uri": "https://localhost:8080/"
        },
        "id": "wUiJepLCPeDs",
        "outputId": "73e14cbb-b542-4ef8-d8f7-6962b4573470"
      },
      "execution_count": null,
      "outputs": [
        {
          "output_type": "execute_result",
          "data": {
            "text/plain": [
              "(1096, 13)"
            ]
          },
          "metadata": {},
          "execution_count": 187
        }
      ]
    },
    {
      "cell_type": "code",
      "source": [
        "input_size = [train_points.shape[1]]*2\n",
        "\n",
        "print(input_size)"
      ],
      "metadata": {
        "colab": {
          "base_uri": "https://localhost:8080/"
        },
        "id": "3Np-lxxjSGT0",
        "outputId": "0ca12355-231c-4c0c-8117-f33e917a9302"
      },
      "execution_count": null,
      "outputs": [
        {
          "output_type": "stream",
          "name": "stdout",
          "text": [
            "[13, 13]\n"
          ]
        }
      ]
    },
    {
      "cell_type": "code",
      "source": [
        "# Создаем пустую модель\n",
        "model = Sequential()\n",
        "\n",
        "\n",
        "# Добавляем скрытый полносвязный слой из 3 нейронов\n",
        "model.add(Dense(units=3, input_shape=input_size))\n",
        "#И активацию для скрытого слоя нейронов\n",
        "model.add(Activation('relu'))\n",
        "\n",
        "# Добавляем выходной полносвязный слой из 2 нейронов\n",
        "model.add(Dense(units=2))\n",
        "# Чтобы получить на выходе вероятности для каждого класса, выбираем активацию\n",
        "# softmax\n",
        "model.add(Activation('softmax'))\n",
        "\n",
        "model"
      ],
      "metadata": {
        "id": "Yj-zDeSGv7ca",
        "colab": {
          "base_uri": "https://localhost:8080/"
        },
        "outputId": "9610fadb-d994-4ce6-fc31-2ce0ac8e0161"
      },
      "execution_count": null,
      "outputs": [
        {
          "output_type": "execute_result",
          "data": {
            "text/plain": [
              "<keras.src.engine.sequential.Sequential at 0x7a1dab536890>"
            ]
          },
          "metadata": {},
          "execution_count": 189
        }
      ]
    },
    {
      "cell_type": "code",
      "source": [
        "# Компилируем модель с функцией ошибки categorical entropy, оптимизатором Адам\n",
        "# (оптимизатор, который со стандартным набором параметров может обучить эффективную\n",
        "#  нейросеть), и метрикой - количеством правильно угаданных цифр.\n",
        "model.compile(loss='sparse_categorical_crossentropy',\n",
        "              optimizer='adam',\n",
        "              metrics=['accuracy'])"
      ],
      "metadata": {
        "id": "Bf9DDvWCyEfM"
      },
      "execution_count": null,
      "outputs": []
    },
    {
      "cell_type": "code",
      "source": [
        "model.summary()"
      ],
      "metadata": {
        "colab": {
          "base_uri": "https://localhost:8080/"
        },
        "id": "FrtskXzhy4fj",
        "outputId": "cddd6e74-af85-49c1-8db2-5cb7508240d0"
      },
      "execution_count": null,
      "outputs": [
        {
          "output_type": "stream",
          "name": "stdout",
          "text": [
            "Model: \"sequential_6\"\n",
            "_________________________________________________________________\n",
            " Layer (type)                Output Shape              Param #   \n",
            "=================================================================\n",
            " dense_12 (Dense)            (None, 13, 3)             42        \n",
            "                                                                 \n",
            " activation_12 (Activation)  (None, 13, 3)             0         \n",
            "                                                                 \n",
            " dense_13 (Dense)            (None, 13, 2)             8         \n",
            "                                                                 \n",
            " activation_13 (Activation)  (None, 13, 2)             0         \n",
            "                                                                 \n",
            "=================================================================\n",
            "Total params: 50 (200.00 Byte)\n",
            "Trainable params: 50 (200.00 Byte)\n",
            "Non-trainable params: 0 (0.00 Byte)\n",
            "_________________________________________________________________\n"
          ]
        }
      ]
    },
    {
      "cell_type": "code",
      "source": [
        "print(train_points.shape, train_values.shape)\n",
        "\n",
        "output_col = pd.Series([0]*train_values.shape[0])\n",
        "# train_values['output_col'] = output_col\n",
        "\n",
        "print(train_points.shape, train_values.shape)"
      ],
      "metadata": {
        "colab": {
          "base_uri": "https://localhost:8080/"
        },
        "id": "JCg1DMEXUiaZ",
        "outputId": "9a26aa24-8ac3-4c48-91a8-53e5fcefc7cc"
      },
      "execution_count": null,
      "outputs": [
        {
          "output_type": "stream",
          "name": "stdout",
          "text": [
            "(3286, 13) (3286,)\n",
            "(3286, 13) (3286,)\n"
          ]
        }
      ]
    },
    {
      "cell_type": "code",
      "source": [
        "# Несовпадения размерностей входных параметров для обучения нейронной сети\n",
        "# train_points, train_values\n",
        "# TODO\n",
        "history_h = model.fit(train_points, train_values, epochs=10, batch_size=32, validation_data=(test_points, test_values))"
      ],
      "metadata": {
        "colab": {
          "base_uri": "https://localhost:8080/"
        },
        "id": "G8IqApO8zNus",
        "outputId": "15ec4c4d-e489-497e-cd0d-2c1f6e4adabf"
      },
      "execution_count": null,
      "outputs": [
        {
          "output_type": "stream",
          "name": "stdout",
          "text": [
            "Epoch 1/10\n",
            "103/103 [==============================] - 1s 4ms/step - loss: 8284.6943 - accuracy: 0.1598 - val_loss: 5518.2104 - val_accuracy: 0.1642\n",
            "Epoch 2/10\n",
            "103/103 [==============================] - 0s 3ms/step - loss: 3407.3767 - accuracy: 0.1598 - val_loss: 1716.4633 - val_accuracy: 0.1642\n",
            "Epoch 3/10\n",
            "103/103 [==============================] - 0s 3ms/step - loss: 539.6220 - accuracy: 0.3907 - val_loss: 0.5407 - val_accuracy: 0.8358\n",
            "Epoch 4/10\n",
            "103/103 [==============================] - 0s 4ms/step - loss: 0.5327 - accuracy: 0.8402 - val_loss: 0.5301 - val_accuracy: 0.8358\n",
            "Epoch 5/10\n",
            "103/103 [==============================] - 0s 3ms/step - loss: 0.5219 - accuracy: 0.8402 - val_loss: 0.5197 - val_accuracy: 0.8358\n",
            "Epoch 6/10\n",
            "103/103 [==============================] - 0s 2ms/step - loss: 0.5114 - accuracy: 0.8402 - val_loss: 0.5096 - val_accuracy: 0.8358\n",
            "Epoch 7/10\n",
            "103/103 [==============================] - 0s 3ms/step - loss: 0.5014 - accuracy: 0.8402 - val_loss: 0.5001 - val_accuracy: 0.8358\n",
            "Epoch 8/10\n",
            "103/103 [==============================] - 0s 3ms/step - loss: 0.4921 - accuracy: 0.8402 - val_loss: 0.4917 - val_accuracy: 0.8358\n",
            "Epoch 9/10\n",
            "103/103 [==============================] - 0s 2ms/step - loss: 0.4838 - accuracy: 0.8402 - val_loss: 0.4841 - val_accuracy: 0.8358\n",
            "Epoch 10/10\n",
            "103/103 [==============================] - 1s 5ms/step - loss: 0.4763 - accuracy: 0.8402 - val_loss: 0.4775 - val_accuracy: 0.8358\n"
          ]
        }
      ]
    },
    {
      "cell_type": "code",
      "source": [
        "model.evaluate(test_points, test_values)"
      ],
      "metadata": {
        "id": "u2Zbj8C96pyx",
        "colab": {
          "base_uri": "https://localhost:8080/"
        },
        "outputId": "7d428c99-5a79-4295-98b5-e0842249c66e"
      },
      "execution_count": null,
      "outputs": [
        {
          "output_type": "stream",
          "name": "stdout",
          "text": [
            "35/35 [==============================] - 0s 3ms/step - loss: 0.4775 - accuracy: 0.8358\n"
          ]
        },
        {
          "output_type": "execute_result",
          "data": {
            "text/plain": [
              "[0.47749194502830505, 0.8357664346694946]"
            ]
          },
          "metadata": {},
          "execution_count": 194
        }
      ]
    },
    {
      "cell_type": "code",
      "source": [
        "history_h.history.keys()"
      ],
      "metadata": {
        "colab": {
          "base_uri": "https://localhost:8080/"
        },
        "id": "StN16gXKD86Q",
        "outputId": "818ae578-e0d8-4eda-c6ac-7cba9244711e"
      },
      "execution_count": null,
      "outputs": [
        {
          "output_type": "execute_result",
          "data": {
            "text/plain": [
              "dict_keys(['loss', 'accuracy', 'val_loss', 'val_accuracy'])"
            ]
          },
          "metadata": {},
          "execution_count": 195
        }
      ]
    },
    {
      "cell_type": "code",
      "source": [
        "plt.plot(history_h.history['val_accuracy'], '-o', label='validation accuracy')\n",
        "plt.plot(history_h.history['accuracy'], '--s', label='training accuracy')\n",
        "plt.legend();"
      ],
      "metadata": {
        "colab": {
          "base_uri": "https://localhost:8080/",
          "height": 430
        },
        "id": "SgnjxMY9dR0q",
        "outputId": "27231731-87ec-49c6-a599-64cf36465937"
      },
      "execution_count": null,
      "outputs": [
        {
          "output_type": "display_data",
          "data": {
            "text/plain": [
              "<Figure size 640x480 with 1 Axes>"
            ],
            "image/png": "[encoded data removed]"
          },
          "metadata": {}
        }
      ]
    },
    {
      "cell_type": "markdown",
      "source": [
        "### Задание для самостоятельной работы\n",
        "\n",
        "1. После успешного обучения модели с помощью метода fit и тренировочных данных,  использовать функцию evaluate для оценки работы нейронной сети с тестовыми данными (проверить их формат\n",
        "и убедиться, что их структура аналогична тренировочным данным).\n",
        "\n",
        "2. Отобразить в отчете после этого задания какой результат точности был получен и при каких параметрах (количество эпох, размер батча и т. д.)\n",
        "\n",
        "3. Создать график зависимости точности работы сети в зависимости от кол-ва эпох (для тренировочной и тестовой выборок).\n",
        "\n",
        "4. Понять есть ли переобучение и от чего это зависит.\n",
        "\n",
        "5. Преобразовать с помощью LabelEncoder текстовые (категориальные признаки) и выполнить этапы обучения и тестирования с использованием этих данных и признаков."
      ],
      "metadata": {
        "id": "_p-qa5gk9PXN"
      }
    },
    {
      "cell_type": "code",
      "source": [],
      "metadata": {
        "id": "rnlo85F9-0SB"
      },
      "execution_count": null,
      "outputs": []
    }
  ]
}